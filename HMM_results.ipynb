{
 "cells": [
  {
   "cell_type": "code",
   "execution_count": 1,
   "id": "c85fdc5d",
   "metadata": {},
   "outputs": [],
   "source": [
    "# install packages\n",
    "\n",
    "\n",
    "# import packages\n",
    "\n",
    "import pandas as pd\n",
    "import numpy as np\n",
    "import pandas as pd\n",
    "import yfinance as yf\n",
    "import matplotlib.pyplot as plt\n",
    "from sklearn.metrics import mean_squared_error\n",
    "from sklearn.metrics import mean_absolute_percentage_error\n",
    "import seaborn as sns\n",
    "import pickle\n",
    "#hmm\n",
    "from hmmlearn import hmm\n",
    "\n",
    "\n",
    "\n",
    "# format\n",
    "\n",
    "# def stock_data(stock_name -> str):\n",
    "\n",
    "# Return train_data, test_data \n",
    "\n",
    "\n",
    "# def  model_function(train_data -> np.array, num_of_predictions -> int):\n",
    "\n",
    "# \tReturn prediction \n",
    "\n",
    "\n",
    "# def evaluation(test_data -> np.array, prediction -> np.array):\n",
    "\t\n",
    "# \tReturn metrics\n"
   ]
  },
  {
   "cell_type": "markdown",
   "id": "554e7d5e",
   "metadata": {},
   "source": [
    "# evaluation"
   ]
  },
  {
   "cell_type": "code",
   "execution_count": 2,
   "id": "cdaceec0",
   "metadata": {},
   "outputs": [],
   "source": [
    "def reject_outliers(data, m=1.5):\n",
    "    ceiling = np.mean(data)+ m * np.std(data)\n",
    "    floor = np.mean(data)- m * np.std(data)\n",
    "    \n",
    "    return np.clip(data,a_min = floor, a_max = ceiling)"
   ]
  },
  {
   "cell_type": "code",
   "execution_count": 3,
   "id": "00e6af53",
   "metadata": {},
   "outputs": [],
   "source": [
    "def evaluation_metrics(test_data, predictions,take_abs = True):\n",
    "    \n",
    "    if take_abs:\n",
    "        test_data = np.abs(test_data)\n",
    "        predictions = np.abs(predictions)\n",
    "    metrics = {}\n",
    "    \n",
    "    metrics['MAPE'] = mean_absolute_percentage_error(predictions,test_data)\n",
    "    metrics['MSE'] = mean_squared_error(test_data,predictions)\n",
    "    \n",
    "    return metrics"
   ]
  },
  {
   "cell_type": "markdown",
   "id": "a26f8322",
   "metadata": {},
   "source": [
    "# Models"
   ]
  },
  {
   "cell_type": "code",
   "execution_count": 4,
   "id": "530fbbe9",
   "metadata": {},
   "outputs": [],
   "source": [
    "def hmm_prediction(train_data,num_of_predictions):\n",
    "    hmm_model = hmm.GaussianHMM(n_components=2, covariance_type=\"full\", n_iter=1000)\n",
    "    hmm_model.fit(train_data)\n",
    "    \n",
    "    predict_state = hmm_model.predict(train_data)\n",
    "    \n",
    "    hmm_prediction = hmm_model.sample(num_of_predictions,random_state = predict_state[-1])\n",
    "    hmm_prediction_value = hmm_prediction[0]\n",
    "    hmm_prediction_states = hmm_prediction[1]\n",
    "    \n",
    "    return hmm_prediction_value"
   ]
  },
  {
   "cell_type": "markdown",
   "id": "4e1b9138",
   "metadata": {},
   "source": [
    "# Pipeline"
   ]
  },
  {
   "cell_type": "code",
   "execution_count": 5,
   "id": "c9fb7cfb",
   "metadata": {},
   "outputs": [],
   "source": [
    "a_file = open('processed_data/' + 'micro' + '_test.pkl', \"rb\")\n",
    "test_data = pickle.load(a_file)"
   ]
  },
  {
   "cell_type": "code",
   "execution_count": 6,
   "id": "c6b8755e",
   "metadata": {},
   "outputs": [
    {
     "data": {
      "text/html": [
       "<div>\n",
       "<style scoped>\n",
       "    .dataframe tbody tr th:only-of-type {\n",
       "        vertical-align: middle;\n",
       "    }\n",
       "\n",
       "    .dataframe tbody tr th {\n",
       "        vertical-align: top;\n",
       "    }\n",
       "\n",
       "    .dataframe thead th {\n",
       "        text-align: right;\n",
       "    }\n",
       "</style>\n",
       "<table border=\"1\" class=\"dataframe\">\n",
       "  <thead>\n",
       "    <tr style=\"text-align: right;\">\n",
       "      <th></th>\n",
       "      <th>0</th>\n",
       "      <th>1</th>\n",
       "    </tr>\n",
       "  </thead>\n",
       "  <tbody>\n",
       "    <tr>\n",
       "      <th>0</th>\n",
       "      <td>2021-01-04</td>\n",
       "      <td>-0.050381</td>\n",
       "    </tr>\n",
       "    <tr>\n",
       "      <th>1</th>\n",
       "      <td>2021-01-05</td>\n",
       "      <td>0.029328</td>\n",
       "    </tr>\n",
       "    <tr>\n",
       "      <th>2</th>\n",
       "      <td>2021-01-06</td>\n",
       "      <td>-0.055007</td>\n",
       "    </tr>\n",
       "    <tr>\n",
       "      <th>3</th>\n",
       "      <td>2021-01-07</td>\n",
       "      <td>-0.033244</td>\n",
       "    </tr>\n",
       "    <tr>\n",
       "      <th>4</th>\n",
       "      <td>2021-01-08</td>\n",
       "      <td>0.085279</td>\n",
       "    </tr>\n",
       "    <tr>\n",
       "      <th>...</th>\n",
       "      <td>...</td>\n",
       "      <td>...</td>\n",
       "    </tr>\n",
       "    <tr>\n",
       "      <th>232</th>\n",
       "      <td>2021-12-03</td>\n",
       "      <td>-0.019418</td>\n",
       "    </tr>\n",
       "    <tr>\n",
       "      <th>233</th>\n",
       "      <td>2021-12-06</td>\n",
       "      <td>-0.05609</td>\n",
       "    </tr>\n",
       "    <tr>\n",
       "      <th>234</th>\n",
       "      <td>2021-12-07</td>\n",
       "      <td>0.0</td>\n",
       "    </tr>\n",
       "    <tr>\n",
       "      <th>235</th>\n",
       "      <td>2021-12-08</td>\n",
       "      <td>0.037041</td>\n",
       "    </tr>\n",
       "    <tr>\n",
       "      <th>236</th>\n",
       "      <td>2021-12-09</td>\n",
       "      <td>0.009479</td>\n",
       "    </tr>\n",
       "  </tbody>\n",
       "</table>\n",
       "<p>237 rows × 2 columns</p>\n",
       "</div>"
      ],
      "text/plain": [
       "             0         1\n",
       "0   2021-01-04 -0.050381\n",
       "1   2021-01-05  0.029328\n",
       "2   2021-01-06 -0.055007\n",
       "3   2021-01-07 -0.033244\n",
       "4   2021-01-08  0.085279\n",
       "..         ...       ...\n",
       "232 2021-12-03 -0.019418\n",
       "233 2021-12-06  -0.05609\n",
       "234 2021-12-07       0.0\n",
       "235 2021-12-08  0.037041\n",
       "236 2021-12-09  0.009479\n",
       "\n",
       "[237 rows x 2 columns]"
      ]
     },
     "execution_count": 6,
     "metadata": {},
     "output_type": "execute_result"
    }
   ],
   "source": [
    "pd.DataFrame(test_data['NH'])"
   ]
  },
  {
   "cell_type": "code",
   "execution_count": 7,
   "id": "467f4959",
   "metadata": {},
   "outputs": [],
   "source": [
    "cap_list = ['nano','micro','small','medium','large','mega']"
   ]
  },
  {
   "cell_type": "code",
   "execution_count": 8,
   "id": "a0579bcb",
   "metadata": {},
   "outputs": [],
   "source": [
    "metrics_df_concat = pd.DataFrame()\n",
    "\n",
    "for cap_size in cap_list:\n",
    "    result_metric_dict = {}\n",
    "    \n",
    "    a_file = open('processed_data/' + cap_size + '_train.pkl', \"rb\")\n",
    "    train_data = pickle.load(a_file)\n",
    "    \n",
    "    a_file = open('processed_data/' + cap_size + '_test.pkl', \"rb\")\n",
    "    test_data = pickle.load(a_file)\n",
    "    \n",
    "    \n",
    "    for stock_ticker in train_data.keys():\n",
    "        #print(stock_ticker)\n",
    "        model_input = np.array(pd.DataFrame(train_data[stock_ticker]).dropna()[1])\n",
    "        actual_values = np.array(pd.DataFrame(test_data[stock_ticker]).dropna()[1])\n",
    "        \n",
    "        prediction = hmm_prediction(model_input.reshape(-1,1),len(actual_values))\n",
    "        result_metric_dict[stock_ticker] = evaluation_metrics(actual_values.reshape(-1,1),prediction)\n",
    "\n",
    "    metrics_df = pd.DataFrame(result_metric_dict).T\n",
    "    metrics_df['Cap_size'] = cap_size\n",
    "    \n",
    "    metrics_df_concat = metrics_df_concat.append(metrics_df)"
   ]
  },
  {
   "cell_type": "code",
   "execution_count": 9,
   "id": "5fc55672",
   "metadata": {},
   "outputs": [
    {
     "data": {
      "text/html": [
       "<div>\n",
       "<style scoped>\n",
       "    .dataframe tbody tr th:only-of-type {\n",
       "        vertical-align: middle;\n",
       "    }\n",
       "\n",
       "    .dataframe tbody tr th {\n",
       "        vertical-align: top;\n",
       "    }\n",
       "\n",
       "    .dataframe thead th {\n",
       "        text-align: right;\n",
       "    }\n",
       "</style>\n",
       "<table border=\"1\" class=\"dataframe\">\n",
       "  <thead>\n",
       "    <tr style=\"text-align: right;\">\n",
       "      <th></th>\n",
       "      <th>MAPE</th>\n",
       "      <th>MSE</th>\n",
       "      <th>Cap_size</th>\n",
       "    </tr>\n",
       "  </thead>\n",
       "  <tbody>\n",
       "    <tr>\n",
       "      <th>WVVIP</th>\n",
       "      <td>6.857298</td>\n",
       "      <td>0.000919</td>\n",
       "      <td>nano</td>\n",
       "    </tr>\n",
       "    <tr>\n",
       "      <th>CBIO</th>\n",
       "      <td>1.690550</td>\n",
       "      <td>0.002318</td>\n",
       "      <td>nano</td>\n",
       "    </tr>\n",
       "    <tr>\n",
       "      <th>CYCCP</th>\n",
       "      <td>9.139780</td>\n",
       "      <td>0.002535</td>\n",
       "      <td>nano</td>\n",
       "    </tr>\n",
       "    <tr>\n",
       "      <th>CLRB</th>\n",
       "      <td>5.147440</td>\n",
       "      <td>0.002733</td>\n",
       "      <td>nano</td>\n",
       "    </tr>\n",
       "    <tr>\n",
       "      <th>NSYS</th>\n",
       "      <td>8.000481</td>\n",
       "      <td>0.002489</td>\n",
       "      <td>nano</td>\n",
       "    </tr>\n",
       "    <tr>\n",
       "      <th>...</th>\n",
       "      <td>...</td>\n",
       "      <td>...</td>\n",
       "      <td>...</td>\n",
       "    </tr>\n",
       "    <tr>\n",
       "      <th>CSCO</th>\n",
       "      <td>4.086059</td>\n",
       "      <td>0.000322</td>\n",
       "      <td>mega</td>\n",
       "    </tr>\n",
       "    <tr>\n",
       "      <th>CMCSA</th>\n",
       "      <td>2.622136</td>\n",
       "      <td>0.000371</td>\n",
       "      <td>mega</td>\n",
       "    </tr>\n",
       "    <tr>\n",
       "      <th>INTC</th>\n",
       "      <td>2.968266</td>\n",
       "      <td>0.000541</td>\n",
       "      <td>mega</td>\n",
       "    </tr>\n",
       "    <tr>\n",
       "      <th>NFLX</th>\n",
       "      <td>2.626885</td>\n",
       "      <td>0.000502</td>\n",
       "      <td>mega</td>\n",
       "    </tr>\n",
       "    <tr>\n",
       "      <th>ADI</th>\n",
       "      <td>19.938136</td>\n",
       "      <td>0.000247</td>\n",
       "      <td>mega</td>\n",
       "    </tr>\n",
       "  </tbody>\n",
       "</table>\n",
       "<p>445 rows × 3 columns</p>\n",
       "</div>"
      ],
      "text/plain": [
       "            MAPE       MSE Cap_size\n",
       "WVVIP   6.857298  0.000919     nano\n",
       "CBIO    1.690550  0.002318     nano\n",
       "CYCCP   9.139780  0.002535     nano\n",
       "CLRB    5.147440  0.002733     nano\n",
       "NSYS    8.000481  0.002489     nano\n",
       "...          ...       ...      ...\n",
       "CSCO    4.086059  0.000322     mega\n",
       "CMCSA   2.622136  0.000371     mega\n",
       "INTC    2.968266  0.000541     mega\n",
       "NFLX    2.626885  0.000502     mega\n",
       "ADI    19.938136  0.000247     mega\n",
       "\n",
       "[445 rows x 3 columns]"
      ]
     },
     "execution_count": 9,
     "metadata": {},
     "output_type": "execute_result"
    }
   ],
   "source": [
    "metrics_df_concat"
   ]
  },
  {
   "cell_type": "markdown",
   "id": "8abf593b",
   "metadata": {},
   "source": [
    "#  MAPE by cap"
   ]
  },
  {
   "cell_type": "code",
   "execution_count": 10,
   "id": "70458420",
   "metadata": {},
   "outputs": [
    {
     "data": {
      "text/plain": [
       "<AxesSubplot:xlabel='MAPE', ylabel='Count'>"
      ]
     },
     "execution_count": 10,
     "metadata": {},
     "output_type": "execute_result"
    },
    {
     "data": {
      "image/png": "[encoded data removed]",
      "text/plain": [
       "<Figure size 432x288 with 1 Axes>"
      ]
     },
     "metadata": {
      "needs_background": "light"
     },
     "output_type": "display_data"
    }
   ],
   "source": [
    "sns.histplot(data = metrics_df_concat\n",
    "            ,x = 'MAPE'\n",
    "            ,alpha = .7\n",
    "            ,hue = 'Cap_size'\n",
    "            ,kde=True\n",
    "            )"
   ]
  },
  {
   "cell_type": "code",
   "execution_count": 11,
   "id": "9ee8d19e",
   "metadata": {},
   "outputs": [
    {
     "data": {
      "text/plain": [
       "Text(0, 0.5, 'Cap Size')"
      ]
     },
     "execution_count": 11,
     "metadata": {},
     "output_type": "execute_result"
    },
    {
     "data": {
      "image/png": "[encoded data removed]",
      "text/plain": [
       "<Figure size 432x288 with 1 Axes>"
      ]
     },
     "metadata": {
      "needs_background": "light"
     },
     "output_type": "display_data"
    }
   ],
   "source": [
    "sns.boxplot(data = metrics_df_concat\n",
    "            ,x = 'MAPE'\n",
    "            ,y = 'Cap_size'\n",
    "            )\n",
    "plt.xscale('log')\n",
    "plt.ylabel('Cap Size')"
   ]
  },
  {
   "cell_type": "code",
   "execution_count": 12,
   "id": "476479fe",
   "metadata": {},
   "outputs": [],
   "source": [
    "metrics_df_concat_truncated = metrics_df_concat[metrics_df_concat['MAPE']<100]"
   ]
  },
  {
   "cell_type": "code",
   "execution_count": 13,
   "id": "a3f9f7be",
   "metadata": {},
   "outputs": [
    {
     "data": {
      "text/plain": [
       "<AxesSubplot:xlabel='MAPE', ylabel='Count'>"
      ]
     },
     "execution_count": 13,
     "metadata": {},
     "output_type": "execute_result"
    },
    {
     "data": {
      "image/png": "[encoded data removed]",
      "text/plain": [
       "<Figure size 432x288 with 1 Axes>"
      ]
     },
     "metadata": {
      "needs_background": "light"
     },
     "output_type": "display_data"
    }
   ],
   "source": [
    "sns.histplot(data = metrics_df_concat_truncated\n",
    "            ,x = 'MAPE'\n",
    "            ,alpha = .7\n",
    "            ,hue = 'Cap_size'\n",
    "            ,kde=True\n",
    "            )"
   ]
  },
  {
   "cell_type": "code",
   "execution_count": 19,
   "id": "54ecdf92",
   "metadata": {},
   "outputs": [
    {
     "data": {
      "image/png": "[encoded data removed]",
      "text/plain": [
       "<Figure size 432x288 with 1 Axes>"
      ]
     },
     "metadata": {
      "needs_background": "light"
     },
     "output_type": "display_data"
    }
   ],
   "source": [
    "sns.boxplot(data = metrics_df_concat_truncated\n",
    "            ,x = 'MAPE'\n",
    "            ,y = 'Cap_size' \n",
    "            )\n",
    "plt.xscale('log')\n"
   ]
  },
  {
   "cell_type": "markdown",
   "id": "613b9103",
   "metadata": {},
   "source": [
    "# MSE by cap"
   ]
  },
  {
   "cell_type": "code",
   "execution_count": 15,
   "id": "61e3477c",
   "metadata": {},
   "outputs": [
    {
     "data": {
      "text/plain": [
       "Text(0, 0.5, 'Cap Size')"
      ]
     },
     "execution_count": 15,
     "metadata": {},
     "output_type": "execute_result"
    },
    {
     "data": {
      "image/png": "[encoded data removed]",
      "text/plain": [
       "<Figure size 432x288 with 1 Axes>"
      ]
     },
     "metadata": {
      "needs_background": "light"
     },
     "output_type": "display_data"
    }
   ],
   "source": [
    "sns.boxplot(data = metrics_df_concat_truncated\n",
    "            ,x = 'MSE'\n",
    "            ,y = 'Cap_size'\n",
    "            )\n",
    "plt.ylabel('Cap Size')"
   ]
  },
  {
   "cell_type": "markdown",
   "id": "c60a3cb9",
   "metadata": {},
   "source": [
    "# statistics"
   ]
  },
  {
   "cell_type": "code",
   "execution_count": 16,
   "id": "7b841452",
   "metadata": {},
   "outputs": [
    {
     "data": {
      "text/html": [
       "<div>\n",
       "<style scoped>\n",
       "    .dataframe tbody tr th:only-of-type {\n",
       "        vertical-align: middle;\n",
       "    }\n",
       "\n",
       "    .dataframe tbody tr th {\n",
       "        vertical-align: top;\n",
       "    }\n",
       "\n",
       "    .dataframe thead th {\n",
       "        text-align: right;\n",
       "    }\n",
       "</style>\n",
       "<table border=\"1\" class=\"dataframe\">\n",
       "  <thead>\n",
       "    <tr style=\"text-align: right;\">\n",
       "      <th></th>\n",
       "      <th>MAPE</th>\n",
       "      <th>MSE</th>\n",
       "    </tr>\n",
       "    <tr>\n",
       "      <th>Cap_size</th>\n",
       "      <th></th>\n",
       "      <th></th>\n",
       "    </tr>\n",
       "  </thead>\n",
       "  <tbody>\n",
       "    <tr>\n",
       "      <th>nano</th>\n",
       "      <td>8.248564</td>\n",
       "      <td>0.005964</td>\n",
       "    </tr>\n",
       "    <tr>\n",
       "      <th>micro</th>\n",
       "      <td>6.049290</td>\n",
       "      <td>0.002655</td>\n",
       "    </tr>\n",
       "    <tr>\n",
       "      <th>small</th>\n",
       "      <td>5.528778</td>\n",
       "      <td>0.001454</td>\n",
       "    </tr>\n",
       "    <tr>\n",
       "      <th>medium</th>\n",
       "      <td>8.716597</td>\n",
       "      <td>0.000993</td>\n",
       "    </tr>\n",
       "    <tr>\n",
       "      <th>large</th>\n",
       "      <td>5.291710</td>\n",
       "      <td>0.001061</td>\n",
       "    </tr>\n",
       "    <tr>\n",
       "      <th>mega</th>\n",
       "      <td>4.370087</td>\n",
       "      <td>0.000859</td>\n",
       "    </tr>\n",
       "  </tbody>\n",
       "</table>\n",
       "</div>"
      ],
      "text/plain": [
       "              MAPE       MSE\n",
       "Cap_size                    \n",
       "nano      8.248564  0.005964\n",
       "micro     6.049290  0.002655\n",
       "small     5.528778  0.001454\n",
       "medium    8.716597  0.000993\n",
       "large     5.291710  0.001061\n",
       "mega      4.370087  0.000859"
      ]
     },
     "execution_count": 16,
     "metadata": {},
     "output_type": "execute_result"
    }
   ],
   "source": [
    "metrics_df_concat.groupby('Cap_size').mean().reindex(cap_list)"
   ]
  },
  {
   "cell_type": "code",
   "execution_count": 17,
   "id": "b30b4fd9",
   "metadata": {},
   "outputs": [
    {
     "data": {
      "text/html": [
       "<div>\n",
       "<style scoped>\n",
       "    .dataframe tbody tr th:only-of-type {\n",
       "        vertical-align: middle;\n",
       "    }\n",
       "\n",
       "    .dataframe tbody tr th {\n",
       "        vertical-align: top;\n",
       "    }\n",
       "\n",
       "    .dataframe thead th {\n",
       "        text-align: right;\n",
       "    }\n",
       "</style>\n",
       "<table border=\"1\" class=\"dataframe\">\n",
       "  <thead>\n",
       "    <tr style=\"text-align: right;\">\n",
       "      <th></th>\n",
       "      <th>MAPE</th>\n",
       "      <th>MSE</th>\n",
       "    </tr>\n",
       "    <tr>\n",
       "      <th>Cap_size</th>\n",
       "      <th></th>\n",
       "      <th></th>\n",
       "    </tr>\n",
       "  </thead>\n",
       "  <tbody>\n",
       "    <tr>\n",
       "      <th>nano</th>\n",
       "      <td>16.415397</td>\n",
       "      <td>0.008902</td>\n",
       "    </tr>\n",
       "    <tr>\n",
       "      <th>micro</th>\n",
       "      <td>7.572413</td>\n",
       "      <td>0.002545</td>\n",
       "    </tr>\n",
       "    <tr>\n",
       "      <th>small</th>\n",
       "      <td>5.760910</td>\n",
       "      <td>0.001299</td>\n",
       "    </tr>\n",
       "    <tr>\n",
       "      <th>medium</th>\n",
       "      <td>24.325453</td>\n",
       "      <td>0.000955</td>\n",
       "    </tr>\n",
       "    <tr>\n",
       "      <th>large</th>\n",
       "      <td>4.551727</td>\n",
       "      <td>0.002627</td>\n",
       "    </tr>\n",
       "    <tr>\n",
       "      <th>mega</th>\n",
       "      <td>4.007275</td>\n",
       "      <td>0.002013</td>\n",
       "    </tr>\n",
       "  </tbody>\n",
       "</table>\n",
       "</div>"
      ],
      "text/plain": [
       "               MAPE       MSE\n",
       "Cap_size                     \n",
       "nano      16.415397  0.008902\n",
       "micro      7.572413  0.002545\n",
       "small      5.760910  0.001299\n",
       "medium    24.325453  0.000955\n",
       "large      4.551727  0.002627\n",
       "mega       4.007275  0.002013"
      ]
     },
     "execution_count": 17,
     "metadata": {},
     "output_type": "execute_result"
    }
   ],
   "source": [
    "metrics_df_concat.groupby('Cap_size').std().reindex(cap_list)"
   ]
  },
  {
   "cell_type": "code",
   "execution_count": null,
   "id": "146d6c20",
   "metadata": {},
   "outputs": [],
   "source": []
  }
 ],
 "metadata": {
  "kernelspec": {
   "display_name": "Python 3",
   "language": "python",
   "name": "python3"
  },
  "language_info": {
   "codemirror_mode": {
    "name": "ipython",
    "version": 3
   },
   "file_extension": ".py",
   "mimetype": "text/x-python",
   "name": "python",
   "nbconvert_exporter": "python",
   "pygments_lexer": "ipython3",
   "version": "3.8.8"
  }
 },
 "nbformat": 4,
 "nbformat_minor": 5
}
