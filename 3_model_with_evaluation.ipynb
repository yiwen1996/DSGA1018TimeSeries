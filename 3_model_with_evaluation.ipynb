#install package

#import package


def stock_data(stock_name -> str):

Return train_data, test_data 


def  model_function(train_data -> np.array, num_of_predictions -> int):

	Return prediction 


def evaluation(test_data -> np.array, prediction -> np.array):
	
	Return metrics
