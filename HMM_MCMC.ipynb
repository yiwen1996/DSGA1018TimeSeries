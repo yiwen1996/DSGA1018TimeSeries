{
 "cells": [
  {
   "cell_type": "code",
   "execution_count": 1,
   "id": "7a608e87",
   "metadata": {
    "colab": {
     "base_uri": "https://localhost:8080/"
    },
    "id": "ab2dc39b",
    "outputId": "5ebab24d-4258-47b7-ea28-413e8321801e"
   },
   "outputs": [],
   "source": [
    "from statsmodels.tsa.regime_switching.markov_autoregression import MarkovAutoregression\n",
    "import numpy as np\n",
    "from hmmlearn import hmm\n",
    "import yfinance as yf\n",
    "import pandas as pd\n",
    "import matplotlib.pyplot as plt\n",
    "from sklearn.metrics import mean_squared_error\n",
    "from sklearn.metrics import mean_absolute_percentage_error\n",
    "import statsmodels.api as sm\n",
    "import seaborn as sns\n"
   ]
  },
  {
   "cell_type": "code",
   "execution_count": 2,
   "id": "0c7d552c",
   "metadata": {},
   "outputs": [],
   "source": [
    "# def  model_function(train_data -> np.array, num_of_predictions -> int):\n",
    "\n",
    "# \tReturn prediction "
   ]
  },
  {
   "cell_type": "code",
   "execution_count": 3,
   "id": "37967467",
   "metadata": {
    "colab": {
     "base_uri": "https://localhost:8080/"
    },
    "id": "c2712d43",
    "outputId": "84d1db26-bc9e-4142-e852-00728c7483b6"
   },
   "outputs": [
    {
     "name": "stdout",
     "output_type": "stream",
     "text": [
      "[*********************100%***********************]  1 of 1 completed\n"
     ]
    }
   ],
   "source": [
    "googl = yf.download(\"GOOGL\", start=\"2018-01-01\", end=\"2021-12-31\").reset_index()\n",
    "googl.Date = pd.to_datetime(googl.Date)"
   ]
  },
  {
   "cell_type": "code",
   "execution_count": 4,
   "id": "11771fd3",
   "metadata": {},
   "outputs": [
    {
     "data": {
      "text/html": [
       "<div>\n",
       "<style scoped>\n",
       "    .dataframe tbody tr th:only-of-type {\n",
       "        vertical-align: middle;\n",
       "    }\n",
       "\n",
       "    .dataframe tbody tr th {\n",
       "        vertical-align: top;\n",
       "    }\n",
       "\n",
       "    .dataframe thead th {\n",
       "        text-align: right;\n",
       "    }\n",
       "</style>\n",
       "<table border=\"1\" class=\"dataframe\">\n",
       "  <thead>\n",
       "    <tr style=\"text-align: right;\">\n",
       "      <th></th>\n",
       "      <th>Date</th>\n",
       "      <th>Open</th>\n",
       "      <th>High</th>\n",
       "      <th>Low</th>\n",
       "      <th>Close</th>\n",
       "      <th>Adj Close</th>\n",
       "      <th>Volume</th>\n",
       "    </tr>\n",
       "  </thead>\n",
       "  <tbody>\n",
       "    <tr>\n",
       "      <th>0</th>\n",
       "      <td>2018-01-02</td>\n",
       "      <td>1053.020020</td>\n",
       "      <td>1075.979980</td>\n",
       "      <td>1053.020020</td>\n",
       "      <td>1073.209961</td>\n",
       "      <td>1073.209961</td>\n",
       "      <td>1588300</td>\n",
       "    </tr>\n",
       "    <tr>\n",
       "      <th>1</th>\n",
       "      <td>2018-01-03</td>\n",
       "      <td>1073.930054</td>\n",
       "      <td>1096.099976</td>\n",
       "      <td>1073.430054</td>\n",
       "      <td>1091.520020</td>\n",
       "      <td>1091.520020</td>\n",
       "      <td>1565900</td>\n",
       "    </tr>\n",
       "    <tr>\n",
       "      <th>2</th>\n",
       "      <td>2018-01-04</td>\n",
       "      <td>1097.089966</td>\n",
       "      <td>1104.079956</td>\n",
       "      <td>1094.260010</td>\n",
       "      <td>1095.760010</td>\n",
       "      <td>1095.760010</td>\n",
       "      <td>1302600</td>\n",
       "    </tr>\n",
       "    <tr>\n",
       "      <th>3</th>\n",
       "      <td>2018-01-05</td>\n",
       "      <td>1103.449951</td>\n",
       "      <td>1113.579956</td>\n",
       "      <td>1101.800049</td>\n",
       "      <td>1110.290039</td>\n",
       "      <td>1110.290039</td>\n",
       "      <td>1512500</td>\n",
       "    </tr>\n",
       "    <tr>\n",
       "      <th>4</th>\n",
       "      <td>2018-01-08</td>\n",
       "      <td>1111.000000</td>\n",
       "      <td>1119.160034</td>\n",
       "      <td>1110.000000</td>\n",
       "      <td>1114.209961</td>\n",
       "      <td>1114.209961</td>\n",
       "      <td>1232200</td>\n",
       "    </tr>\n",
       "    <tr>\n",
       "      <th>...</th>\n",
       "      <td>...</td>\n",
       "      <td>...</td>\n",
       "      <td>...</td>\n",
       "      <td>...</td>\n",
       "      <td>...</td>\n",
       "      <td>...</td>\n",
       "      <td>...</td>\n",
       "    </tr>\n",
       "    <tr>\n",
       "      <th>993</th>\n",
       "      <td>2021-12-10</td>\n",
       "      <td>2974.000000</td>\n",
       "      <td>2979.550049</td>\n",
       "      <td>2934.080078</td>\n",
       "      <td>2960.030029</td>\n",
       "      <td>2960.030029</td>\n",
       "      <td>1222900</td>\n",
       "    </tr>\n",
       "    <tr>\n",
       "      <th>994</th>\n",
       "      <td>2021-12-13</td>\n",
       "      <td>2955.629883</td>\n",
       "      <td>2959.399902</td>\n",
       "      <td>2910.350098</td>\n",
       "      <td>2916.530029</td>\n",
       "      <td>2916.530029</td>\n",
       "      <td>1353500</td>\n",
       "    </tr>\n",
       "    <tr>\n",
       "      <th>995</th>\n",
       "      <td>2021-12-14</td>\n",
       "      <td>2879.360107</td>\n",
       "      <td>2889.600098</td>\n",
       "      <td>2824.300049</td>\n",
       "      <td>2878.139893</td>\n",
       "      <td>2878.139893</td>\n",
       "      <td>1922300</td>\n",
       "    </tr>\n",
       "    <tr>\n",
       "      <th>996</th>\n",
       "      <td>2021-12-15</td>\n",
       "      <td>2868.179932</td>\n",
       "      <td>2934.419922</td>\n",
       "      <td>2833.560059</td>\n",
       "      <td>2928.820068</td>\n",
       "      <td>2928.820068</td>\n",
       "      <td>1818500</td>\n",
       "    </tr>\n",
       "    <tr>\n",
       "      <th>997</th>\n",
       "      <td>2021-12-16</td>\n",
       "      <td>2943.409912</td>\n",
       "      <td>2953.534912</td>\n",
       "      <td>2872.139893</td>\n",
       "      <td>2887.040039</td>\n",
       "      <td>2887.040039</td>\n",
       "      <td>1179230</td>\n",
       "    </tr>\n",
       "  </tbody>\n",
       "</table>\n",
       "<p>998 rows × 7 columns</p>\n",
       "</div>"
      ],
      "text/plain": [
       "          Date         Open         High          Low        Close  \\\n",
       "0   2018-01-02  1053.020020  1075.979980  1053.020020  1073.209961   \n",
       "1   2018-01-03  1073.930054  1096.099976  1073.430054  1091.520020   \n",
       "2   2018-01-04  1097.089966  1104.079956  1094.260010  1095.760010   \n",
       "3   2018-01-05  1103.449951  1113.579956  1101.800049  1110.290039   \n",
       "4   2018-01-08  1111.000000  1119.160034  1110.000000  1114.209961   \n",
       "..         ...          ...          ...          ...          ...   \n",
       "993 2021-12-10  2974.000000  2979.550049  2934.080078  2960.030029   \n",
       "994 2021-12-13  2955.629883  2959.399902  2910.350098  2916.530029   \n",
       "995 2021-12-14  2879.360107  2889.600098  2824.300049  2878.139893   \n",
       "996 2021-12-15  2868.179932  2934.419922  2833.560059  2928.820068   \n",
       "997 2021-12-16  2943.409912  2953.534912  2872.139893  2887.040039   \n",
       "\n",
       "       Adj Close   Volume  \n",
       "0    1073.209961  1588300  \n",
       "1    1091.520020  1565900  \n",
       "2    1095.760010  1302600  \n",
       "3    1110.290039  1512500  \n",
       "4    1114.209961  1232200  \n",
       "..           ...      ...  \n",
       "993  2960.030029  1222900  \n",
       "994  2916.530029  1353500  \n",
       "995  2878.139893  1922300  \n",
       "996  2928.820068  1818500  \n",
       "997  2887.040039  1179230  \n",
       "\n",
       "[998 rows x 7 columns]"
      ]
     },
     "execution_count": 4,
     "metadata": {},
     "output_type": "execute_result"
    }
   ],
   "source": [
    "googl"
   ]
  },
  {
   "cell_type": "code",
   "execution_count": 5,
   "id": "3f9fe1ab",
   "metadata": {
    "id": "b8ac6be8"
   },
   "outputs": [],
   "source": [
    "daily_return = googl['Return'] = np.log(googl.Close /googl.Close.shift(-1)).dropna()\n",
    "#(np.log(googl.Close /googl.Close.shift(-1))).dropna()\n",
    "# np.log(googl.Close.pct_change()).dropna()"
   ]
  },
  {
   "cell_type": "code",
   "execution_count": 6,
   "id": "33feffaa",
   "metadata": {
    "colab": {
     "base_uri": "https://localhost:8080/",
     "height": 306
    },
    "id": "aa94ae59",
    "outputId": "4064efc6-0d4b-4cce-cbdd-41d044b6f9c2"
   },
   "outputs": [
    {
     "data": {
      "text/plain": [
       "[<matplotlib.lines.Line2D at 0x7fe8b778a580>]"
      ]
     },
     "execution_count": 6,
     "metadata": {},
     "output_type": "execute_result"
    },
    {
     "data": {
      "image/png": "[encoded data removed]",
      "text/plain": [
       "<Figure size 432x288 with 1 Axes>"
      ]
     },
     "metadata": {
      "needs_background": "light"
     },
     "output_type": "display_data"
    }
   ],
   "source": [
    "plt.plot(daily_return)"
   ]
  },
  {
   "cell_type": "code",
   "execution_count": 7,
   "id": "d503116f",
   "metadata": {},
   "outputs": [
    {
     "data": {
      "text/html": [
       "<div>\n",
       "<style scoped>\n",
       "    .dataframe tbody tr th:only-of-type {\n",
       "        vertical-align: middle;\n",
       "    }\n",
       "\n",
       "    .dataframe tbody tr th {\n",
       "        vertical-align: top;\n",
       "    }\n",
       "\n",
       "    .dataframe thead th {\n",
       "        text-align: right;\n",
       "    }\n",
       "</style>\n",
       "<table border=\"1\" class=\"dataframe\">\n",
       "  <thead>\n",
       "    <tr style=\"text-align: right;\">\n",
       "      <th></th>\n",
       "      <th>Date</th>\n",
       "      <th>Open</th>\n",
       "      <th>High</th>\n",
       "      <th>Low</th>\n",
       "      <th>Close</th>\n",
       "      <th>Adj Close</th>\n",
       "      <th>Volume</th>\n",
       "      <th>Return</th>\n",
       "    </tr>\n",
       "  </thead>\n",
       "  <tbody>\n",
       "    <tr>\n",
       "      <th>756</th>\n",
       "      <td>2021-01-04</td>\n",
       "      <td>1760.000000</td>\n",
       "      <td>1762.489990</td>\n",
       "      <td>1707.140015</td>\n",
       "      <td>1726.130005</td>\n",
       "      <td>1726.130005</td>\n",
       "      <td>1866200</td>\n",
       "      <td>-0.008032</td>\n",
       "    </tr>\n",
       "    <tr>\n",
       "      <th>757</th>\n",
       "      <td>2021-01-05</td>\n",
       "      <td>1725.089966</td>\n",
       "      <td>1746.829956</td>\n",
       "      <td>1716.900024</td>\n",
       "      <td>1740.050049</td>\n",
       "      <td>1740.050049</td>\n",
       "      <td>1018000</td>\n",
       "      <td>0.009917</td>\n",
       "    </tr>\n",
       "    <tr>\n",
       "      <th>758</th>\n",
       "      <td>2021-01-06</td>\n",
       "      <td>1700.260010</td>\n",
       "      <td>1743.969971</td>\n",
       "      <td>1696.099976</td>\n",
       "      <td>1722.880005</td>\n",
       "      <td>1722.880005</td>\n",
       "      <td>2329400</td>\n",
       "      <td>-0.029431</td>\n",
       "    </tr>\n",
       "    <tr>\n",
       "      <th>759</th>\n",
       "      <td>2021-01-07</td>\n",
       "      <td>1726.760010</td>\n",
       "      <td>1777.819946</td>\n",
       "      <td>1726.760010</td>\n",
       "      <td>1774.339966</td>\n",
       "      <td>1774.339966</td>\n",
       "      <td>2096800</td>\n",
       "      <td>-0.013152</td>\n",
       "    </tr>\n",
       "    <tr>\n",
       "      <th>760</th>\n",
       "      <td>2021-01-08</td>\n",
       "      <td>1777.160034</td>\n",
       "      <td>1799.359985</td>\n",
       "      <td>1761.219971</td>\n",
       "      <td>1797.829956</td>\n",
       "      <td>1797.829956</td>\n",
       "      <td>1774200</td>\n",
       "      <td>0.023377</td>\n",
       "    </tr>\n",
       "    <tr>\n",
       "      <th>...</th>\n",
       "      <td>...</td>\n",
       "      <td>...</td>\n",
       "      <td>...</td>\n",
       "      <td>...</td>\n",
       "      <td>...</td>\n",
       "      <td>...</td>\n",
       "      <td>...</td>\n",
       "      <td>...</td>\n",
       "    </tr>\n",
       "    <tr>\n",
       "      <th>993</th>\n",
       "      <td>2021-12-10</td>\n",
       "      <td>2974.000000</td>\n",
       "      <td>2979.550049</td>\n",
       "      <td>2934.080078</td>\n",
       "      <td>2960.030029</td>\n",
       "      <td>2960.030029</td>\n",
       "      <td>1222900</td>\n",
       "      <td>0.014805</td>\n",
       "    </tr>\n",
       "    <tr>\n",
       "      <th>994</th>\n",
       "      <td>2021-12-13</td>\n",
       "      <td>2955.629883</td>\n",
       "      <td>2959.399902</td>\n",
       "      <td>2910.350098</td>\n",
       "      <td>2916.530029</td>\n",
       "      <td>2916.530029</td>\n",
       "      <td>1353500</td>\n",
       "      <td>0.013250</td>\n",
       "    </tr>\n",
       "    <tr>\n",
       "      <th>995</th>\n",
       "      <td>2021-12-14</td>\n",
       "      <td>2879.360107</td>\n",
       "      <td>2889.600098</td>\n",
       "      <td>2824.300049</td>\n",
       "      <td>2878.139893</td>\n",
       "      <td>2878.139893</td>\n",
       "      <td>1922300</td>\n",
       "      <td>-0.017455</td>\n",
       "    </tr>\n",
       "    <tr>\n",
       "      <th>996</th>\n",
       "      <td>2021-12-15</td>\n",
       "      <td>2868.179932</td>\n",
       "      <td>2934.419922</td>\n",
       "      <td>2833.560059</td>\n",
       "      <td>2928.820068</td>\n",
       "      <td>2928.820068</td>\n",
       "      <td>1818500</td>\n",
       "      <td>0.014368</td>\n",
       "    </tr>\n",
       "    <tr>\n",
       "      <th>997</th>\n",
       "      <td>2021-12-16</td>\n",
       "      <td>2943.409912</td>\n",
       "      <td>2953.534912</td>\n",
       "      <td>2872.139893</td>\n",
       "      <td>2887.040039</td>\n",
       "      <td>2887.040039</td>\n",
       "      <td>1179230</td>\n",
       "      <td>NaN</td>\n",
       "    </tr>\n",
       "  </tbody>\n",
       "</table>\n",
       "<p>242 rows × 8 columns</p>\n",
       "</div>"
      ],
      "text/plain": [
       "          Date         Open         High          Low        Close  \\\n",
       "756 2021-01-04  1760.000000  1762.489990  1707.140015  1726.130005   \n",
       "757 2021-01-05  1725.089966  1746.829956  1716.900024  1740.050049   \n",
       "758 2021-01-06  1700.260010  1743.969971  1696.099976  1722.880005   \n",
       "759 2021-01-07  1726.760010  1777.819946  1726.760010  1774.339966   \n",
       "760 2021-01-08  1777.160034  1799.359985  1761.219971  1797.829956   \n",
       "..         ...          ...          ...          ...          ...   \n",
       "993 2021-12-10  2974.000000  2979.550049  2934.080078  2960.030029   \n",
       "994 2021-12-13  2955.629883  2959.399902  2910.350098  2916.530029   \n",
       "995 2021-12-14  2879.360107  2889.600098  2824.300049  2878.139893   \n",
       "996 2021-12-15  2868.179932  2934.419922  2833.560059  2928.820068   \n",
       "997 2021-12-16  2943.409912  2953.534912  2872.139893  2887.040039   \n",
       "\n",
       "       Adj Close   Volume    Return  \n",
       "756  1726.130005  1866200 -0.008032  \n",
       "757  1740.050049  1018000  0.009917  \n",
       "758  1722.880005  2329400 -0.029431  \n",
       "759  1774.339966  2096800 -0.013152  \n",
       "760  1797.829956  1774200  0.023377  \n",
       "..           ...      ...       ...  \n",
       "993  2960.030029  1222900  0.014805  \n",
       "994  2916.530029  1353500  0.013250  \n",
       "995  2878.139893  1922300 -0.017455  \n",
       "996  2928.820068  1818500  0.014368  \n",
       "997  2887.040039  1179230       NaN  \n",
       "\n",
       "[242 rows x 8 columns]"
      ]
     },
     "execution_count": 7,
     "metadata": {},
     "output_type": "execute_result"
    }
   ],
   "source": [
    "googl[googl.Date>='2021-01-01']"
   ]
  },
  {
   "cell_type": "code",
   "execution_count": 8,
   "id": "be530934",
   "metadata": {
    "id": "5deef96f"
   },
   "outputs": [],
   "source": [
    "train,test = googl[googl.Date<'2021-01-01'].Return,googl[googl.Date>='2021-01-01'].Return\n",
    "# train,test = daily_return[:2800],daily_return[-238:]"
   ]
  },
  {
   "cell_type": "code",
   "execution_count": 9,
   "id": "a16e8354",
   "metadata": {
    "id": "e2f079b4"
   },
   "outputs": [],
   "source": [
    "train_np = np.array(train).reshape(-1,1)\n",
    "test_np = np.array(test[:-1]).reshape(-1,1)"
   ]
  },
  {
   "cell_type": "markdown",
   "id": "6b0ed74e",
   "metadata": {
    "id": "db751b9f"
   },
   "source": [
    "# HMM "
   ]
  },
  {
   "cell_type": "code",
   "execution_count": 10,
   "id": "fff3c2e7",
   "metadata": {},
   "outputs": [],
   "source": [
    "def hmm_prediction_MCMC(train_data,num_of_predictions,num_samples = 100):\n",
    "    \n",
    "    hmm_prediction_values_list = []\n",
    "    hmm_prediction_states_list = []\n",
    "    all_df = pd.DataFrame()\n",
    "    #print(train_data)\n",
    "    for i in range(num_samples):\n",
    "        #print(i)\n",
    "        \n",
    "        hmm_model = hmm.GaussianHMM(n_components=3, covariance_type=\"full\", n_iter=1000)\n",
    "        hmm_model.fit(train_data)\n",
    "\n",
    "        predict_state = hmm_model.predict(train_data)\n",
    "\n",
    "        hmm_prediction = hmm_model.sample(num_of_predictions,random_state = predict_state[-1])\n",
    "        hmm_prediction_values = hmm_prediction[0]\n",
    "        hmm_prediction_states = hmm_prediction[1]\n",
    "        \n",
    "        hmm_prediction_values_list.append(hmm_prediction_values) \n",
    "        hmm_prediction_states_list.append(hmm_prediction_states)\n",
    "        \n",
    "        temp_df = pd.DataFrame([np.repeat(i,num_of_predictions),np.arange(num_of_predictions),hmm_prediction_values.squeeze()]).T\n",
    "        \n",
    "        all_df = pd.concat([all_df, temp_df])\n",
    "        \n",
    "    return hmm_prediction_values_list,hmm_prediction_states_list,all_df"
   ]
  },
  {
   "cell_type": "code",
   "execution_count": 11,
   "id": "140a6688",
   "metadata": {},
   "outputs": [],
   "source": [
    "value_list, states_list,mcmc_df = hmm_prediction_MCMC(train_np,len(test_np))"
   ]
  },
  {
   "cell_type": "code",
   "execution_count": 12,
   "id": "f51e7ac0",
   "metadata": {},
   "outputs": [
    {
     "data": {
      "text/html": [
       "<div>\n",
       "<style scoped>\n",
       "    .dataframe tbody tr th:only-of-type {\n",
       "        vertical-align: middle;\n",
       "    }\n",
       "\n",
       "    .dataframe tbody tr th {\n",
       "        vertical-align: top;\n",
       "    }\n",
       "\n",
       "    .dataframe thead th {\n",
       "        text-align: right;\n",
       "    }\n",
       "</style>\n",
       "<table border=\"1\" class=\"dataframe\">\n",
       "  <thead>\n",
       "    <tr style=\"text-align: right;\">\n",
       "      <th></th>\n",
       "      <th>repeat</th>\n",
       "      <th>time</th>\n",
       "      <th>value</th>\n",
       "    </tr>\n",
       "  </thead>\n",
       "  <tbody>\n",
       "    <tr>\n",
       "      <th>0</th>\n",
       "      <td>0.0</td>\n",
       "      <td>0.0</td>\n",
       "      <td>-0.001417</td>\n",
       "    </tr>\n",
       "    <tr>\n",
       "      <th>1</th>\n",
       "      <td>0.0</td>\n",
       "      <td>1.0</td>\n",
       "      <td>-0.007563</td>\n",
       "    </tr>\n",
       "    <tr>\n",
       "      <th>2</th>\n",
       "      <td>0.0</td>\n",
       "      <td>2.0</td>\n",
       "      <td>-0.015746</td>\n",
       "    </tr>\n",
       "    <tr>\n",
       "      <th>3</th>\n",
       "      <td>0.0</td>\n",
       "      <td>3.0</td>\n",
       "      <td>-0.009897</td>\n",
       "    </tr>\n",
       "    <tr>\n",
       "      <th>4</th>\n",
       "      <td>0.0</td>\n",
       "      <td>4.0</td>\n",
       "      <td>0.007461</td>\n",
       "    </tr>\n",
       "    <tr>\n",
       "      <th>...</th>\n",
       "      <td>...</td>\n",
       "      <td>...</td>\n",
       "      <td>...</td>\n",
       "    </tr>\n",
       "    <tr>\n",
       "      <th>236</th>\n",
       "      <td>99.0</td>\n",
       "      <td>236.0</td>\n",
       "      <td>-0.015550</td>\n",
       "    </tr>\n",
       "    <tr>\n",
       "      <th>237</th>\n",
       "      <td>99.0</td>\n",
       "      <td>237.0</td>\n",
       "      <td>-0.003296</td>\n",
       "    </tr>\n",
       "    <tr>\n",
       "      <th>238</th>\n",
       "      <td>99.0</td>\n",
       "      <td>238.0</td>\n",
       "      <td>0.012345</td>\n",
       "    </tr>\n",
       "    <tr>\n",
       "      <th>239</th>\n",
       "      <td>99.0</td>\n",
       "      <td>239.0</td>\n",
       "      <td>0.007235</td>\n",
       "    </tr>\n",
       "    <tr>\n",
       "      <th>240</th>\n",
       "      <td>99.0</td>\n",
       "      <td>240.0</td>\n",
       "      <td>0.015663</td>\n",
       "    </tr>\n",
       "  </tbody>\n",
       "</table>\n",
       "<p>24100 rows × 3 columns</p>\n",
       "</div>"
      ],
      "text/plain": [
       "     repeat   time     value\n",
       "0       0.0    0.0 -0.001417\n",
       "1       0.0    1.0 -0.007563\n",
       "2       0.0    2.0 -0.015746\n",
       "3       0.0    3.0 -0.009897\n",
       "4       0.0    4.0  0.007461\n",
       "..      ...    ...       ...\n",
       "236    99.0  236.0 -0.015550\n",
       "237    99.0  237.0 -0.003296\n",
       "238    99.0  238.0  0.012345\n",
       "239    99.0  239.0  0.007235\n",
       "240    99.0  240.0  0.015663\n",
       "\n",
       "[24100 rows x 3 columns]"
      ]
     },
     "execution_count": 12,
     "metadata": {},
     "output_type": "execute_result"
    }
   ],
   "source": [
    "mcmc_df.columns = ['repeat','time','value']\n",
    "mcmc_df"
   ]
  },
  {
   "cell_type": "code",
   "execution_count": 21,
   "id": "75ed634b",
   "metadata": {},
   "outputs": [
    {
     "data": {
      "image/png": "[encoded data removed]",
      "text/plain": [
       "<Figure size 432x288 with 1 Axes>"
      ]
     },
     "metadata": {
      "needs_background": "light"
     },
     "output_type": "display_data"
    }
   ],
   "source": [
    "sns.lineplot(data=mcmc_df,x = 'time',y = 'value',ci = 'sd',label= 'Prediction' )\n",
    "plt.plot(test_np,color = 'r',alpha=0.5,label = 'True Value')\n",
    "\n",
    "plt.ylabel('Volatility')\n",
    "plt.xlabel('Days in 2021')\n",
    "plt.title('MCMC HMM prediction of Volatility of Google')\n",
    "\n",
    "plt.legend()\n",
    "plt.show()"
   ]
  },
  {
   "cell_type": "code",
   "execution_count": 14,
   "id": "b87a3913",
   "metadata": {},
   "outputs": [],
   "source": [
    "np_all = np.array(value_list).squeeze()"
   ]
  },
  {
   "cell_type": "code",
   "execution_count": 15,
   "id": "07426da9",
   "metadata": {},
   "outputs": [],
   "source": [
    "mean_np_all = np_all.mean(axis = 0)\n",
    "std_np_all = np_all.std(axis = 0)"
   ]
  },
  {
   "cell_type": "code",
   "execution_count": 16,
   "id": "1c1bd3d3",
   "metadata": {},
   "outputs": [
    {
     "data": {
      "text/plain": [
       "array([ 8.06030986e-04,  4.49245174e-03, -1.44054213e-02,  2.51115656e-02,\n",
       "        2.14056734e-02, -9.19382675e-03, -7.36587870e-03,  6.12713390e-03,\n",
       "        4.63756820e-03,  6.42953849e-03, -6.61333109e-03,  4.20252626e-03,\n",
       "       -2.23239098e-02,  1.60592754e-03, -3.18728964e-03, -1.34280128e-02,\n",
       "        3.45845994e-03, -1.34915702e-02,  7.32010854e-03, -4.58832447e-03,\n",
       "       -7.02099561e-03,  3.53681577e-03, -2.75641267e-03, -2.35642220e-02,\n",
       "       -2.42840198e-03,  6.11326833e-03, -6.02906111e-03,  1.32845214e-03,\n",
       "        7.51947443e-03, -4.42739971e-03, -5.66718620e-03,  4.22574248e-03,\n",
       "        8.82457021e-03, -1.63450764e-02,  8.50851468e-03, -6.14917238e-03,\n",
       "       -4.13943919e-03, -1.21752638e-02, -3.35319462e-03, -2.06035610e-02,\n",
       "       -5.79811721e-03,  7.33507330e-03, -2.00991184e-02,  9.47912895e-03,\n",
       "        4.07531440e-03, -1.16853798e-02,  1.36005842e-02,  1.45053880e-02,\n",
       "       -2.90714413e-03,  6.12798220e-03,  4.20701658e-03, -2.68741905e-05,\n",
       "        2.02815319e-02,  3.02396792e-03,  1.58202064e-02, -1.23079778e-02,\n",
       "       -1.92346770e-03, -3.20683905e-03, -9.34195536e-03,  7.09396198e-03,\n",
       "       -8.33416867e-03, -1.90512488e-02,  1.96532978e-02,  7.87500169e-03,\n",
       "       -6.77489027e-03, -3.98879533e-02, -8.56529540e-03,  5.92174872e-03,\n",
       "       -2.61564482e-03,  8.24393492e-03,  1.39667424e-02,  1.11561839e-02,\n",
       "        2.43195209e-02, -1.67898706e-02,  4.91461818e-02, -2.05746803e-02,\n",
       "       -4.86135840e-03, -1.80332359e-02,  2.83578037e-02,  7.00204054e-03,\n",
       "        1.74455689e-02,  4.42453977e-02, -1.28294683e-02, -2.23234249e-02,\n",
       "       -1.61530487e-02, -6.49077026e-03, -8.72222339e-03, -6.74841311e-04,\n",
       "        1.04274201e-02, -8.75110282e-03,  4.82389513e-03, -4.97272917e-03,\n",
       "       -7.74388052e-03,  1.38013739e-02,  1.47678802e-03,  8.90990985e-03,\n",
       "       -6.64293175e-03,  1.24944493e-02, -7.48733164e-03,  8.96126334e-03,\n",
       "       -1.45652449e-02, -1.30675776e-02,  1.43931316e-03,  1.21735231e-03,\n",
       "        6.13844625e-03, -3.85084473e-04, -2.95697889e-03, -9.01238834e-03,\n",
       "       -3.94813790e-03,  9.07885834e-03,  5.14624029e-03, -4.00671518e-04,\n",
       "        6.95669986e-03,  9.43540344e-04, -4.39111908e-03,  1.57034202e-02,\n",
       "       -1.34629090e-02,  7.75015712e-03,  3.12064936e-02, -2.10311698e-03,\n",
       "        5.14347532e-03,  7.38260381e-03, -7.57374538e-03, -2.17270093e-02,\n",
       "        7.49062851e-03, -4.28686991e-03, -5.49617614e-04,  3.98022371e-03,\n",
       "       -1.15452355e-02,  9.46721127e-03, -5.03918160e-03, -5.68631739e-04,\n",
       "        1.58078782e-03, -1.42368110e-02, -5.86612674e-03, -2.05446899e-04,\n",
       "       -2.76668288e-04, -1.81846015e-02, -7.79184295e-03,  2.25109657e-02,\n",
       "        1.34510497e-02,  5.45387168e-03, -1.70181970e-02,  4.56027821e-03,\n",
       "       -7.72805160e-03, -1.75310702e-02, -3.90525042e-03,  2.28642674e-03,\n",
       "       -1.42084845e-02, -6.35639138e-04,  1.90611685e-02, -2.25432165e-03,\n",
       "        8.16525465e-04, -5.39012948e-03, -2.57784611e-03,  1.76614660e-02,\n",
       "        3.41423753e-02, -4.96374055e-03,  3.22557974e-02,  7.36946641e-03,\n",
       "        2.13065402e-02,  1.49633294e-02,  6.42909316e-05,  1.46406791e-02,\n",
       "       -1.47346037e-03,  4.29638850e-03,  1.37717221e-02, -1.89387036e-02,\n",
       "       -1.89150578e-02, -9.53782894e-03,  2.49024453e-03, -4.63634885e-03,\n",
       "       -7.89297597e-03, -1.16401700e-02, -1.64367720e-02, -8.58493246e-03,\n",
       "       -1.20308676e-02,  4.87064267e-03, -1.45031975e-02, -5.03114800e-03,\n",
       "        4.72275910e-03,  9.11252184e-03,  1.00167906e-02, -1.21952442e-02,\n",
       "       -2.49362475e-02, -8.18708223e-04,  8.65931024e-04,  1.34031584e-02,\n",
       "        2.86720741e-03,  2.85634313e-03,  2.01895704e-03, -1.15874877e-02,\n",
       "       -6.70847067e-04,  1.26215713e-02,  1.28828272e-02,  1.73947097e-02,\n",
       "       -8.13389760e-03,  6.34956260e-03, -2.99873132e-03, -2.62588918e-03,\n",
       "        3.57254186e-04, -3.49613779e-03, -4.82183285e-03, -1.26242695e-03,\n",
       "        9.41264957e-03,  1.54133433e-02, -1.80005198e-02, -6.96557307e-03,\n",
       "       -1.16431172e-02,  4.78405810e-03, -1.49562893e-02,  7.48051445e-03,\n",
       "        2.59754211e-02, -1.29143354e-02, -1.15985277e-02,  3.21188844e-03,\n",
       "        1.20263212e-02, -2.80936683e-02, -1.93647517e-02,  1.54852988e-03,\n",
       "        4.96401024e-03,  9.22352114e-03,  1.99129649e-02, -2.19020992e-02,\n",
       "        1.05702033e-02, -3.69565514e-02, -6.18913438e-03,  2.50522727e-03,\n",
       "       -1.11545121e-02, -1.32786982e-03,  2.07384083e-02,  4.15826461e-02,\n",
       "        2.75820844e-03,  8.57593545e-03, -3.95491878e-03,  3.23629750e-03,\n",
       "       -9.89851707e-03, -1.11279209e-02, -1.74164600e-04, -2.30183171e-03,\n",
       "        8.15088343e-03])"
      ]
     },
     "execution_count": 16,
     "metadata": {},
     "output_type": "execute_result"
    }
   ],
   "source": [
    "mean_np_all"
   ]
  },
  {
   "cell_type": "code",
   "execution_count": 17,
   "id": "be2cc057",
   "metadata": {},
   "outputs": [
    {
     "data": {
      "text/plain": [
       "0.4979253112033195"
      ]
     },
     "execution_count": 17,
     "metadata": {},
     "output_type": "execute_result"
    }
   ],
   "source": [
    "np.sum((test_np.squeeze()<(mean_np_all+std_np_all))*(test_np.squeeze()>(mean_np_all-std_np_all)))/len(test_np)"
   ]
  },
  {
   "cell_type": "code",
   "execution_count": null,
   "id": "84c2a092",
   "metadata": {},
   "outputs": [],
   "source": []
  }
 ],
 "metadata": {
  "kernelspec": {
   "display_name": "Python 3",
   "language": "python",
   "name": "python3"
  },
  "language_info": {
   "codemirror_mode": {
    "name": "ipython",
    "version": 3
   },
   "file_extension": ".py",
   "mimetype": "text/x-python",
   "name": "python",
   "nbconvert_exporter": "python",
   "pygments_lexer": "ipython3",
   "version": "3.8.8"
  }
 },
 "nbformat": 4,
 "nbformat_minor": 5
}
