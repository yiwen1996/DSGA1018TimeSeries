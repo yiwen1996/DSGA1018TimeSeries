{
 "cells": [
  {
   "cell_type": "code",
   "execution_count": null,
   "id": "7a608e87",
   "metadata": {
    "colab": {
     "base_uri": "https://localhost:8080/"
    },
    "id": "ab2dc39b",
    "outputId": "5ebab24d-4258-47b7-ea28-413e8321801e"
   },
   "outputs": [],
   "source": [
    "from statsmodels.tsa.regime_switching.markov_autoregression import MarkovAutoregression\n",
    "import numpy as np\n",
    "from hmmlearn import hmm\n",
    "import yfinance as yf\n",
    "import pandas as pd\n",
    "import matplotlib.pyplot as plt\n",
    "from sklearn.metrics import mean_squared_error\n",
    "from sklearn.metrics import mean_absolute_percentage_error\n",
    "import statsmodels.api as sm\n",
    "import seaborn as sns\n"
   ]
  },
  {
   "cell_type": "code",
   "execution_count": null,
   "id": "0c7d552c",
   "metadata": {},
   "outputs": [],
   "source": [
    "# def  model_function(train_data -> np.array, num_of_predictions -> int):\n",
    "\n",
    "# \tReturn prediction "
   ]
  },
  {
   "cell_type": "code",
   "execution_count": null,
   "id": "37967467",
   "metadata": {
    "colab": {
     "base_uri": "https://localhost:8080/"
    },
    "id": "c2712d43",
    "outputId": "84d1db26-bc9e-4142-e852-00728c7483b6"
   },
   "outputs": [],
   "source": [
    "googl = yf.download(\"GOOGL\", start=\"2018-01-01\", end=\"2021-12-31\").reset_index()\n",
    "googl.Date = pd.to_datetime(googl.Date)"
   ]
  },
  {
   "cell_type": "code",
   "execution_count": null,
   "id": "11771fd3",
   "metadata": {},
   "outputs": [],
   "source": [
    "googl"
   ]
  },
  {
   "cell_type": "code",
   "execution_count": null,
   "id": "3f9fe1ab",
   "metadata": {
    "id": "b8ac6be8"
   },
   "outputs": [],
   "source": [
    "daily_return = googl['Return'] = np.log(googl.Close /googl.Close.shift(-1)).dropna()\n",
    "#(np.log(googl.Close /googl.Close.shift(-1))).dropna()\n",
    "# np.log(googl.Close.pct_change()).dropna()"
   ]
  },
  {
   "cell_type": "code",
   "execution_count": null,
   "id": "33feffaa",
   "metadata": {
    "colab": {
     "base_uri": "https://localhost:8080/",
     "height": 306
    },
    "id": "aa94ae59",
    "outputId": "4064efc6-0d4b-4cce-cbdd-41d044b6f9c2"
   },
   "outputs": [],
   "source": [
    "plt.plot(daily_return)"
   ]
  },
  {
   "cell_type": "code",
   "execution_count": null,
   "id": "d503116f",
   "metadata": {},
   "outputs": [],
   "source": [
    "googl[googl.Date>='2021-01-01']"
   ]
  },
  {
   "cell_type": "code",
   "execution_count": null,
   "id": "be530934",
   "metadata": {
    "id": "5deef96f"
   },
   "outputs": [],
   "source": [
    "train,test = googl[googl.Date<'2021-01-01'].Return,googl[googl.Date>='2021-01-01'].Return\n",
    "# train,test = daily_return[:2800],daily_return[-238:]"
   ]
  },
  {
   "cell_type": "code",
   "execution_count": null,
   "id": "a16e8354",
   "metadata": {
    "id": "e2f079b4"
   },
   "outputs": [],
   "source": [
    "train_np = np.array(train).reshape(-1,1)\n",
    "test_np = np.array(test[:-1]).reshape(-1,1)"
   ]
  },
  {
   "cell_type": "markdown",
   "id": "6b0ed74e",
   "metadata": {
    "id": "db751b9f"
   },
   "source": [
    "# HMM "
   ]
  },
  {
   "cell_type": "code",
   "execution_count": null,
   "id": "fff3c2e7",
   "metadata": {},
   "outputs": [],
   "source": [
    "def hmm_prediction_MCMC(train_data,num_of_predictions,num_samples = 100):\n",
    "    \n",
    "    hmm_prediction_values_list = []\n",
    "    hmm_prediction_states_list = []\n",
    "    all_df = pd.DataFrame()\n",
    "    #print(train_data)\n",
    "    for i in range(num_samples):\n",
    "        #print(i)\n",
    "        \n",
    "        hmm_model = hmm.GaussianHMM(n_components=3, covariance_type=\"full\", n_iter=1000)\n",
    "        hmm_model.fit(train_data)\n",
    "\n",
    "        predict_state = hmm_model.predict(train_data)\n",
    "\n",
    "        hmm_prediction = hmm_model.sample(num_of_predictions,random_state = predict_state[-1])\n",
    "        hmm_prediction_values = hmm_prediction[0]\n",
    "        hmm_prediction_states = hmm_prediction[1]\n",
    "        \n",
    "        hmm_prediction_values_list.append(hmm_prediction_values) \n",
    "        hmm_prediction_states_list.append(hmm_prediction_states)\n",
    "        \n",
    "        temp_df = pd.DataFrame([np.repeat(i,num_of_predictions),np.arange(num_of_predictions),hmm_prediction_values.squeeze()]).T\n",
    "        \n",
    "        all_df = pd.concat([all_df, temp_df])\n",
    "        \n",
    "    return hmm_prediction_values_list,hmm_prediction_states_list,all_df"
   ]
  },
  {
   "cell_type": "code",
   "execution_count": null,
   "id": "140a6688",
   "metadata": {},
   "outputs": [],
   "source": [
    "value_list, states_list,mcmc_df = hmm_prediction_MCMC(train_np,len(test_np))"
   ]
  },
  {
   "cell_type": "code",
   "execution_count": null,
   "id": "f51e7ac0",
   "metadata": {},
   "outputs": [],
   "source": [
    "mcmc_df.columns = ['repeat','time','value']\n",
    "mcmc_df"
   ]
  },
  {
   "cell_type": "code",
   "execution_count": null,
   "id": "75ed634b",
   "metadata": {},
   "outputs": [],
   "source": [
    "sns.lineplot(data=mcmc_df,x = 'time',y = 'value',ci = 'sd' )\n",
    "plt.plot(test_np,color = 'r',alpha=0.5,label = 'True Value')\n",
    "plt.show()"
   ]
  },
  {
   "cell_type": "code",
   "execution_count": null,
   "id": "b87a3913",
   "metadata": {},
   "outputs": [],
   "source": [
    "np_all = np.array(value_list).squeeze()"
   ]
  },
  {
   "cell_type": "code",
   "execution_count": null,
   "id": "07426da9",
   "metadata": {},
   "outputs": [],
   "source": [
    "mean_np_all = np_all.mean(axis = 0)\n",
    "std_np_all = np_all.std(axis = 0)"
   ]
  },
  {
   "cell_type": "code",
   "execution_count": null,
   "id": "1c1bd3d3",
   "metadata": {},
   "outputs": [],
   "source": [
    "mean_np_all"
   ]
  },
  {
   "cell_type": "code",
   "execution_count": null,
   "id": "be2cc057",
   "metadata": {},
   "outputs": [],
   "source": [
    "np.sum((test_np.squeeze()<(mean_np_all+std_np_all))*(test_np.squeeze()>(mean_np_all-std_np_all)))/len(test_np)"
   ]
  },
  {
   "cell_type": "code",
   "execution_count": null,
   "id": "84c2a092",
   "metadata": {},
   "outputs": [],
   "source": []
  }
 ],
 "metadata": {
  "kernelspec": {
   "display_name": "Python 3 (ipykernel)",
   "language": "python",
   "name": "python3"
  },
  "language_info": {
   "codemirror_mode": {
    "name": "ipython",
    "version": 3
   },
   "file_extension": ".py",
   "mimetype": "text/x-python",
   "name": "python",
   "nbconvert_exporter": "python",
   "pygments_lexer": "ipython3",
   "version": "3.8.12"
  }
 },
 "nbformat": 4,
 "nbformat_minor": 5
}
