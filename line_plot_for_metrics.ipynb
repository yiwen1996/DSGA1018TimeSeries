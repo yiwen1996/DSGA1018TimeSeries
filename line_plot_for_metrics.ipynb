{
 "cells": [
  {
   "cell_type": "code",
   "execution_count": 38,
   "id": "d0e2ef61",
   "metadata": {},
   "outputs": [],
   "source": [
    "import numpy as np\n",
    "import seaborn as sns\n",
    "import pandas as pd\n",
    "import matplotlib.pyplot as plt "
   ]
  },
  {
   "cell_type": "code",
   "execution_count": 61,
   "id": "922a638f",
   "metadata": {},
   "outputs": [],
   "source": [
    "mse = pd.read_csv('metrics mean/mse_mape ts project - mse.csv')\n",
    "mse = mse.rename(columns={'Unnamed: 0': 'Market cap'})"
   ]
  },
  {
   "cell_type": "code",
   "execution_count": 62,
   "id": "74301f8b",
   "metadata": {},
   "outputs": [],
   "source": [
    "mse = mse.set_index('Market cap')"
   ]
  },
  {
   "cell_type": "code",
   "execution_count": 63,
   "id": "12ce694f",
   "metadata": {},
   "outputs": [
    {
     "data": {
      "text/html": [
       "<div>\n",
       "<style scoped>\n",
       "    .dataframe tbody tr th:only-of-type {\n",
       "        vertical-align: middle;\n",
       "    }\n",
       "\n",
       "    .dataframe tbody tr th {\n",
       "        vertical-align: top;\n",
       "    }\n",
       "\n",
       "    .dataframe thead th {\n",
       "        text-align: right;\n",
       "    }\n",
       "</style>\n",
       "<table border=\"1\" class=\"dataframe\">\n",
       "  <thead>\n",
       "    <tr style=\"text-align: right;\">\n",
       "      <th></th>\n",
       "      <th>ARIMA</th>\n",
       "      <th>HMM</th>\n",
       "      <th>GARCH</th>\n",
       "    </tr>\n",
       "    <tr>\n",
       "      <th>Market cap</th>\n",
       "      <th></th>\n",
       "      <th></th>\n",
       "      <th></th>\n",
       "    </tr>\n",
       "  </thead>\n",
       "  <tbody>\n",
       "    <tr>\n",
       "      <th>nano</th>\n",
       "      <td>0.08182</td>\n",
       "      <td>0.005964</td>\n",
       "      <td>0.420822</td>\n",
       "    </tr>\n",
       "    <tr>\n",
       "      <th>micro</th>\n",
       "      <td>0.00191</td>\n",
       "      <td>0.002655</td>\n",
       "      <td>0.001629</td>\n",
       "    </tr>\n",
       "    <tr>\n",
       "      <th>small</th>\n",
       "      <td>0.00124</td>\n",
       "      <td>0.001454</td>\n",
       "      <td>0.000982</td>\n",
       "    </tr>\n",
       "    <tr>\n",
       "      <th>medium</th>\n",
       "      <td>0.00085</td>\n",
       "      <td>0.000993</td>\n",
       "      <td>0.000697</td>\n",
       "    </tr>\n",
       "    <tr>\n",
       "      <th>large</th>\n",
       "      <td>0.00050</td>\n",
       "      <td>0.001061</td>\n",
       "      <td>0.000834</td>\n",
       "    </tr>\n",
       "    <tr>\n",
       "      <th>mega</th>\n",
       "      <td>0.00028</td>\n",
       "      <td>0.000859</td>\n",
       "      <td>0.000720</td>\n",
       "    </tr>\n",
       "  </tbody>\n",
       "</table>\n",
       "</div>"
      ],
      "text/plain": [
       "              ARIMA       HMM     GARCH\n",
       "Market cap                             \n",
       "nano        0.08182  0.005964  0.420822\n",
       "micro       0.00191  0.002655  0.001629\n",
       "small       0.00124  0.001454  0.000982\n",
       "medium      0.00085  0.000993  0.000697\n",
       "large       0.00050  0.001061  0.000834\n",
       "mega        0.00028  0.000859  0.000720"
      ]
     },
     "execution_count": 63,
     "metadata": {},
     "output_type": "execute_result"
    }
   ],
   "source": [
    "mse"
   ]
  },
  {
   "cell_type": "code",
   "execution_count": 78,
   "id": "51da9905",
   "metadata": {},
   "outputs": [
    {
     "data": {
      "text/plain": [
       "Text(0.5, 1.0, 'MSE comparison of the three models on predicting volatility')"
      ]
     },
     "execution_count": 78,
     "metadata": {},
     "output_type": "execute_result"
    },
    {
     "data": {
      "image/png": "[encoded data removed]",
      "text/plain": [
       "<Figure size 432x288 with 1 Axes>"
      ]
     },
     "metadata": {
      "needs_background": "light"
     },
     "output_type": "display_data"
    }
   ],
   "source": [
    "mse.plot()\n",
    "plt.yscale('log')\n",
    "plt.ylabel('MSE')\n",
    "plt.title('MSE comparison of the three models on predicting volatility')"
   ]
  },
  {
   "cell_type": "code",
   "execution_count": 67,
   "id": "057fc86d",
   "metadata": {},
   "outputs": [],
   "source": [
    "mape = pd.read_csv('metrics mean/mse_mape ts project - mape.csv')\n",
    "mape = mape.rename(columns={'Unnamed: 0': 'Market cap'})"
   ]
  },
  {
   "cell_type": "code",
   "execution_count": 68,
   "id": "95db4a3f",
   "metadata": {},
   "outputs": [],
   "source": [
    "mape = mape.set_index('Market cap')"
   ]
  },
  {
   "cell_type": "code",
   "execution_count": 69,
   "id": "f1c1e5d1",
   "metadata": {},
   "outputs": [
    {
     "data": {
      "text/html": [
       "<div>\n",
       "<style scoped>\n",
       "    .dataframe tbody tr th:only-of-type {\n",
       "        vertical-align: middle;\n",
       "    }\n",
       "\n",
       "    .dataframe tbody tr th {\n",
       "        vertical-align: top;\n",
       "    }\n",
       "\n",
       "    .dataframe thead th {\n",
       "        text-align: right;\n",
       "    }\n",
       "</style>\n",
       "<table border=\"1\" class=\"dataframe\">\n",
       "  <thead>\n",
       "    <tr style=\"text-align: right;\">\n",
       "      <th></th>\n",
       "      <th>ARIMA</th>\n",
       "      <th>HMM</th>\n",
       "      <th>GARCH</th>\n",
       "    </tr>\n",
       "    <tr>\n",
       "      <th>Market cap</th>\n",
       "      <th></th>\n",
       "      <th></th>\n",
       "      <th></th>\n",
       "    </tr>\n",
       "  </thead>\n",
       "  <tbody>\n",
       "    <tr>\n",
       "      <th>nano</th>\n",
       "      <td>5404.32</td>\n",
       "      <td>8.248564</td>\n",
       "      <td>11.766981</td>\n",
       "    </tr>\n",
       "    <tr>\n",
       "      <th>micro</th>\n",
       "      <td>505.94</td>\n",
       "      <td>6.049290</td>\n",
       "      <td>12.648542</td>\n",
       "    </tr>\n",
       "    <tr>\n",
       "      <th>small</th>\n",
       "      <td>34.38</td>\n",
       "      <td>5.528778</td>\n",
       "      <td>15.858709</td>\n",
       "    </tr>\n",
       "    <tr>\n",
       "      <th>medium</th>\n",
       "      <td>57.35</td>\n",
       "      <td>8.716597</td>\n",
       "      <td>18.607054</td>\n",
       "    </tr>\n",
       "    <tr>\n",
       "      <th>large</th>\n",
       "      <td>24.56</td>\n",
       "      <td>5.291710</td>\n",
       "      <td>22.213989</td>\n",
       "    </tr>\n",
       "    <tr>\n",
       "      <th>mega</th>\n",
       "      <td>7.54</td>\n",
       "      <td>4.370087</td>\n",
       "      <td>23.904829</td>\n",
       "    </tr>\n",
       "  </tbody>\n",
       "</table>\n",
       "</div>"
      ],
      "text/plain": [
       "              ARIMA       HMM      GARCH\n",
       "Market cap                              \n",
       "nano        5404.32  8.248564  11.766981\n",
       "micro        505.94  6.049290  12.648542\n",
       "small         34.38  5.528778  15.858709\n",
       "medium        57.35  8.716597  18.607054\n",
       "large         24.56  5.291710  22.213989\n",
       "mega           7.54  4.370087  23.904829"
      ]
     },
     "execution_count": 69,
     "metadata": {},
     "output_type": "execute_result"
    }
   ],
   "source": [
    "mape"
   ]
  },
  {
   "cell_type": "code",
   "execution_count": 77,
   "id": "6cc887cf",
   "metadata": {},
   "outputs": [
    {
     "data": {
      "text/plain": [
       "Text(0.5, 1.0, 'MAPE comparison of the three models on predicting volatility')"
      ]
     },
     "execution_count": 77,
     "metadata": {},
     "output_type": "execute_result"
    },
    {
     "data": {
      "image/png": "[encoded data removed]",
      "text/plain": [
       "<Figure size 432x288 with 1 Axes>"
      ]
     },
     "metadata": {
      "needs_background": "light"
     },
     "output_type": "display_data"
    }
   ],
   "source": [
    "mape.plot()\n",
    "#plt.yscale('log')\n",
    "plt.ylabel('MAPE')\n",
    "plt.ylim(0,80)\n",
    "plt.title('MAPE comparison of the three models on predicting volatility')"
   ]
  },
  {
   "cell_type": "code",
   "execution_count": null,
   "id": "7b54e281",
   "metadata": {},
   "outputs": [],
   "source": []
  }
 ],
 "metadata": {
  "kernelspec": {
   "display_name": "Python 3 (ipykernel)",
   "language": "python",
   "name": "python3"
  },
  "language_info": {
   "codemirror_mode": {
    "name": "ipython",
    "version": 3
   },
   "file_extension": ".py",
   "mimetype": "text/x-python",
   "name": "python",
   "nbconvert_exporter": "python",
   "pygments_lexer": "ipython3",
   "version": "3.8.12"
  }
 },
 "nbformat": 4,
 "nbformat_minor": 5
}
