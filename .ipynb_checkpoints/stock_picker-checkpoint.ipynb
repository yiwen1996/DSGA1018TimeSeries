{
 "cells": [
  {
   "cell_type": "code",
   "execution_count": 56,
   "id": "7de4046f",
   "metadata": {},
   "outputs": [],
   "source": [
    "import pandas as pd\n",
    "import numpy as np"
   ]
  },
  {
   "cell_type": "code",
   "execution_count": 57,
   "id": "b630e44f",
   "metadata": {},
   "outputs": [],
   "source": [
    "stocks_screener = pd.read_csv('nasdaq_screener_1637206519312.csv') #https://www.nasdaq.com/market-activity/stocks/screener\n",
    "stocks_screener = stocks_screener[stocks_screener['Market Cap'].notna()]"
   ]
  },
  {
   "cell_type": "code",
   "execution_count": 61,
   "id": "41873bc4",
   "metadata": {},
   "outputs": [],
   "source": [
    "M = 10**6\n",
    "B = 10**9\n",
    "\n",
    "bins =  np.array([0,50*M,300*M,2*B,10*B,200*B,np.inf])\n",
    "ind = np.digitize(stocks_screener['Market Cap'], bins)\n",
    "\n",
    "stocks_screener['Cap Group'] = ind\n",
    "\n",
    "gb = stocks_screener.groupby('Cap Group')\n",
    "list_of_groupbed_stocks = [gb.get_group(x) for x in gb.groups]\n",
    "\n",
    "cap_list = ['nano','micro','small','medium','large','mega']\n",
    "stock_cap_dict = dict()\n",
    "for i in range(len(cap_list)):\n",
    "    stock_cap_dict[cap_list[i]] = list_of_groupbed_stocks[i]['Symbol']"
   ]
  },
  {
   "cell_type": "code",
   "execution_count": 65,
   "id": "b72e5562",
   "metadata": {},
   "outputs": [
    {
     "data": {
      "text/plain": [
       "2353     ECAT\n",
       "4284     KTRA\n",
       "4604    MAPSW\n",
       "623     ASLEW\n",
       "5098    NDRAW\n",
       "        ...  \n",
       "6142    QSIAW\n",
       "169      AEHL\n",
       "4874    MONCW\n",
       "195     AFAQW\n",
       "663     ATCOL\n",
       "Name: Symbol, Length: 100, dtype: object"
      ]
     },
     "execution_count": 65,
     "metadata": {},
     "output_type": "execute_result"
    }
   ],
   "source": [
    "(stock_cap_dict['nano']).sample(n=100)"
   ]
  },
  {
   "cell_type": "code",
   "execution_count": null,
   "id": "e056a5b5",
   "metadata": {},
   "outputs": [],
   "source": []
  }
 ],
 "metadata": {
  "kernelspec": {
   "display_name": "Python 3 (ipykernel)",
   "language": "python",
   "name": "python3"
  },
  "language_info": {
   "codemirror_mode": {
    "name": "ipython",
    "version": 3
   },
   "file_extension": ".py",
   "mimetype": "text/x-python",
   "name": "python",
   "nbconvert_exporter": "python",
   "pygments_lexer": "ipython3",
   "version": "3.8.12"
  }
 },
 "nbformat": 4,
 "nbformat_minor": 5
}
