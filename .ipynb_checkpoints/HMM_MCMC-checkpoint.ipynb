{
 "cells": [
  {
   "cell_type": "code",
   "execution_count": 37,
   "id": "ca227146",
   "metadata": {
    "colab": {
     "base_uri": "https://localhost:8080/"
    },
    "id": "ab2dc39b",
    "outputId": "5ebab24d-4258-47b7-ea28-413e8321801e"
   },
   "outputs": [],
   "source": [
    "from statsmodels.tsa.regime_switching.markov_autoregression import MarkovAutoregression\n",
    "import numpy as np\n",
    "from hmmlearn import hmm\n",
    "import yfinance as yf\n",
    "import pandas as pd\n",
    "import matplotlib.pyplot as plt\n",
    "from sklearn.metrics import mean_squared_error\n",
    "from sklearn.metrics import mean_absolute_percentage_error\n",
    "import statsmodels.api as sm\n",
    "import seaborn as sns\n"
   ]
  },
  {
   "cell_type": "code",
   "execution_count": 2,
   "id": "5642cd0d",
   "metadata": {},
   "outputs": [],
   "source": [
    "# def  model_function(train_data -> np.array, num_of_predictions -> int):\n",
    "\n",
    "# \tReturn prediction "
   ]
  },
  {
   "cell_type": "code",
   "execution_count": 3,
   "id": "68e6e6a5",
   "metadata": {
    "colab": {
     "base_uri": "https://localhost:8080/"
    },
    "id": "c2712d43",
    "outputId": "84d1db26-bc9e-4142-e852-00728c7483b6"
   },
   "outputs": [
    {
     "name": "stdout",
     "output_type": "stream",
     "text": [
      "[*********************100%***********************]  1 of 1 completed\n"
     ]
    }
   ],
   "source": [
    "googl = yf.download(\"GOOGL\", start=\"2018-01-01\", end=\"2021-12-31\").reset_index()\n",
    "googl.Date = pd.to_datetime(googl.Date)"
   ]
  },
  {
   "cell_type": "code",
   "execution_count": 4,
   "id": "999ccefc",
   "metadata": {},
   "outputs": [
    {
     "data": {
      "text/html": [
       "<div>\n",
       "<style scoped>\n",
       "    .dataframe tbody tr th:only-of-type {\n",
       "        vertical-align: middle;\n",
       "    }\n",
       "\n",
       "    .dataframe tbody tr th {\n",
       "        vertical-align: top;\n",
       "    }\n",
       "\n",
       "    .dataframe thead th {\n",
       "        text-align: right;\n",
       "    }\n",
       "</style>\n",
       "<table border=\"1\" class=\"dataframe\">\n",
       "  <thead>\n",
       "    <tr style=\"text-align: right;\">\n",
       "      <th></th>\n",
       "      <th>Date</th>\n",
       "      <th>Open</th>\n",
       "      <th>High</th>\n",
       "      <th>Low</th>\n",
       "      <th>Close</th>\n",
       "      <th>Adj Close</th>\n",
       "      <th>Volume</th>\n",
       "    </tr>\n",
       "  </thead>\n",
       "  <tbody>\n",
       "    <tr>\n",
       "      <th>0</th>\n",
       "      <td>2018-01-02</td>\n",
       "      <td>1053.020020</td>\n",
       "      <td>1075.979980</td>\n",
       "      <td>1053.020020</td>\n",
       "      <td>1073.209961</td>\n",
       "      <td>1073.209961</td>\n",
       "      <td>1588300</td>\n",
       "    </tr>\n",
       "    <tr>\n",
       "      <th>1</th>\n",
       "      <td>2018-01-03</td>\n",
       "      <td>1073.930054</td>\n",
       "      <td>1096.099976</td>\n",
       "      <td>1073.430054</td>\n",
       "      <td>1091.520020</td>\n",
       "      <td>1091.520020</td>\n",
       "      <td>1565900</td>\n",
       "    </tr>\n",
       "    <tr>\n",
       "      <th>2</th>\n",
       "      <td>2018-01-04</td>\n",
       "      <td>1097.089966</td>\n",
       "      <td>1104.079956</td>\n",
       "      <td>1094.260010</td>\n",
       "      <td>1095.760010</td>\n",
       "      <td>1095.760010</td>\n",
       "      <td>1302600</td>\n",
       "    </tr>\n",
       "    <tr>\n",
       "      <th>3</th>\n",
       "      <td>2018-01-05</td>\n",
       "      <td>1103.449951</td>\n",
       "      <td>1113.579956</td>\n",
       "      <td>1101.800049</td>\n",
       "      <td>1110.290039</td>\n",
       "      <td>1110.290039</td>\n",
       "      <td>1512500</td>\n",
       "    </tr>\n",
       "    <tr>\n",
       "      <th>4</th>\n",
       "      <td>2018-01-08</td>\n",
       "      <td>1111.000000</td>\n",
       "      <td>1119.160034</td>\n",
       "      <td>1110.000000</td>\n",
       "      <td>1114.209961</td>\n",
       "      <td>1114.209961</td>\n",
       "      <td>1232200</td>\n",
       "    </tr>\n",
       "    <tr>\n",
       "      <th>...</th>\n",
       "      <td>...</td>\n",
       "      <td>...</td>\n",
       "      <td>...</td>\n",
       "      <td>...</td>\n",
       "      <td>...</td>\n",
       "      <td>...</td>\n",
       "      <td>...</td>\n",
       "    </tr>\n",
       "    <tr>\n",
       "      <th>993</th>\n",
       "      <td>2021-12-10</td>\n",
       "      <td>2974.000000</td>\n",
       "      <td>2979.550049</td>\n",
       "      <td>2934.080078</td>\n",
       "      <td>2960.030029</td>\n",
       "      <td>2960.030029</td>\n",
       "      <td>1222900</td>\n",
       "    </tr>\n",
       "    <tr>\n",
       "      <th>994</th>\n",
       "      <td>2021-12-13</td>\n",
       "      <td>2955.629883</td>\n",
       "      <td>2959.399902</td>\n",
       "      <td>2910.350098</td>\n",
       "      <td>2916.530029</td>\n",
       "      <td>2916.530029</td>\n",
       "      <td>1353500</td>\n",
       "    </tr>\n",
       "    <tr>\n",
       "      <th>995</th>\n",
       "      <td>2021-12-14</td>\n",
       "      <td>2879.360107</td>\n",
       "      <td>2889.600098</td>\n",
       "      <td>2824.300049</td>\n",
       "      <td>2878.139893</td>\n",
       "      <td>2878.139893</td>\n",
       "      <td>1922300</td>\n",
       "    </tr>\n",
       "    <tr>\n",
       "      <th>996</th>\n",
       "      <td>2021-12-15</td>\n",
       "      <td>2868.179932</td>\n",
       "      <td>2934.419922</td>\n",
       "      <td>2833.560059</td>\n",
       "      <td>2928.820068</td>\n",
       "      <td>2928.820068</td>\n",
       "      <td>1816300</td>\n",
       "    </tr>\n",
       "    <tr>\n",
       "      <th>997</th>\n",
       "      <td>2021-12-16</td>\n",
       "      <td>2943.409912</td>\n",
       "      <td>2953.534912</td>\n",
       "      <td>2912.280029</td>\n",
       "      <td>2918.000000</td>\n",
       "      <td>2918.000000</td>\n",
       "      <td>246520</td>\n",
       "    </tr>\n",
       "  </tbody>\n",
       "</table>\n",
       "<p>998 rows × 7 columns</p>\n",
       "</div>"
      ],
      "text/plain": [
       "          Date         Open         High          Low        Close  \\\n",
       "0   2018-01-02  1053.020020  1075.979980  1053.020020  1073.209961   \n",
       "1   2018-01-03  1073.930054  1096.099976  1073.430054  1091.520020   \n",
       "2   2018-01-04  1097.089966  1104.079956  1094.260010  1095.760010   \n",
       "3   2018-01-05  1103.449951  1113.579956  1101.800049  1110.290039   \n",
       "4   2018-01-08  1111.000000  1119.160034  1110.000000  1114.209961   \n",
       "..         ...          ...          ...          ...          ...   \n",
       "993 2021-12-10  2974.000000  2979.550049  2934.080078  2960.030029   \n",
       "994 2021-12-13  2955.629883  2959.399902  2910.350098  2916.530029   \n",
       "995 2021-12-14  2879.360107  2889.600098  2824.300049  2878.139893   \n",
       "996 2021-12-15  2868.179932  2934.419922  2833.560059  2928.820068   \n",
       "997 2021-12-16  2943.409912  2953.534912  2912.280029  2918.000000   \n",
       "\n",
       "       Adj Close   Volume  \n",
       "0    1073.209961  1588300  \n",
       "1    1091.520020  1565900  \n",
       "2    1095.760010  1302600  \n",
       "3    1110.290039  1512500  \n",
       "4    1114.209961  1232200  \n",
       "..           ...      ...  \n",
       "993  2960.030029  1222900  \n",
       "994  2916.530029  1353500  \n",
       "995  2878.139893  1922300  \n",
       "996  2928.820068  1816300  \n",
       "997  2918.000000   246520  \n",
       "\n",
       "[998 rows x 7 columns]"
      ]
     },
     "execution_count": 4,
     "metadata": {},
     "output_type": "execute_result"
    }
   ],
   "source": [
    "googl"
   ]
  },
  {
   "cell_type": "code",
   "execution_count": 5,
   "id": "afa79176",
   "metadata": {
    "id": "b8ac6be8"
   },
   "outputs": [],
   "source": [
    "daily_return = googl['Return'] = np.log(googl.Close /googl.Close.shift(-1)).dropna()\n",
    "#(np.log(googl.Close /googl.Close.shift(-1))).dropna()\n",
    "# np.log(googl.Close.pct_change()).dropna()"
   ]
  },
  {
   "cell_type": "code",
   "execution_count": 6,
   "id": "4a6f7ee2",
   "metadata": {
    "colab": {
     "base_uri": "https://localhost:8080/",
     "height": 306
    },
    "id": "aa94ae59",
    "outputId": "4064efc6-0d4b-4cce-cbdd-41d044b6f9c2"
   },
   "outputs": [
    {
     "data": {
      "text/plain": [
       "[<matplotlib.lines.Line2D at 0x7f8f7cd53190>]"
      ]
     },
     "execution_count": 6,
     "metadata": {},
     "output_type": "execute_result"
    },
    {
     "data": {
      "image/png": "[encoded data removed]",
      "text/plain": [
       "<Figure size 432x288 with 1 Axes>"
      ]
     },
     "metadata": {
      "needs_background": "light"
     },
     "output_type": "display_data"
    }
   ],
   "source": [
    "plt.plot(daily_return)"
   ]
  },
  {
   "cell_type": "code",
   "execution_count": 7,
   "id": "2bee09c9",
   "metadata": {},
   "outputs": [
    {
     "data": {
      "text/html": [
       "<div>\n",
       "<style scoped>\n",
       "    .dataframe tbody tr th:only-of-type {\n",
       "        vertical-align: middle;\n",
       "    }\n",
       "\n",
       "    .dataframe tbody tr th {\n",
       "        vertical-align: top;\n",
       "    }\n",
       "\n",
       "    .dataframe thead th {\n",
       "        text-align: right;\n",
       "    }\n",
       "</style>\n",
       "<table border=\"1\" class=\"dataframe\">\n",
       "  <thead>\n",
       "    <tr style=\"text-align: right;\">\n",
       "      <th></th>\n",
       "      <th>Date</th>\n",
       "      <th>Open</th>\n",
       "      <th>High</th>\n",
       "      <th>Low</th>\n",
       "      <th>Close</th>\n",
       "      <th>Adj Close</th>\n",
       "      <th>Volume</th>\n",
       "      <th>Return</th>\n",
       "    </tr>\n",
       "  </thead>\n",
       "  <tbody>\n",
       "    <tr>\n",
       "      <th>756</th>\n",
       "      <td>2021-01-04</td>\n",
       "      <td>1760.000000</td>\n",
       "      <td>1762.489990</td>\n",
       "      <td>1707.140015</td>\n",
       "      <td>1726.130005</td>\n",
       "      <td>1726.130005</td>\n",
       "      <td>1866200</td>\n",
       "      <td>-0.008032</td>\n",
       "    </tr>\n",
       "    <tr>\n",
       "      <th>757</th>\n",
       "      <td>2021-01-05</td>\n",
       "      <td>1725.089966</td>\n",
       "      <td>1746.829956</td>\n",
       "      <td>1716.900024</td>\n",
       "      <td>1740.050049</td>\n",
       "      <td>1740.050049</td>\n",
       "      <td>1018000</td>\n",
       "      <td>0.009917</td>\n",
       "    </tr>\n",
       "    <tr>\n",
       "      <th>758</th>\n",
       "      <td>2021-01-06</td>\n",
       "      <td>1700.260010</td>\n",
       "      <td>1743.969971</td>\n",
       "      <td>1696.099976</td>\n",
       "      <td>1722.880005</td>\n",
       "      <td>1722.880005</td>\n",
       "      <td>2329400</td>\n",
       "      <td>-0.029431</td>\n",
       "    </tr>\n",
       "    <tr>\n",
       "      <th>759</th>\n",
       "      <td>2021-01-07</td>\n",
       "      <td>1726.760010</td>\n",
       "      <td>1777.819946</td>\n",
       "      <td>1726.760010</td>\n",
       "      <td>1774.339966</td>\n",
       "      <td>1774.339966</td>\n",
       "      <td>2096800</td>\n",
       "      <td>-0.013152</td>\n",
       "    </tr>\n",
       "    <tr>\n",
       "      <th>760</th>\n",
       "      <td>2021-01-08</td>\n",
       "      <td>1777.160034</td>\n",
       "      <td>1799.359985</td>\n",
       "      <td>1761.219971</td>\n",
       "      <td>1797.829956</td>\n",
       "      <td>1797.829956</td>\n",
       "      <td>1774200</td>\n",
       "      <td>0.023377</td>\n",
       "    </tr>\n",
       "    <tr>\n",
       "      <th>...</th>\n",
       "      <td>...</td>\n",
       "      <td>...</td>\n",
       "      <td>...</td>\n",
       "      <td>...</td>\n",
       "      <td>...</td>\n",
       "      <td>...</td>\n",
       "      <td>...</td>\n",
       "      <td>...</td>\n",
       "    </tr>\n",
       "    <tr>\n",
       "      <th>993</th>\n",
       "      <td>2021-12-10</td>\n",
       "      <td>2974.000000</td>\n",
       "      <td>2979.550049</td>\n",
       "      <td>2934.080078</td>\n",
       "      <td>2960.030029</td>\n",
       "      <td>2960.030029</td>\n",
       "      <td>1222900</td>\n",
       "      <td>0.014805</td>\n",
       "    </tr>\n",
       "    <tr>\n",
       "      <th>994</th>\n",
       "      <td>2021-12-13</td>\n",
       "      <td>2955.629883</td>\n",
       "      <td>2959.399902</td>\n",
       "      <td>2910.350098</td>\n",
       "      <td>2916.530029</td>\n",
       "      <td>2916.530029</td>\n",
       "      <td>1353500</td>\n",
       "      <td>0.013250</td>\n",
       "    </tr>\n",
       "    <tr>\n",
       "      <th>995</th>\n",
       "      <td>2021-12-14</td>\n",
       "      <td>2879.360107</td>\n",
       "      <td>2889.600098</td>\n",
       "      <td>2824.300049</td>\n",
       "      <td>2878.139893</td>\n",
       "      <td>2878.139893</td>\n",
       "      <td>1922300</td>\n",
       "      <td>-0.017455</td>\n",
       "    </tr>\n",
       "    <tr>\n",
       "      <th>996</th>\n",
       "      <td>2021-12-15</td>\n",
       "      <td>2868.179932</td>\n",
       "      <td>2934.419922</td>\n",
       "      <td>2833.560059</td>\n",
       "      <td>2928.820068</td>\n",
       "      <td>2928.820068</td>\n",
       "      <td>1816300</td>\n",
       "      <td>0.003701</td>\n",
       "    </tr>\n",
       "    <tr>\n",
       "      <th>997</th>\n",
       "      <td>2021-12-16</td>\n",
       "      <td>2943.409912</td>\n",
       "      <td>2953.534912</td>\n",
       "      <td>2912.280029</td>\n",
       "      <td>2918.000000</td>\n",
       "      <td>2918.000000</td>\n",
       "      <td>246520</td>\n",
       "      <td>NaN</td>\n",
       "    </tr>\n",
       "  </tbody>\n",
       "</table>\n",
       "<p>242 rows × 8 columns</p>\n",
       "</div>"
      ],
      "text/plain": [
       "          Date         Open         High          Low        Close  \\\n",
       "756 2021-01-04  1760.000000  1762.489990  1707.140015  1726.130005   \n",
       "757 2021-01-05  1725.089966  1746.829956  1716.900024  1740.050049   \n",
       "758 2021-01-06  1700.260010  1743.969971  1696.099976  1722.880005   \n",
       "759 2021-01-07  1726.760010  1777.819946  1726.760010  1774.339966   \n",
       "760 2021-01-08  1777.160034  1799.359985  1761.219971  1797.829956   \n",
       "..         ...          ...          ...          ...          ...   \n",
       "993 2021-12-10  2974.000000  2979.550049  2934.080078  2960.030029   \n",
       "994 2021-12-13  2955.629883  2959.399902  2910.350098  2916.530029   \n",
       "995 2021-12-14  2879.360107  2889.600098  2824.300049  2878.139893   \n",
       "996 2021-12-15  2868.179932  2934.419922  2833.560059  2928.820068   \n",
       "997 2021-12-16  2943.409912  2953.534912  2912.280029  2918.000000   \n",
       "\n",
       "       Adj Close   Volume    Return  \n",
       "756  1726.130005  1866200 -0.008032  \n",
       "757  1740.050049  1018000  0.009917  \n",
       "758  1722.880005  2329400 -0.029431  \n",
       "759  1774.339966  2096800 -0.013152  \n",
       "760  1797.829956  1774200  0.023377  \n",
       "..           ...      ...       ...  \n",
       "993  2960.030029  1222900  0.014805  \n",
       "994  2916.530029  1353500  0.013250  \n",
       "995  2878.139893  1922300 -0.017455  \n",
       "996  2928.820068  1816300  0.003701  \n",
       "997  2918.000000   246520       NaN  \n",
       "\n",
       "[242 rows x 8 columns]"
      ]
     },
     "execution_count": 7,
     "metadata": {},
     "output_type": "execute_result"
    }
   ],
   "source": [
    "googl[googl.Date>='2021-01-01']"
   ]
  },
  {
   "cell_type": "code",
   "execution_count": 8,
   "id": "4cc29bf6",
   "metadata": {
    "id": "5deef96f"
   },
   "outputs": [],
   "source": [
    "train,test = googl[googl.Date<'2021-01-01'].Return,googl[googl.Date>='2021-01-01'].Return\n",
    "# train,test = daily_return[:2800],daily_return[-238:]"
   ]
  },
  {
   "cell_type": "code",
   "execution_count": 9,
   "id": "9ddb7bcf",
   "metadata": {
    "id": "e2f079b4"
   },
   "outputs": [],
   "source": [
    "train_np = np.array(train).reshape(-1,1)\n",
    "test_np = np.array(test[:-1]).reshape(-1,1)"
   ]
  },
  {
   "cell_type": "markdown",
   "id": "1b2f28d3",
   "metadata": {
    "id": "db751b9f"
   },
   "source": [
    "# HMM "
   ]
  },
  {
   "cell_type": "code",
   "execution_count": 119,
   "id": "5880a6e4",
   "metadata": {},
   "outputs": [],
   "source": [
    "def hmm_prediction_MCMC(train_data,num_of_predictions,num_samples = 100):\n",
    "    \n",
    "    hmm_prediction_values_list = []\n",
    "    hmm_prediction_states_list = []\n",
    "    all_df = pd.DataFrame()\n",
    "    #print(train_data)\n",
    "    for i in range(num_samples):\n",
    "        #print(i)\n",
    "        \n",
    "        hmm_model = hmm.GaussianHMM(n_components=3, covariance_type=\"full\", n_iter=1000)\n",
    "        hmm_model.fit(train_data)\n",
    "\n",
    "        predict_state = hmm_model.predict(train_data)\n",
    "\n",
    "        hmm_prediction = hmm_model.sample(num_of_predictions,random_state = predict_state[-1])\n",
    "        hmm_prediction_values = hmm_prediction[0]\n",
    "        hmm_prediction_states = hmm_prediction[1]\n",
    "        \n",
    "        hmm_prediction_values_list.append(hmm_prediction_values) \n",
    "        hmm_prediction_states_list.append(hmm_prediction_states)\n",
    "        \n",
    "        temp_df = pd.DataFrame([np.repeat(i,num_of_predictions),np.arange(num_of_predictions),hmm_prediction_values.squeeze()]).T\n",
    "        \n",
    "        all_df = pd.concat([all_df, temp_df])\n",
    "        \n",
    "    return hmm_prediction_values_list,hmm_prediction_states_list,all_df"
   ]
  },
  {
   "cell_type": "code",
   "execution_count": 120,
   "id": "d7263946",
   "metadata": {},
   "outputs": [],
   "source": [
    "value_list, states_list,mcmc_df = hmm_prediction_MCMC(train_np,len(test_np))"
   ]
  },
  {
   "cell_type": "code",
   "execution_count": 121,
   "id": "d7e7304a-4826-4147-830d-2b5382939eae",
   "metadata": {},
   "outputs": [
    {
     "data": {
      "text/html": [
       "<div>\n",
       "<style scoped>\n",
       "    .dataframe tbody tr th:only-of-type {\n",
       "        vertical-align: middle;\n",
       "    }\n",
       "\n",
       "    .dataframe tbody tr th {\n",
       "        vertical-align: top;\n",
       "    }\n",
       "\n",
       "    .dataframe thead th {\n",
       "        text-align: right;\n",
       "    }\n",
       "</style>\n",
       "<table border=\"1\" class=\"dataframe\">\n",
       "  <thead>\n",
       "    <tr style=\"text-align: right;\">\n",
       "      <th></th>\n",
       "      <th>repeat</th>\n",
       "      <th>time</th>\n",
       "      <th>value</th>\n",
       "    </tr>\n",
       "  </thead>\n",
       "  <tbody>\n",
       "    <tr>\n",
       "      <th>0</th>\n",
       "      <td>0.0</td>\n",
       "      <td>0.0</td>\n",
       "      <td>0.007505</td>\n",
       "    </tr>\n",
       "    <tr>\n",
       "      <th>1</th>\n",
       "      <td>0.0</td>\n",
       "      <td>1.0</td>\n",
       "      <td>0.017896</td>\n",
       "    </tr>\n",
       "    <tr>\n",
       "      <th>2</th>\n",
       "      <td>0.0</td>\n",
       "      <td>2.0</td>\n",
       "      <td>-0.012786</td>\n",
       "    </tr>\n",
       "    <tr>\n",
       "      <th>3</th>\n",
       "      <td>0.0</td>\n",
       "      <td>3.0</td>\n",
       "      <td>0.068296</td>\n",
       "    </tr>\n",
       "    <tr>\n",
       "      <th>4</th>\n",
       "      <td>0.0</td>\n",
       "      <td>4.0</td>\n",
       "      <td>0.045400</td>\n",
       "    </tr>\n",
       "    <tr>\n",
       "      <th>...</th>\n",
       "      <td>...</td>\n",
       "      <td>...</td>\n",
       "      <td>...</td>\n",
       "    </tr>\n",
       "    <tr>\n",
       "      <th>236</th>\n",
       "      <td>99.0</td>\n",
       "      <td>236.0</td>\n",
       "      <td>-0.015731</td>\n",
       "    </tr>\n",
       "    <tr>\n",
       "      <th>237</th>\n",
       "      <td>99.0</td>\n",
       "      <td>237.0</td>\n",
       "      <td>-0.012182</td>\n",
       "    </tr>\n",
       "    <tr>\n",
       "      <th>238</th>\n",
       "      <td>99.0</td>\n",
       "      <td>238.0</td>\n",
       "      <td>-0.002021</td>\n",
       "    </tr>\n",
       "    <tr>\n",
       "      <th>239</th>\n",
       "      <td>99.0</td>\n",
       "      <td>239.0</td>\n",
       "      <td>-0.004160</td>\n",
       "    </tr>\n",
       "    <tr>\n",
       "      <th>240</th>\n",
       "      <td>99.0</td>\n",
       "      <td>240.0</td>\n",
       "      <td>0.008505</td>\n",
       "    </tr>\n",
       "  </tbody>\n",
       "</table>\n",
       "<p>24100 rows × 3 columns</p>\n",
       "</div>"
      ],
      "text/plain": [
       "     repeat   time     value\n",
       "0       0.0    0.0  0.007505\n",
       "1       0.0    1.0  0.017896\n",
       "2       0.0    2.0 -0.012786\n",
       "3       0.0    3.0  0.068296\n",
       "4       0.0    4.0  0.045400\n",
       "..      ...    ...       ...\n",
       "236    99.0  236.0 -0.015731\n",
       "237    99.0  237.0 -0.012182\n",
       "238    99.0  238.0 -0.002021\n",
       "239    99.0  239.0 -0.004160\n",
       "240    99.0  240.0  0.008505\n",
       "\n",
       "[24100 rows x 3 columns]"
      ]
     },
     "execution_count": 121,
     "metadata": {},
     "output_type": "execute_result"
    }
   ],
   "source": [
    "mcmc_df.columns = ['repeat','time','value']\n",
    "mcmc_df"
   ]
  },
  {
   "cell_type": "code",
   "execution_count": 163,
   "id": "eab23732-b06d-4d43-a98d-7bbae51ab7f6",
   "metadata": {},
   "outputs": [
    {
     "data": {
      "image/png": "[encoded data removed]",
      "text/plain": [
       "<Figure size 432x288 with 1 Axes>"
      ]
     },
     "metadata": {
      "needs_background": "light"
     },
     "output_type": "display_data"
    }
   ],
   "source": [
    "sns.lineplot(data=mcmc_df,x = 'time',y = 'value',ci = 'sd' )\n",
    "plt.plot(test_np,color = 'r',alpha=0.5)\n",
    "plt.show()"
   ]
  },
  {
   "cell_type": "code",
   "execution_count": 131,
   "id": "b25568d5-7d7e-484b-9560-f041c993e726",
   "metadata": {},
   "outputs": [],
   "source": [
    "np_all = np.array(value_list).squeeze()"
   ]
  },
  {
   "cell_type": "code",
   "execution_count": 134,
   "id": "309cb8c5-bf7a-426a-9f71-02131df76648",
   "metadata": {},
   "outputs": [],
   "source": [
    "mean_np_all = np_all.mean(axis = 0)\n",
    "std_np_all = np_all.std(axis = 0)"
   ]
  },
  {
   "cell_type": "code",
   "execution_count": 136,
   "id": "383b9857-f567-4041-bb51-3a06f6535425",
   "metadata": {},
   "outputs": [
    {
     "data": {
      "text/plain": [
       "241"
      ]
     },
     "execution_count": 136,
     "metadata": {},
     "output_type": "execute_result"
    }
   ],
   "source": [
    "mean_np_all"
   ]
  },
  {
   "cell_type": "code",
   "execution_count": 151,
   "id": "c82f6ed4-a0da-4834-8779-197af5cc591d",
   "metadata": {},
   "outputs": [
    {
     "data": {
      "text/plain": [
       "0.4979253112033195"
      ]
     },
     "execution_count": 151,
     "metadata": {},
     "output_type": "execute_result"
    }
   ],
   "source": [
    "np.sum((test_np.squeeze()<(mean_np_all+std_np_all))*(test_np.squeeze()>(mean_np_all-std_np_all)))/len(test_np)"
   ]
  },
  {
   "cell_type": "code",
   "execution_count": null,
   "id": "b046c1d7-04e5-4383-bbeb-ef008515842b",
   "metadata": {},
   "outputs": [],
   "source": []
  }
 ],
 "metadata": {
  "kernelspec": {
   "display_name": "Python 3",
   "language": "python",
   "name": "python3"
  },
  "language_info": {
   "codemirror_mode": {
    "name": "ipython",
    "version": 3
   },
   "file_extension": ".py",
   "mimetype": "text/x-python",
   "name": "python",
   "nbconvert_exporter": "python",
   "pygments_lexer": "ipython3",
   "version": "3.8.8"
  }
 },
 "nbformat": 4,
 "nbformat_minor": 5
}
