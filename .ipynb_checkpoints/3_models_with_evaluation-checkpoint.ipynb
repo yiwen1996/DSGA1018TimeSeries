{
 "cells": [
  {
   "cell_type": "code",
   "execution_count": 1,
   "id": "0b803304",
   "metadata": {},
   "outputs": [],
   "source": [
    "# install packages\n",
    "\n",
    "\n",
    "# import packages\n",
    "\n",
    "import pandas as pd\n",
    "import numpy as np\n",
    "import pandas as pd\n",
    "import yfinance as yf\n",
    "import matplotlib.pyplot as plt\n",
    "from sklearn.metrics import mean_squared_error\n",
    "from sklearn.metrics import mean_absolute_percentage_error\n",
    "import seaborn as sns\n",
    "#hmm\n",
    "from hmmlearn import hmm\n",
    "\n",
    "\n",
    "\n",
    "# format\n",
    "\n",
    "# def stock_data(stock_name -> str):\n",
    "\n",
    "# Return train_data, test_data \n",
    "\n",
    "\n",
    "# def  model_function(train_data -> np.array, num_of_predictions -> int):\n",
    "\n",
    "# \tReturn prediction \n",
    "\n",
    "\n",
    "# def evaluation(test_data -> np.array, prediction -> np.array):\n",
    "\t\n",
    "# \tReturn metrics\n"
   ]
  },
  {
   "cell_type": "markdown",
   "id": "f09d2ea3",
   "metadata": {},
   "source": [
    "# pick stocks"
   ]
  },
  {
   "cell_type": "code",
   "execution_count": 2,
   "id": "9b455ab0",
   "metadata": {},
   "outputs": [],
   "source": [
    "# load and group by cap size\n",
    "stocks_screener = pd.read_csv('nasdaq_screener_1637428146284.csv') #https://www.nasdaq.com/market-activity/stocks/screener\n",
    "stocks_screener = stocks_screener[stocks_screener['Market Cap'].notna()]\n",
    "\n",
    "M = 10**6\n",
    "B = 10**9\n",
    "\n",
    "bins =  np.array([0,50*M,300*M,2*B,10*B,200*B,np.inf])\n",
    "ind = np.digitize(stocks_screener['Market Cap'], bins)\n",
    "\n",
    "stocks_screener['Cap Group'] = ind\n",
    "\n",
    "gb = stocks_screener.groupby('Cap Group')\n",
    "list_of_groupbed_stocks = [gb.get_group(x) for x in gb.groups]\n",
    "\n",
    "cap_list = ['nano','micro','small','medium','large','mega']\n",
    "stock_cap_dict = dict()\n",
    "for i in range(len(cap_list)):\n",
    "    stock_cap_dict[cap_list[i]] = list_of_groupbed_stocks[i]['Symbol']\n",
    "    \n"
   ]
  },
  {
   "cell_type": "code",
   "execution_count": 3,
   "id": "d6d4d9eb",
   "metadata": {},
   "outputs": [],
   "source": [
    "def pick_stock_get_data(stock_dict = stock_cap_dict,cap = 'small',num_stocks = 100,want_log = True,start_date=\"2018-01-01\",\n",
    "                        end_date=\"2021-12-31\",cut_date = '2021-01-01' ):\n",
    "    \n",
    "    #length standards\n",
    "    stock_data = yf.download('AAPL', start=start_date, end=end_date,progress=False).reset_index()\n",
    "    standard_length = len(stock_data)\n",
    "    \n",
    "    count = 0\n",
    "    \n",
    "    resample_count = 0\n",
    "    \n",
    "    train_data = {}\n",
    "    test_data = {}\n",
    "    \n",
    "    while count<num_stocks:\n",
    "        \n",
    "        length = 0\n",
    "        \n",
    "        resample_count-=1\n",
    "        \n",
    "        while length!=standard_length:\n",
    "            resample_count+=1\n",
    "            stock_sample =  list((stock_dict[cap]).sample(n=1))[0]\n",
    "            stock_data = yf.download(stock_sample, start=start_date, end=end_date,progress = False).reset_index().dropna()\n",
    "            length = len(stock_data)\n",
    "        \n",
    "        \n",
    "        stock_data['daily_return'] = (stock_data.Close /stock_data.Close.shift(-1)).dropna()\n",
    "        \n",
    "        stock_data['Log_daily_return'] = np.log(stock_data.Close /stock_data.Close.shift(-1).dropna())\n",
    "        \n",
    "        train_full, test_full = stock_data[stock_data.Date<cut_date],stock_data[stock_data.Date>=cut_date]\n",
    "        \n",
    "        if want_log:\n",
    "        \n",
    "            train_data[stock_sample],test_data[stock_sample] = np.array(train_full.Log_daily_return),np.array(test_full.Log_daily_return.dropna())\n",
    "            \n",
    "        else:\n",
    "            \n",
    "            train_data[stock_sample],test_data[stock_sample] = np.array(train_full.daily_return),np.array(test_full.daily_return.dropna())\n",
    "        \n",
    "        count+=1\n",
    "        \n",
    "    # print(resample_count)\n",
    "    return train_data,test_data"
   ]
  },
  {
   "cell_type": "markdown",
   "id": "fa7ce344",
   "metadata": {},
   "source": [
    "# evaluation"
   ]
  },
  {
   "cell_type": "code",
   "execution_count": 4,
   "id": "5c9c875e",
   "metadata": {},
   "outputs": [],
   "source": [
    "def reject_outliers(data, m=1.5):\n",
    "    ceiling = np.mean(data)+ m * np.std(data)\n",
    "    floor = np.mean(data)- m * np.std(data)\n",
    "    \n",
    "    return np.clip(data,a_min = floor, a_max = ceiling)"
   ]
  },
  {
   "cell_type": "code",
   "execution_count": 5,
   "id": "da635f0e",
   "metadata": {},
   "outputs": [],
   "source": [
    "def evaluation_metrics(test_data, predictions):\n",
    "    metrics = {}\n",
    "    \n",
    "    metrics['MAPE'] = mean_absolute_percentage_error(predictions,test_data)\n",
    "    metrics['MSE'] = mean_squared_error(test_data,predictions)\n",
    "    \n",
    "    return metrics"
   ]
  },
  {
   "cell_type": "markdown",
   "id": "f32bd65f",
   "metadata": {},
   "source": [
    "# Models"
   ]
  },
  {
   "cell_type": "code",
   "execution_count": 6,
   "id": "93cf586b",
   "metadata": {},
   "outputs": [],
   "source": [
    "def hmm_prediction(train_data,num_of_predictions):\n",
    "    hmm_model = hmm.GaussianHMM(n_components=3, covariance_type=\"full\", n_iter=1000)\n",
    "    hmm_model.fit(train_data)\n",
    "    \n",
    "    predict_state = hmm_model.predict(train_data)\n",
    "    \n",
    "    hmm_prediction = hmm_model.sample(num_of_predictions,random_state = predict_state[-1])\n",
    "    hmm_prediction_value = hmm_prediction[0]\n",
    "    hmm_prediction_states = hmm_prediction[1]\n",
    "    \n",
    "    return hmm_prediction_value"
   ]
  },
  {
   "cell_type": "markdown",
   "id": "a329e128",
   "metadata": {},
   "source": [
    "# Pipeline"
   ]
  },
  {
   "cell_type": "code",
   "execution_count": 7,
   "id": "5dbc44f9",
   "metadata": {},
   "outputs": [
    {
     "name": "stdout",
     "output_type": "stream",
     "text": [
      "\n",
      "1 Failed download:\n",
      "- ACQRW: None\n",
      "\n",
      "1 Failed download:\n",
      "- MBTCR: None\n"
     ]
    },
    {
     "name": "stderr",
     "output_type": "stream",
     "text": [
      "/Users/xieziyi/.local/lib/python3.8/site-packages/hmmlearn/hmm.py:200: ConvergenceWarning: Number of distinct clusters (1) found smaller than n_clusters (3). Possibly due to duplicate points in X.\n",
      "  kmeans.fit(X)\n"
     ]
    }
   ],
   "source": [
    "metrics_df_concat = pd.DataFrame()\n",
    "\n",
    "for cap_size in cap_list:\n",
    "    result_metric_dict = {}\n",
    "    train_data, test_data = pick_stock_get_data(stock_dict = stock_cap_dict,cap = cap_size,num_stocks = 100,want_log = True,start_date=\"2018-01-01\",\n",
    "                        end_date=\"2021-12-31\",cut_date = '2021-01-01' )\n",
    "    for stock_ticker in train_data.keys():\n",
    "        prediction = hmm_prediction(train_data[stock_ticker].reshape(-1,1),len(test_data[stock_ticker]))\n",
    "        result_metric_dict[stock_ticker] = evaluation_metrics(test_data[stock_ticker].reshape(-1,1),prediction)\n",
    "\n",
    "    metrics_df = pd.DataFrame(result_metric_dict).T\n",
    "    metrics_df['Cap_size'] = cap_size\n",
    "    \n",
    "    metrics_df_concat = metrics_df_concat.append(metrics_df)"
   ]
  },
  {
   "cell_type": "code",
   "execution_count": 8,
   "id": "9c3784d5",
   "metadata": {},
   "outputs": [
    {
     "data": {
      "text/html": [
       "<div>\n",
       "<style scoped>\n",
       "    .dataframe tbody tr th:only-of-type {\n",
       "        vertical-align: middle;\n",
       "    }\n",
       "\n",
       "    .dataframe tbody tr th {\n",
       "        vertical-align: top;\n",
       "    }\n",
       "\n",
       "    .dataframe thead th {\n",
       "        text-align: right;\n",
       "    }\n",
       "</style>\n",
       "<table border=\"1\" class=\"dataframe\">\n",
       "  <thead>\n",
       "    <tr style=\"text-align: right;\">\n",
       "      <th></th>\n",
       "      <th>MAPE</th>\n",
       "      <th>MSE</th>\n",
       "      <th>Cap_size</th>\n",
       "    </tr>\n",
       "  </thead>\n",
       "  <tbody>\n",
       "    <tr>\n",
       "      <th>SLRX</th>\n",
       "      <td>15.355071</td>\n",
       "      <td>0.008917</td>\n",
       "      <td>nano</td>\n",
       "    </tr>\n",
       "    <tr>\n",
       "      <th>CHSCM</th>\n",
       "      <td>2.940019</td>\n",
       "      <td>0.000105</td>\n",
       "      <td>nano</td>\n",
       "    </tr>\n",
       "    <tr>\n",
       "      <th>GROM</th>\n",
       "      <td>37.283672</td>\n",
       "      <td>0.057655</td>\n",
       "      <td>nano</td>\n",
       "    </tr>\n",
       "    <tr>\n",
       "      <th>SGBX</th>\n",
       "      <td>9.839132</td>\n",
       "      <td>0.008504</td>\n",
       "      <td>nano</td>\n",
       "    </tr>\n",
       "    <tr>\n",
       "      <th>SOHO</th>\n",
       "      <td>9.928622</td>\n",
       "      <td>0.001930</td>\n",
       "      <td>nano</td>\n",
       "    </tr>\n",
       "    <tr>\n",
       "      <th>...</th>\n",
       "      <td>...</td>\n",
       "      <td>...</td>\n",
       "      <td>...</td>\n",
       "    </tr>\n",
       "    <tr>\n",
       "      <th>NVDA</th>\n",
       "      <td>4.521806</td>\n",
       "      <td>0.009309</td>\n",
       "      <td>mega</td>\n",
       "    </tr>\n",
       "    <tr>\n",
       "      <th>CMCSA</th>\n",
       "      <td>3.547463</td>\n",
       "      <td>0.000750</td>\n",
       "      <td>mega</td>\n",
       "    </tr>\n",
       "    <tr>\n",
       "      <th>ADBE</th>\n",
       "      <td>4.437318</td>\n",
       "      <td>0.001411</td>\n",
       "      <td>mega</td>\n",
       "    </tr>\n",
       "    <tr>\n",
       "      <th>TSLA</th>\n",
       "      <td>3.388702</td>\n",
       "      <td>0.002878</td>\n",
       "      <td>mega</td>\n",
       "    </tr>\n",
       "    <tr>\n",
       "      <th>CSCO</th>\n",
       "      <td>8.395937</td>\n",
       "      <td>0.001124</td>\n",
       "      <td>mega</td>\n",
       "    </tr>\n",
       "  </tbody>\n",
       "</table>\n",
       "<p>449 rows × 3 columns</p>\n",
       "</div>"
      ],
      "text/plain": [
       "            MAPE       MSE Cap_size\n",
       "SLRX   15.355071  0.008917     nano\n",
       "CHSCM   2.940019  0.000105     nano\n",
       "GROM   37.283672  0.057655     nano\n",
       "SGBX    9.839132  0.008504     nano\n",
       "SOHO    9.928622  0.001930     nano\n",
       "...          ...       ...      ...\n",
       "NVDA    4.521806  0.009309     mega\n",
       "CMCSA   3.547463  0.000750     mega\n",
       "ADBE    4.437318  0.001411     mega\n",
       "TSLA    3.388702  0.002878     mega\n",
       "CSCO    8.395937  0.001124     mega\n",
       "\n",
       "[449 rows x 3 columns]"
      ]
     },
     "execution_count": 8,
     "metadata": {},
     "output_type": "execute_result"
    }
   ],
   "source": [
    "metrics_df_concat"
   ]
  },
  {
   "cell_type": "markdown",
   "id": "cc6c6053",
   "metadata": {},
   "source": [
    "#  MAPE by cap"
   ]
  },
  {
   "cell_type": "code",
   "execution_count": 9,
   "id": "ed12d612",
   "metadata": {},
   "outputs": [
    {
     "data": {
      "text/plain": [
       "<AxesSubplot:xlabel='MAPE', ylabel='Count'>"
      ]
     },
     "execution_count": 9,
     "metadata": {},
     "output_type": "execute_result"
    },
    {
     "data": {
      "image/png": "[encoded data removed]",
      "text/plain": [
       "<Figure size 432x288 with 1 Axes>"
      ]
     },
     "metadata": {
      "needs_background": "light"
     },
     "output_type": "display_data"
    }
   ],
   "source": [
    "sns.histplot(data = metrics_df_concat\n",
    "            ,x = 'MAPE'\n",
    "            ,alpha = .7\n",
    "            ,hue = 'Cap_size'\n",
    "            ,kde=True\n",
    "            )"
   ]
  },
  {
   "cell_type": "code",
   "execution_count": 17,
   "id": "1d9b2fe4",
   "metadata": {},
   "outputs": [
    {
     "data": {
      "image/png": "[encoded data removed]",
      "text/plain": [
       "<Figure size 432x288 with 1 Axes>"
      ]
     },
     "metadata": {
      "needs_background": "light"
     },
     "output_type": "display_data"
    }
   ],
   "source": [
    "sns.boxplot(data = metrics_df_concat\n",
    "            ,x = 'MAPE'\n",
    "            ,y = 'Cap_size'\n",
    "            )\n",
    "plt.xscale('log')"
   ]
  },
  {
   "cell_type": "code",
   "execution_count": 11,
   "id": "5c879d6c",
   "metadata": {},
   "outputs": [],
   "source": [
    "metrics_df_concat_truncated = metrics_df_concat[metrics_df_concat['MAPE']<100]"
   ]
  },
  {
   "cell_type": "code",
   "execution_count": 12,
   "id": "4b6bc870",
   "metadata": {},
   "outputs": [
    {
     "data": {
      "text/plain": [
       "<AxesSubplot:xlabel='MAPE', ylabel='Count'>"
      ]
     },
     "execution_count": 12,
     "metadata": {},
     "output_type": "execute_result"
    },
    {
     "data": {
      "image/png": "[encoded data removed]",
      "text/plain": [
       "<Figure size 432x288 with 1 Axes>"
      ]
     },
     "metadata": {
      "needs_background": "light"
     },
     "output_type": "display_data"
    }
   ],
   "source": [
    "sns.histplot(data = metrics_df_concat_truncated\n",
    "            ,x = 'MAPE'\n",
    "            ,alpha = .7\n",
    "            ,hue = 'Cap_size'\n",
    "            ,kde=True\n",
    "            )"
   ]
  },
  {
   "cell_type": "code",
   "execution_count": 16,
   "id": "08c09a33",
   "metadata": {},
   "outputs": [
    {
     "data": {
      "image/png": "[encoded data removed]",
      "text/plain": [
       "<Figure size 432x288 with 1 Axes>"
      ]
     },
     "metadata": {
      "needs_background": "light"
     },
     "output_type": "display_data"
    }
   ],
   "source": [
    "sns.boxplot(data = metrics_df_concat_truncated\n",
    "            ,x = 'MAPE'\n",
    "            ,y = 'Cap_size'\n",
    "            )\n",
    "plt.xscale('log')"
   ]
  },
  {
   "cell_type": "markdown",
   "id": "6bac3598-c0f9-4b03-9f40-64d573456930",
   "metadata": {},
   "source": [
    "# MSE by cap"
   ]
  },
  {
   "cell_type": "code",
   "execution_count": 14,
   "id": "feb502b9-2cdf-4a3f-a233-775eb9b3d383",
   "metadata": {},
   "outputs": [
    {
     "data": {
      "text/plain": [
       "<AxesSubplot:xlabel='MSE', ylabel='Cap_size'>"
      ]
     },
     "execution_count": 14,
     "metadata": {},
     "output_type": "execute_result"
    },
    {
     "data": {
      "image/png": "[encoded data removed]",
      "text/plain": [
       "<Figure size 432x288 with 1 Axes>"
      ]
     },
     "metadata": {
      "needs_background": "light"
     },
     "output_type": "display_data"
    }
   ],
   "source": [
    "sns.boxplot(data = metrics_df_concat_truncated\n",
    "            ,x = 'MSE'\n",
    "            ,y = 'Cap_size'\n",
    "            )"
   ]
  },
  {
   "cell_type": "markdown",
   "id": "7ee330b8-615f-4e7f-9310-d7e9ab9a5851",
   "metadata": {},
   "source": [
    "# statistics"
   ]
  },
  {
   "cell_type": "code",
   "execution_count": 27,
   "id": "0fec4f74-dfe2-4f8d-831f-2bd2b26a14e6",
   "metadata": {},
   "outputs": [
    {
     "data": {
      "text/html": [
       "<div>\n",
       "<style scoped>\n",
       "    .dataframe tbody tr th:only-of-type {\n",
       "        vertical-align: middle;\n",
       "    }\n",
       "\n",
       "    .dataframe tbody tr th {\n",
       "        vertical-align: top;\n",
       "    }\n",
       "\n",
       "    .dataframe thead th {\n",
       "        text-align: right;\n",
       "    }\n",
       "</style>\n",
       "<table border=\"1\" class=\"dataframe\">\n",
       "  <thead>\n",
       "    <tr style=\"text-align: right;\">\n",
       "      <th></th>\n",
       "      <th>MAPE</th>\n",
       "      <th>MSE</th>\n",
       "    </tr>\n",
       "    <tr>\n",
       "      <th>Cap_size</th>\n",
       "      <th></th>\n",
       "      <th></th>\n",
       "    </tr>\n",
       "  </thead>\n",
       "  <tbody>\n",
       "    <tr>\n",
       "      <th>large</th>\n",
       "      <td>18.135944</td>\n",
       "      <td>0.001772</td>\n",
       "    </tr>\n",
       "    <tr>\n",
       "      <th>medium</th>\n",
       "      <td>11.721484</td>\n",
       "      <td>0.002723</td>\n",
       "    </tr>\n",
       "    <tr>\n",
       "      <th>mega</th>\n",
       "      <td>4.510677</td>\n",
       "      <td>0.002959</td>\n",
       "    </tr>\n",
       "    <tr>\n",
       "      <th>micro</th>\n",
       "      <td>8.737888</td>\n",
       "      <td>0.006085</td>\n",
       "    </tr>\n",
       "    <tr>\n",
       "      <th>nano</th>\n",
       "      <td>12.102083</td>\n",
       "      <td>0.010148</td>\n",
       "    </tr>\n",
       "    <tr>\n",
       "      <th>small</th>\n",
       "      <td>8.174276</td>\n",
       "      <td>0.003519</td>\n",
       "    </tr>\n",
       "  </tbody>\n",
       "</table>\n",
       "</div>"
      ],
      "text/plain": [
       "               MAPE       MSE\n",
       "Cap_size                     \n",
       "large     18.135944  0.001772\n",
       "medium    11.721484  0.002723\n",
       "mega       4.510677  0.002959\n",
       "micro      8.737888  0.006085\n",
       "nano      12.102083  0.010148\n",
       "small      8.174276  0.003519"
      ]
     },
     "execution_count": 27,
     "metadata": {},
     "output_type": "execute_result"
    }
   ],
   "source": [
    "metrics_df_concat.groupby('Cap_size').mean()"
   ]
  },
  {
   "cell_type": "code",
   "execution_count": 28,
   "id": "4c619cc4-f9b9-40c5-a1f1-98718b158b79",
   "metadata": {},
   "outputs": [
    {
     "data": {
      "text/html": [
       "<div>\n",
       "<style scoped>\n",
       "    .dataframe tbody tr th:only-of-type {\n",
       "        vertical-align: middle;\n",
       "    }\n",
       "\n",
       "    .dataframe tbody tr th {\n",
       "        vertical-align: top;\n",
       "    }\n",
       "\n",
       "    .dataframe thead th {\n",
       "        text-align: right;\n",
       "    }\n",
       "</style>\n",
       "<table border=\"1\" class=\"dataframe\">\n",
       "  <thead>\n",
       "    <tr style=\"text-align: right;\">\n",
       "      <th></th>\n",
       "      <th>MAPE</th>\n",
       "      <th>MSE</th>\n",
       "    </tr>\n",
       "    <tr>\n",
       "      <th>Cap_size</th>\n",
       "      <th></th>\n",
       "      <th></th>\n",
       "    </tr>\n",
       "  </thead>\n",
       "  <tbody>\n",
       "    <tr>\n",
       "      <th>large</th>\n",
       "      <td>56.880323</td>\n",
       "      <td>0.001962</td>\n",
       "    </tr>\n",
       "    <tr>\n",
       "      <th>medium</th>\n",
       "      <td>35.163230</td>\n",
       "      <td>0.003383</td>\n",
       "    </tr>\n",
       "    <tr>\n",
       "      <th>mega</th>\n",
       "      <td>1.760932</td>\n",
       "      <td>0.006060</td>\n",
       "    </tr>\n",
       "    <tr>\n",
       "      <th>micro</th>\n",
       "      <td>15.691058</td>\n",
       "      <td>0.005612</td>\n",
       "    </tr>\n",
       "    <tr>\n",
       "      <th>nano</th>\n",
       "      <td>22.823316</td>\n",
       "      <td>0.012700</td>\n",
       "    </tr>\n",
       "    <tr>\n",
       "      <th>small</th>\n",
       "      <td>9.047646</td>\n",
       "      <td>0.004761</td>\n",
       "    </tr>\n",
       "  </tbody>\n",
       "</table>\n",
       "</div>"
      ],
      "text/plain": [
       "               MAPE       MSE\n",
       "Cap_size                     \n",
       "large     56.880323  0.001962\n",
       "medium    35.163230  0.003383\n",
       "mega       1.760932  0.006060\n",
       "micro     15.691058  0.005612\n",
       "nano      22.823316  0.012700\n",
       "small      9.047646  0.004761"
      ]
     },
     "execution_count": 28,
     "metadata": {},
     "output_type": "execute_result"
    }
   ],
   "source": [
    "metrics_df_concat.groupby('Cap_size').std()"
   ]
  },
  {
   "cell_type": "code",
   "execution_count": null,
   "id": "01322bd3-70be-47be-b900-2a042d84ae67",
   "metadata": {},
   "outputs": [],
   "source": []
  }
 ],
 "metadata": {
  "kernelspec": {
   "display_name": "Python 3",
   "language": "python",
   "name": "python3"
  },
  "language_info": {
   "codemirror_mode": {
    "name": "ipython",
    "version": 3
   },
   "file_extension": ".py",
   "mimetype": "text/x-python",
   "name": "python",
   "nbconvert_exporter": "python",
   "pygments_lexer": "ipython3",
   "version": "3.8.8"
  }
 },
 "nbformat": 4,
 "nbformat_minor": 5
}
