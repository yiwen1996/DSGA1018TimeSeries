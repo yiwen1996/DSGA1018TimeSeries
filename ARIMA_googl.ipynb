{
 "cells": [
  {
   "cell_type": "markdown",
   "id": "eb241684",
   "metadata": {},
   "source": [
    "## ARIMA predicting stock prices\n",
    "\n",
    "ARIMA predict stock prices --> convert to volatility"
   ]
  },
  {
   "cell_type": "code",
   "execution_count": 1,
   "id": "f25ecce4",
   "metadata": {},
   "outputs": [],
   "source": [
    "import datetime as dt\n",
    "import sys\n",
    "import numpy as np\n",
    "from numpy import cumsum, log, polyfit, sqrt, std, subtract\n",
    "from numpy.random import randn\n",
    "import pandas as pd\n",
    "from pandas_datareader import data as web\n",
    "import seaborn as sns\n",
    "from pylab import rcParams \n",
    "import matplotlib.pyplot as plt\n",
    "import matplotlib.cm as cm\n",
    "from arch import arch_model\n",
    "from numpy.linalg import LinAlgError\n",
    "from scipy import stats\n",
    "import statsmodels.api as sm\n",
    "import statsmodels.tsa.api as tsa\n",
    "from statsmodels.graphics.tsaplots import plot_acf, plot_pacf\n",
    "from statsmodels.tsa.stattools import acf, q_stat, adfuller\n",
    "from sklearn.metrics import mean_squared_error\n",
    "from scipy.stats import probplot, moment\n",
    "from arch import arch_model\n",
    "from arch.univariate import ConstantMean, GARCH, Normal\n",
    "from sklearn.model_selection import TimeSeriesSplit\n",
    "import warnings\n",
    "import yfinance as yf\n",
    "import keras"
   ]
  },
  {
   "cell_type": "code",
   "execution_count": 2,
   "id": "c0aa7a64",
   "metadata": {},
   "outputs": [],
   "source": [
    "from sklearn.linear_model import LinearRegression\n",
    "from statsmodels.tsa.arima_model import ARIMA\n",
    "from sklearn.metrics import mean_absolute_percentage_error"
   ]
  },
  {
   "cell_type": "markdown",
   "id": "709d28a0",
   "metadata": {},
   "source": [
    "Before 2021 train\n",
    "\n",
    "After 2021 predict"
   ]
  },
  {
   "cell_type": "markdown",
   "id": "c444371b",
   "metadata": {},
   "source": [
    "Loading data"
   ]
  },
  {
   "cell_type": "markdown",
   "id": "d5c6f6a5",
   "metadata": {},
   "source": [
    "Sampling stocks from each of 6 company cap sizes"
   ]
  },
  {
   "cell_type": "markdown",
   "id": "063c6e3f",
   "metadata": {},
   "source": [
    "Building ARIMA"
   ]
  },
  {
   "cell_type": "code",
   "execution_count": 6,
   "id": "ff00e82e",
   "metadata": {},
   "outputs": [],
   "source": [
    "# for cap in range(len(stocks_smp)):\n",
    "#     for stock in cap:\n",
    "#         # loading stock price data\n",
    "#         df_stock = yf.download(stock, start=\"2010-01-01\", end=\"2021-04-30\")\n",
    "#         # calculate daily logarithmic return\n",
    "#         df_stock['Return'] = (np.log(df_stock.Close /\n",
    "#             df_stock.Close.shift(-1)))\n",
    "#         df_stock = df_stock[:-1]\n",
    "#         # calculate daily standard deviation of returns\n",
    "#         daily_std = np.std(df_stock.Return)\n",
    "#         # annualized daily standard deviation\n",
    "#         std = daily_std * 252 ** 0.5\n",
    "        \n",
    "#         # split training and test set"
   ]
  },
  {
   "cell_type": "code",
   "execution_count": 37,
   "id": "b384956f",
   "metadata": {},
   "outputs": [],
   "source": [
    "def arima_prediction(train_data, test_data):\n",
    "    # Create list of x train values\n",
    "    history = [x for x in np.array(train_data.Close)]\n",
    "    # establish list for predictions\n",
    "    model_predictions = []\n",
    "\n",
    "    # Count number of test data points\n",
    "    N_test_observations = len(test_data)\n",
    "\n",
    "    # loop through every data point\n",
    "    for time_point in list(test_data.Date):\n",
    "        model = ARIMA(history, order=(1,1,0))\n",
    "        model_fit = model.fit(disp=0)\n",
    "        output = model_fit.forecast()\n",
    "        yhat = output[0][0]\n",
    "        model_predictions.append(yhat)\n",
    "        true_test_value = float(test_data[test_data.Date == time_point].Close)\n",
    "        history.append(true_test_value)\n",
    "#     MAE_error = keras.metrics.mean_absolute_error(x_test, model_predictions).numpy()\n",
    "#     MAPE_error = mean_absolute_percentage_error(x_test, model_predictions)\n",
    "#     print('Testing Mean Squared Error is {}'.format(MAE_error))\n",
    "#     print('Testing Mean Average Percentage Error is {}'.format(MAPE_error))\n",
    "#     %store model_predictions\n",
    "    model_predictions = np.diff(np.array(model_predictions)) / np.array(model_predictions)[1:]\n",
    "    return model_predictions"
   ]
  },
  {
   "cell_type": "markdown",
   "id": "4192845c",
   "metadata": {},
   "source": [
    "toy example"
   ]
  },
  {
   "cell_type": "code",
   "execution_count": 14,
   "id": "cfbcf7eb",
   "metadata": {},
   "outputs": [],
   "source": [
    "start_date=\"2018-01-01\"\n",
    "end_date=\"2021-12-31\"\n",
    "cut_date = '2021-01-01'\n",
    "aapl = yf.download(\"AAPL\", start=start_date, end=end_date,progress=False).reset_index().dropna()\n",
    "googl = yf.download(\"GOOGL\", start=start_date, end=end_date,progress=False).reset_index().dropna()"
   ]
  },
  {
   "cell_type": "code",
   "execution_count": 5,
   "id": "3b2e3b62",
   "metadata": {
    "scrolled": true
   },
   "outputs": [
    {
     "data": {
      "text/html": [
       "<div>\n",
       "<style scoped>\n",
       "    .dataframe tbody tr th:only-of-type {\n",
       "        vertical-align: middle;\n",
       "    }\n",
       "\n",
       "    .dataframe tbody tr th {\n",
       "        vertical-align: top;\n",
       "    }\n",
       "\n",
       "    .dataframe thead th {\n",
       "        text-align: right;\n",
       "    }\n",
       "</style>\n",
       "<table border=\"1\" class=\"dataframe\">\n",
       "  <thead>\n",
       "    <tr style=\"text-align: right;\">\n",
       "      <th></th>\n",
       "      <th>Date</th>\n",
       "      <th>Open</th>\n",
       "      <th>High</th>\n",
       "      <th>Low</th>\n",
       "      <th>Close</th>\n",
       "      <th>Adj Close</th>\n",
       "      <th>Volume</th>\n",
       "    </tr>\n",
       "  </thead>\n",
       "  <tbody>\n",
       "    <tr>\n",
       "      <th>0</th>\n",
       "      <td>2018-01-02</td>\n",
       "      <td>1053.020020</td>\n",
       "      <td>1075.979980</td>\n",
       "      <td>1053.020020</td>\n",
       "      <td>1073.209961</td>\n",
       "      <td>1073.209961</td>\n",
       "      <td>1588268</td>\n",
       "    </tr>\n",
       "    <tr>\n",
       "      <th>1</th>\n",
       "      <td>2018-01-03</td>\n",
       "      <td>1073.930054</td>\n",
       "      <td>1096.099976</td>\n",
       "      <td>1073.430054</td>\n",
       "      <td>1091.520020</td>\n",
       "      <td>1091.520020</td>\n",
       "      <td>1565945</td>\n",
       "    </tr>\n",
       "    <tr>\n",
       "      <th>2</th>\n",
       "      <td>2018-01-04</td>\n",
       "      <td>1097.089966</td>\n",
       "      <td>1104.076538</td>\n",
       "      <td>1094.260010</td>\n",
       "      <td>1095.760010</td>\n",
       "      <td>1095.760010</td>\n",
       "      <td>1302569</td>\n",
       "    </tr>\n",
       "    <tr>\n",
       "      <th>3</th>\n",
       "      <td>2018-01-05</td>\n",
       "      <td>1103.449951</td>\n",
       "      <td>1113.579956</td>\n",
       "      <td>1101.795044</td>\n",
       "      <td>1110.290039</td>\n",
       "      <td>1110.290039</td>\n",
       "      <td>1512526</td>\n",
       "    </tr>\n",
       "    <tr>\n",
       "      <th>4</th>\n",
       "      <td>2018-01-08</td>\n",
       "      <td>1111.000000</td>\n",
       "      <td>1119.160034</td>\n",
       "      <td>1110.000000</td>\n",
       "      <td>1114.209961</td>\n",
       "      <td>1114.209961</td>\n",
       "      <td>1232221</td>\n",
       "    </tr>\n",
       "    <tr>\n",
       "      <th>...</th>\n",
       "      <td>...</td>\n",
       "      <td>...</td>\n",
       "      <td>...</td>\n",
       "      <td>...</td>\n",
       "      <td>...</td>\n",
       "      <td>...</td>\n",
       "      <td>...</td>\n",
       "    </tr>\n",
       "    <tr>\n",
       "      <th>989</th>\n",
       "      <td>2021-12-06</td>\n",
       "      <td>2860.810059</td>\n",
       "      <td>2877.050049</td>\n",
       "      <td>2803.000000</td>\n",
       "      <td>2863.100098</td>\n",
       "      <td>2863.100098</td>\n",
       "      <td>1530905</td>\n",
       "    </tr>\n",
       "    <tr>\n",
       "      <th>990</th>\n",
       "      <td>2021-12-07</td>\n",
       "      <td>2911.929932</td>\n",
       "      <td>2950.623291</td>\n",
       "      <td>2904.550049</td>\n",
       "      <td>2945.389893</td>\n",
       "      <td>2945.389893</td>\n",
       "      <td>1612015</td>\n",
       "    </tr>\n",
       "    <tr>\n",
       "      <th>991</th>\n",
       "      <td>2021-12-08</td>\n",
       "      <td>2951.929932</td>\n",
       "      <td>2967.860107</td>\n",
       "      <td>2928.120117</td>\n",
       "      <td>2963.729980</td>\n",
       "      <td>2963.729980</td>\n",
       "      <td>1182594</td>\n",
       "    </tr>\n",
       "    <tr>\n",
       "      <th>992</th>\n",
       "      <td>2021-12-09</td>\n",
       "      <td>2951.820068</td>\n",
       "      <td>2982.000000</td>\n",
       "      <td>2942.300049</td>\n",
       "      <td>2952.770020</td>\n",
       "      <td>2952.770020</td>\n",
       "      <td>1139828</td>\n",
       "    </tr>\n",
       "    <tr>\n",
       "      <th>993</th>\n",
       "      <td>2021-12-10</td>\n",
       "      <td>2974.000000</td>\n",
       "      <td>2979.550049</td>\n",
       "      <td>2934.074951</td>\n",
       "      <td>2960.030029</td>\n",
       "      <td>2960.030029</td>\n",
       "      <td>1103755</td>\n",
       "    </tr>\n",
       "  </tbody>\n",
       "</table>\n",
       "<p>994 rows × 7 columns</p>\n",
       "</div>"
      ],
      "text/plain": [
       "          Date         Open         High          Low        Close  \\\n",
       "0   2018-01-02  1053.020020  1075.979980  1053.020020  1073.209961   \n",
       "1   2018-01-03  1073.930054  1096.099976  1073.430054  1091.520020   \n",
       "2   2018-01-04  1097.089966  1104.076538  1094.260010  1095.760010   \n",
       "3   2018-01-05  1103.449951  1113.579956  1101.795044  1110.290039   \n",
       "4   2018-01-08  1111.000000  1119.160034  1110.000000  1114.209961   \n",
       "..         ...          ...          ...          ...          ...   \n",
       "989 2021-12-06  2860.810059  2877.050049  2803.000000  2863.100098   \n",
       "990 2021-12-07  2911.929932  2950.623291  2904.550049  2945.389893   \n",
       "991 2021-12-08  2951.929932  2967.860107  2928.120117  2963.729980   \n",
       "992 2021-12-09  2951.820068  2982.000000  2942.300049  2952.770020   \n",
       "993 2021-12-10  2974.000000  2979.550049  2934.074951  2960.030029   \n",
       "\n",
       "       Adj Close   Volume  \n",
       "0    1073.209961  1588268  \n",
       "1    1091.520020  1565945  \n",
       "2    1095.760010  1302569  \n",
       "3    1110.290039  1512526  \n",
       "4    1114.209961  1232221  \n",
       "..           ...      ...  \n",
       "989  2863.100098  1530905  \n",
       "990  2945.389893  1612015  \n",
       "991  2963.729980  1182594  \n",
       "992  2952.770020  1139828  \n",
       "993  2960.030029  1103755  \n",
       "\n",
       "[994 rows x 7 columns]"
      ]
     },
     "execution_count": 5,
     "metadata": {},
     "output_type": "execute_result"
    }
   ],
   "source": [
    "googl"
   ]
  },
  {
   "cell_type": "code",
   "execution_count": 39,
   "id": "8155e549",
   "metadata": {},
   "outputs": [
    {
     "name": "stderr",
     "output_type": "stream",
     "text": [
      "/Users/yiwen/opt/anaconda3/lib/python3.8/site-packages/statsmodels/tsa/arima_model.py:472: FutureWarning: \n",
      "statsmodels.tsa.arima_model.ARMA and statsmodels.tsa.arima_model.ARIMA have\n",
      "been deprecated in favor of statsmodels.tsa.arima.model.ARIMA (note the .\n",
      "between arima and model) and\n",
      "statsmodels.tsa.SARIMAX. These will be removed after the 0.12 release.\n",
      "\n",
      "statsmodels.tsa.arima.model.ARIMA makes use of the statespace framework and\n",
      "is both well tested and maintained.\n",
      "\n",
      "To silence this warning and continue using ARMA and ARIMA until they are\n",
      "removed, use:\n",
      "\n",
      "import warnings\n",
      "warnings.filterwarnings('ignore', 'statsmodels.tsa.arima_model.ARMA',\n",
      "                        FutureWarning)\n",
      "warnings.filterwarnings('ignore', 'statsmodels.tsa.arima_model.ARIMA',\n",
      "                        FutureWarning)\n",
      "\n",
      "  warnings.warn(ARIMA_DEPRECATION_WARN, FutureWarning)\n"
     ]
    }
   ],
   "source": [
    "train_data, test_data = googl[googl.Date<cut_date],googl[googl.Date>=cut_date]\n",
    "\n",
    "model_input = train_data.dropna()\n",
    "actual_values = test_data.dropna()\n",
    "\n",
    "prediction = arima_prediction(model_input, actual_values)\n",
    "\n",
    "true_values = np.diff(np.array(actual_values.Close)) / np.array(actual_values.Close)[1:]"
   ]
  },
  {
   "cell_type": "code",
   "execution_count": 41,
   "id": "3f97b3ec",
   "metadata": {
    "scrolled": true
   },
   "outputs": [
    {
     "data": {
      "text/plain": [
       "<matplotlib.legend.Legend at 0x7f8818f63a00>"
      ]
     },
     "execution_count": 41,
     "metadata": {},
     "output_type": "execute_result"
    },
    {
     "data": {
      "image/png": "[encoded data removed]",
      "text/plain": [
       "<Figure size 432x288 with 1 Axes>"
      ]
     },
     "metadata": {
      "needs_background": "light"
     },
     "output_type": "display_data"
    }
   ],
   "source": [
    "plt.plot(prediction, label = 'predicted')\n",
    "plt.plot(true_values, label = 'true values')\n",
    "plt.legend()"
   ]
  },
  {
   "cell_type": "code",
   "execution_count": 40,
   "id": "a4de67c0",
   "metadata": {},
   "outputs": [
    {
     "data": {
      "text/html": [
       "<div>\n",
       "<style scoped>\n",
       "    .dataframe tbody tr th:only-of-type {\n",
       "        vertical-align: middle;\n",
       "    }\n",
       "\n",
       "    .dataframe tbody tr th {\n",
       "        vertical-align: top;\n",
       "    }\n",
       "\n",
       "    .dataframe thead th {\n",
       "        text-align: right;\n",
       "    }\n",
       "</style>\n",
       "<table border=\"1\" class=\"dataframe\">\n",
       "  <thead>\n",
       "    <tr style=\"text-align: right;\">\n",
       "      <th></th>\n",
       "      <th>pred</th>\n",
       "      <th>true</th>\n",
       "    </tr>\n",
       "  </thead>\n",
       "  <tbody>\n",
       "    <tr>\n",
       "      <th>0</th>\n",
       "      <td>-0.011659</td>\n",
       "      <td>0.008000</td>\n",
       "    </tr>\n",
       "    <tr>\n",
       "      <th>1</th>\n",
       "      <td>0.004553</td>\n",
       "      <td>-0.009966</td>\n",
       "    </tr>\n",
       "    <tr>\n",
       "      <th>2</th>\n",
       "      <td>-0.007267</td>\n",
       "      <td>0.029002</td>\n",
       "    </tr>\n",
       "    <tr>\n",
       "      <th>3</th>\n",
       "      <td>0.023283</td>\n",
       "      <td>0.013066</td>\n",
       "    </tr>\n",
       "    <tr>\n",
       "      <th>4</th>\n",
       "      <td>0.015510</td>\n",
       "      <td>-0.023652</td>\n",
       "    </tr>\n",
       "    <tr>\n",
       "      <th>...</th>\n",
       "      <td>...</td>\n",
       "      <td>...</td>\n",
       "    </tr>\n",
       "    <tr>\n",
       "      <th>232</th>\n",
       "      <td>-0.004599</td>\n",
       "      <td>0.008058</td>\n",
       "    </tr>\n",
       "    <tr>\n",
       "      <th>233</th>\n",
       "      <td>0.006453</td>\n",
       "      <td>0.027939</td>\n",
       "    </tr>\n",
       "    <tr>\n",
       "      <th>234</th>\n",
       "      <td>0.025894</td>\n",
       "      <td>0.006188</td>\n",
       "    </tr>\n",
       "    <tr>\n",
       "      <th>235</th>\n",
       "      <td>0.008517</td>\n",
       "      <td>-0.003712</td>\n",
       "    </tr>\n",
       "    <tr>\n",
       "      <th>236</th>\n",
       "      <td>-0.002677</td>\n",
       "      <td>0.002453</td>\n",
       "    </tr>\n",
       "  </tbody>\n",
       "</table>\n",
       "<p>237 rows × 2 columns</p>\n",
       "</div>"
      ],
      "text/plain": [
       "         pred      true\n",
       "0   -0.011659  0.008000\n",
       "1    0.004553 -0.009966\n",
       "2   -0.007267  0.029002\n",
       "3    0.023283  0.013066\n",
       "4    0.015510 -0.023652\n",
       "..        ...       ...\n",
       "232 -0.004599  0.008058\n",
       "233  0.006453  0.027939\n",
       "234  0.025894  0.006188\n",
       "235  0.008517 -0.003712\n",
       "236 -0.002677  0.002453\n",
       "\n",
       "[237 rows x 2 columns]"
      ]
     },
     "execution_count": 40,
     "metadata": {},
     "output_type": "execute_result"
    }
   ],
   "source": [
    "pd.DataFrame({'pred': prediction, 'true':true_values})"
   ]
  },
  {
   "cell_type": "code",
   "execution_count": 42,
   "id": "d80cbada",
   "metadata": {},
   "outputs": [],
   "source": [
    "pd.DataFrame({'pred': prediction, 'true':true_values}).to_csv('arima_googl.csv')"
   ]
  }
 ],
 "metadata": {
  "kernelspec": {
   "display_name": "Python 3",
   "language": "python",
   "name": "python3"
  },
  "language_info": {
   "codemirror_mode": {
    "name": "ipython",
    "version": 3
   },
   "file_extension": ".py",
   "mimetype": "text/x-python",
   "name": "python",
   "nbconvert_exporter": "python",
   "pygments_lexer": "ipython3",
   "version": "3.8.8"
  }
 },
 "nbformat": 4,
 "nbformat_minor": 5
}
