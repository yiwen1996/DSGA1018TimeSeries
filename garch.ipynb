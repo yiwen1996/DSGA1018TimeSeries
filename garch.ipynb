{
 "cells": [
  {
   "cell_type": "code",
   "execution_count": 1,
   "id": "7b9a9a39",
   "metadata": {},
   "outputs": [],
   "source": [
    "import sys\n",
    "import numpy as np\n",
    "import pandas as pd\n",
    "import datetime\n",
    "import seaborn as sns\n",
    "from pylab import rcParams \n",
    "import matplotlib.pyplot as plt\n",
    "import matplotlib.cm as cm\n",
    "import matplotlib.dates as mdates\n",
    "from arch import arch_model\n",
    "from scipy import stats\n",
    "import statsmodels.graphics.tsaplots as sgt\n",
    "import statsmodels.api as sm\n",
    "import statsmodels.tsa.api as tsa\n",
    "from statsmodels.graphics.tsaplots import plot_acf, plot_pacf\n",
    "from statsmodels.tsa.stattools import acf, q_stat, adfuller\n",
    "from scipy.stats import probplot, moment\n",
    "from arch import arch_model\n",
    "from arch.univariate import ConstantMean, GARCH, Normal\n",
    "from sklearn.model_selection import TimeSeriesSplit\n",
    "import warnings\n",
    "warnings.filterwarnings(\"ignore\")\n",
    "import yfinance as yf"
   ]
  },
  {
   "cell_type": "code",
   "execution_count": 9,
   "id": "563704a4",
   "metadata": {},
   "outputs": [],
   "source": [
    "def stock_data(stock_name):\n",
    "    df = yf.download(stock_name, start=\"2010-01-01\", end=\"2021-04-30\")\n",
    "    df['Return'] = df['Close'].pct_change().mul(100)\n",
    "    df = df.dropna()\n",
    "    train,test = df[df.index<'2021-01-01'],df[df.index>='2021-01-01']\n",
    "    return train['Return'], test['Return']"
   ]
  },
  {
   "cell_type": "code",
   "execution_count": 10,
   "id": "bcb4928e",
   "metadata": {},
   "outputs": [
    {
     "name": "stdout",
     "output_type": "stream",
     "text": [
      "[*********************100%***********************]  1 of 1 completed\n"
     ]
    }
   ],
   "source": [
    "train, test = stock_data('AAPL')"
   ]
  },
  {
   "cell_type": "code",
   "execution_count": 99,
   "id": "bcaecbca",
   "metadata": {},
   "outputs": [],
   "source": [
    "def garch_model(train, num_of_predictions):\n",
    "    data = pd.concat([train, test], axis=0)\n",
    "    basic_gm = arch_model(data, p=1, q=1, mean='ARX',\n",
    "                          vol = 'GARCH', dist = 'normal')\n",
    "    start_loc = 0\n",
    "    end_loc = np.where(data.index >= test.index[0])[0].min()\n",
    "    forecasts = {}\n",
    "    for i in range(num_of_predictions):\n",
    "        sys.stdout.write('.')\n",
    "        sys.stdout.flush()\n",
    "        res = basic_gm.fit(first_obs=i, last_obs=i + end_loc, disp='off', update_freq = 5)\n",
    "        temp = res.forecast(horizon=1).mean\n",
    "        \n",
    "        fcast = temp.iloc[i + end_loc - 1]\n",
    "        forecasts[fcast.name] = fcast\n",
    "    rolling = pd.DataFrame(forecasts).T\n",
    "    return rolling"
   ]
  },
  {
   "cell_type": "code",
   "execution_count": 100,
   "id": "3d3fff6a",
   "metadata": {},
   "outputs": [
    {
     "name": "stdout",
     "output_type": "stream",
     "text": [
      "................................................................................."
     ]
    }
   ],
   "source": [
    "predict = garch_model(train, len(test))['h.1'].values"
   ]
  },
  {
   "cell_type": "code",
   "execution_count": 103,
   "id": "8e498afb",
   "metadata": {},
   "outputs": [],
   "source": [
    "from sklearn.metrics import mean_absolute_error, mean_squared_error, mean_absolute_percentage_error\n",
    "\n",
    "def evaluation(observation, forecast): \n",
    "\n",
    "    mae = mean_absolute_error(observation, forecast)\n",
    "    print(f'Mean Absolute Error (MAE): {round(mae,4)}')\n",
    "\n",
    "    mse = mean_squared_error(observation, forecast)\n",
    "    print(f'Mean Squared Error (MSE): {round(mse,4)}')\n",
    "    \n",
    "    mape = mean_absolute_percentage_error(observation, forecast)\n",
    "    print(f'Mean Absolute Percentage Error (MAPE): {round(mape,4)}')\n",
    "    \n",
    "    return mae, mape"
   ]
  },
  {
   "cell_type": "code",
   "execution_count": 104,
   "id": "61ea213d",
   "metadata": {},
   "outputs": [
    {
     "name": "stdout",
     "output_type": "stream",
     "text": [
      "Mean Absolute Error (MAE): 1.5168\n",
      "Mean Squared Error (MSE): 3.7334\n",
      "Mean Absolute Percentage Error (MAPE): 1.0417\n"
     ]
    },
    {
     "data": {
      "text/plain": [
       "(1.5167663737970392, 1.0417192470560188)"
      ]
     },
     "execution_count": 104,
     "metadata": {},
     "output_type": "execute_result"
    }
   ],
   "source": [
    "evaluation(test, predict)"
   ]
  }
 ],
 "metadata": {
  "kernelspec": {
   "display_name": "Python 3 (ipykernel)",
   "language": "python",
   "name": "python3"
  },
  "language_info": {
   "codemirror_mode": {
    "name": "ipython",
    "version": 3
   },
   "file_extension": ".py",
   "mimetype": "text/x-python",
   "name": "python",
   "nbconvert_exporter": "python",
   "pygments_lexer": "ipython3",
   "version": "3.9.5"
  }
 },
 "nbformat": 4,
 "nbformat_minor": 5
}
