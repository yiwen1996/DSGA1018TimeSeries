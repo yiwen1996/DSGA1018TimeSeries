{
 "cells": [
  {
   "cell_type": "code",
   "execution_count": 199,
   "id": "d4364f44",
   "metadata": {},
   "outputs": [],
   "source": [
    "# install packages\n",
    "\n",
    "\n",
    "# import packages\n",
    "\n",
    "import pandas as pd\n",
    "import numpy as np\n",
    "import pandas as pd\n",
    "import yfinance as yf\n",
    "import matplotlib.pyplot as plt\n",
    "from sklearn.metrics import mean_squared_error\n",
    "from sklearn.metrics import mean_absolute_percentage_error\n",
    "import seaborn as sns\n",
    "#hmm\n",
    "from hmmlearn import hmm\n",
    "\n",
    "\n",
    "\n",
    "# format\n",
    "\n",
    "# def stock_data(stock_name -> str):\n",
    "\n",
    "# Return train_data, test_data \n",
    "\n",
    "\n",
    "# def  model_function(train_data -> np.array, num_of_predictions -> int):\n",
    "\n",
    "# \tReturn prediction \n",
    "\n",
    "\n",
    "# def evaluation(test_data -> np.array, prediction -> np.array):\n",
    "\t\n",
    "# \tReturn metrics\n"
   ]
  },
  {
   "cell_type": "markdown",
   "id": "63816f64",
   "metadata": {},
   "source": [
    "# pick stocks"
   ]
  },
  {
   "cell_type": "code",
   "execution_count": 84,
   "id": "2bb52442",
   "metadata": {},
   "outputs": [],
   "source": [
    "# load and group by cap size\n",
    "stocks_screener = pd.read_csv('nasdaq_screener_1637428146284.csv') #https://www.nasdaq.com/market-activity/stocks/screener\n",
    "stocks_screener = stocks_screener[stocks_screener['Market Cap'].notna()]\n",
    "\n",
    "M = 10**6\n",
    "B = 10**9\n",
    "\n",
    "bins =  np.array([0,50*M,300*M,2*B,10*B,200*B,np.inf])\n",
    "ind = np.digitize(stocks_screener['Market Cap'], bins)\n",
    "\n",
    "stocks_screener['Cap Group'] = ind\n",
    "\n",
    "gb = stocks_screener.groupby('Cap Group')\n",
    "list_of_groupbed_stocks = [gb.get_group(x) for x in gb.groups]\n",
    "\n",
    "cap_list = ['nano','micro','small','medium','large','mega']\n",
    "stock_cap_dict = dict()\n",
    "for i in range(len(cap_list)):\n",
    "    stock_cap_dict[cap_list[i]] = list_of_groupbed_stocks[i]['Symbol']\n",
    "    \n"
   ]
  },
  {
   "cell_type": "code",
   "execution_count": 85,
   "id": "12ea0252",
   "metadata": {},
   "outputs": [],
   "source": [
    "# def stock_picker(stock_dict = stock_cap_dict,cap = 'small',num_stocks = 100):\n",
    "    \n",
    "#     ticker_list = list((stock_dict[cap]).sample(n=num_stocks))\n",
    "\n",
    "#     return ticker_list"
   ]
  },
  {
   "cell_type": "code",
   "execution_count": 86,
   "id": "a18231d9",
   "metadata": {},
   "outputs": [],
   "source": [
    "# sample = stock_picker(cap = 'large',num_stocks = 10)\n",
    "# sample"
   ]
  },
  {
   "cell_type": "code",
   "execution_count": 87,
   "id": "db657eb2",
   "metadata": {},
   "outputs": [],
   "source": [
    "# def ticker_to_data(ticker = 'aapl',want_log = True):\n",
    "#     stock_data = yf.download(ticker, start=\"2018-01-01\", end=\"2021-12-31\").reset_index()\n",
    "#     stock_data['daily_return'] = (stock_data.Close /\n",
    "#         stock_data.Close.shift(-1)).dropna()\n",
    "    \n",
    "#     stock_data['Log_daily_return'] = np.log(stock_data['daily_return'])\n",
    "    \n",
    "#     train_full, test_full = stock_data[stock_data.Date<'2021-01-01'],stock_data[stock_data.Date>='2021-01-01']\n",
    "    \n",
    "#     print(ticker)\n",
    "#     print(len(train_full))\n",
    "#     print(len(test_full))\n",
    "#     if want_log:    \n",
    "#         train_close,test_close = np.array(train_full.Log_daily_return),np.array(test_full.Log_daily_return)\n",
    "#     else:\n",
    "#         train_close,test_close = np.array(train_full.daily_return),np.array(test_full.daily_return)\n",
    "#     return train_close,test_close,stock_data"
   ]
  },
  {
   "cell_type": "code",
   "execution_count": 188,
   "id": "c9724a6f",
   "metadata": {},
   "outputs": [],
   "source": [
    "def pick_stock_get_data(stock_dict = stock_cap_dict,cap = 'small',num_stocks = 100,want_log = True,start_date=\"2018-01-01\",\n",
    "                        end_date=\"2021-12-31\",cut_date = '2021-01-01' ):\n",
    "    \n",
    "    #length standards\n",
    "    stock_data = yf.download('AAPL', start=start_date, end=end_date,progress=False).reset_index()\n",
    "    standard_length = len(stock_data)\n",
    "    \n",
    "    count = 0\n",
    "    \n",
    "    resample_count = 0\n",
    "    \n",
    "    train_data = {}\n",
    "    test_data = {}\n",
    "    \n",
    "    while count<num_stocks:\n",
    "        \n",
    "        length = 0\n",
    "        \n",
    "        resample_count-=1\n",
    "        \n",
    "        while length!=standard_length:\n",
    "            resample_count+=1\n",
    "            stock_sample =  list((stock_dict[cap]).sample(n=1))[0]\n",
    "            stock_data = yf.download(stock_sample, start=start_date, end=end_date,progress = False).reset_index()\n",
    "            length = len(stock_data)\n",
    "        \n",
    "        \n",
    "        stock_data['daily_return'] = (stock_data.Close /stock_data.Close.shift(-1)).dropna()\n",
    "        \n",
    "        stock_data['Log_daily_return'] = np.log(stock_data.Close /stock_data.Close.shift(-1).dropna())\n",
    "        \n",
    "        train_full, test_full = stock_data[stock_data.Date<cut_date],stock_data[stock_data.Date>=cut_date]\n",
    "        \n",
    "        if want_log:\n",
    "        \n",
    "            train_data[stock_sample],test_data[stock_sample] = np.array(train_full.Log_daily_return),np.array(test_full.Log_daily_return.dropna())\n",
    "            \n",
    "        else:\n",
    "            \n",
    "            train_data[stock_sample],test_data[stock_sample] = np.array(train_full.daily_return),np.array(test_full.daily_return.dropna())\n",
    "        \n",
    "        count+=1\n",
    "        \n",
    "    # print(resample_count)\n",
    "    return train_data,test_data"
   ]
  },
  {
   "cell_type": "markdown",
   "id": "6783f82d",
   "metadata": {},
   "source": [
    "# evaluation"
   ]
  },
  {
   "cell_type": "code",
   "execution_count": 189,
   "id": "713e2129",
   "metadata": {},
   "outputs": [],
   "source": [
    "def reject_outliers(data, m=1.5):\n",
    "    ceiling = np.mean(data)+ m * np.std(data)\n",
    "    floor = np.mean(data)- m * np.std(data)\n",
    "    \n",
    "    return np.clip(data,a_min = floor, a_max = ceiling)"
   ]
  },
  {
   "cell_type": "code",
   "execution_count": 190,
   "id": "53a4b12b",
   "metadata": {},
   "outputs": [],
   "source": [
    "def evaluation_metrics(test_data, predictions):\n",
    "    metrics = {}\n",
    "    \n",
    "    metrics['MAPE'] = mean_absolute_percentage_error(predictions,test_data)\n",
    "    metrics['MSE'] = mean_squared_error(test_data,predictions)\n",
    "    \n",
    "    return metrics"
   ]
  },
  {
   "cell_type": "markdown",
   "id": "7a09e1ce",
   "metadata": {},
   "source": [
    "# Models"
   ]
  },
  {
   "cell_type": "code",
   "execution_count": 191,
   "id": "28ef8212",
   "metadata": {},
   "outputs": [],
   "source": [
    "def hmm_prediction(train_data,num_of_predictions):\n",
    "    hmm_model = hmm.GaussianHMM(n_components=3, covariance_type=\"full\", n_iter=1000)\n",
    "    hmm_model.fit(train_data)\n",
    "    \n",
    "    predict_state = hmm_model.predict(train_data)\n",
    "    \n",
    "    hmm_prediction = hmm_model.sample(num_of_predictions,random_state = predict_state[-1])\n",
    "    hmm_prediction_value = hmm_prediction[0]\n",
    "    hmm_prediction_states = hmm_prediction[1]\n",
    "    \n",
    "    return hmm_prediction_value"
   ]
  },
  {
   "cell_type": "markdown",
   "id": "14209f4c",
   "metadata": {},
   "source": [
    "# Pipeline"
   ]
  },
  {
   "cell_type": "code",
   "execution_count": 192,
   "id": "53beee21",
   "metadata": {},
   "outputs": [],
   "source": [
    "train_data, test_data = pick_stock_get_data(stock_dict = stock_cap_dict,cap = 'large',num_stocks = 100,want_log = True,start_date=\"2018-01-01\",\n",
    "                        end_date=\"2021-12-31\",cut_date = '2021-01-01' )"
   ]
  },
  {
   "cell_type": "code",
   "execution_count": 193,
   "id": "cf3f95fd",
   "metadata": {},
   "outputs": [],
   "source": [
    "result_metric_dict = {}\n",
    "for stock_ticker in train_data.keys():\n",
    "    prediction = hmm_prediction(train_data[stock_ticker].reshape(-1,1),len(test_data[stock_ticker]))\n",
    "#     print(prediction)\n",
    "#     print(test_data[stock_ticker].reshape(-1,1))\n",
    "    result_metric_dict[stock_ticker] = evaluation_metrics(test_data[stock_ticker].reshape(-1,1),prediction)\n",
    "    "
   ]
  },
  {
   "cell_type": "code",
   "execution_count": 194,
   "id": "bc6beb56",
   "metadata": {},
   "outputs": [
    {
     "data": {
      "text/plain": [
       "{'LOGI': {'MAPE': 4.482386117897929, 'MSE': 0.0007594251691599487},\n",
       " 'OKTA': {'MAPE': 3.8157542423880875, 'MSE': 0.002733068892557216},\n",
       " 'AAL': {'MAPE': 3.9585207929950146, 'MSE': 0.0014465571345573347},\n",
       " 'GLPI': {'MAPE': 5.328686214508663, 'MSE': 0.0003260021364535395},\n",
       " 'ROST': {'MAPE': 9.482605525564574, 'MSE': 0.0006279171336446155},\n",
       " 'MNST': {'MAPE': 3.3343538769048253, 'MSE': 0.0005285656797528556},\n",
       " 'CZR': {'MAPE': 6.7726523126036255, 'MSE': 0.002387661147813895},\n",
       " 'TECH': {'MAPE': 4.1176090128676, 'MSE': 0.00128061001926346},\n",
       " 'NVAX': {'MAPE': 3.7841099643417064, 'MSE': 0.008532147944932447},\n",
       " 'TER': {'MAPE': 5.4420720882583735, 'MSE': 0.0012533150215654596},\n",
       " 'LSXMA': {'MAPE': 3.5429733844911127, 'MSE': 0.0022799928819711565},\n",
       " 'FANG': {'MAPE': 8.001238779226696, 'MSE': 0.001568315098105408},\n",
       " 'NWS': {'MAPE': 5.0999280751995135, 'MSE': 0.001333123090378635},\n",
       " 'IAC': {'MAPE': 5.990454916198364, 'MSE': 0.0015212608047751833},\n",
       " 'QRVO': {'MAPE': 2.8991740198489495, 'MSE': 0.0013577781038817628},\n",
       " 'UAL': {'MAPE': 12.676704217787218, 'MSE': 0.0033535542489132536},\n",
       " 'MDB': {'MAPE': 4.7068719826682885, 'MSE': 0.0034471604037916567},\n",
       " 'FFIV': {'MAPE': 4.938848138762968, 'MSE': 0.0008747332241666232},\n",
       " 'FWONK': {'MAPE': 2.514875480895176, 'MSE': 0.0017652210684202063},\n",
       " 'AMD': {'MAPE': 8.433175005312306, 'MSE': 0.0016681427372262935},\n",
       " 'EBAY': {'MAPE': 6.301715968507756, 'MSE': 0.0008482590708581767},\n",
       " 'MDLZ': {'MAPE': 3.267094627794698, 'MSE': 0.0002043741935493531},\n",
       " 'SNPS': {'MAPE': 7.9190737421594255, 'MSE': 0.0008371911524918716},\n",
       " 'HSIC': {'MAPE': 3.8670470074320153, 'MSE': 0.0009024875086671562},\n",
       " 'VIAC': {'MAPE': 7.705882401979846, 'MSE': 0.0019114430091523563},\n",
       " 'EXPD': {'MAPE': 4.191412955833554, 'MSE': 0.0005640778770720291},\n",
       " 'HBAN': {'MAPE': 20.028793378652136, 'MSE': 0.0007872042949706735},\n",
       " 'CHRW': {'MAPE': 4.355533363659613, 'MSE': 0.00046127990325502604},\n",
       " 'SIRI': {'MAPE': 4.0224130033791665, 'MSE': 0.0005595930469939311},\n",
       " 'AKAM': {'MAPE': 5.53291615721169, 'MSE': 0.0008862322743572369},\n",
       " 'BMRN': {'MAPE': 2.3000208823972272, 'MSE': 0.0016940419011039537},\n",
       " 'SBNY': {'MAPE': 4.766384970697204, 'MSE': 0.002577891508822732},\n",
       " 'BKNG': {'MAPE': 4.833236307082634, 'MSE': 0.0010589514867244403},\n",
       " 'INTU': {'MAPE': 7.429668800710732, 'MSE': 0.0011140971342668597},\n",
       " 'DISH': {'MAPE': 3.9177692924040093, 'MSE': 0.0011644233645354456},\n",
       " 'FWONA': {'MAPE': 2.5935550231626734, 'MSE': 0.0006006502812979244},\n",
       " 'HON': {'MAPE': 6.375242043770555, 'MSE': 0.00030236394849403336},\n",
       " 'PAYX': {'MAPE': 7.773797455513832, 'MSE': 0.0013123619139945792},\n",
       " 'EQIX': {'MAPE': 5.630789066878361, 'MSE': 0.0004564253432147257},\n",
       " 'REGN': {'MAPE': 3.0275671659922265, 'MSE': 0.000657175307704801},\n",
       " 'MTCH': {'MAPE': 8.947115548290341, 'MSE': 0.002110133040654721},\n",
       " 'PODD': {'MAPE': 4.525707358285884, 'MSE': 0.0012353375595249346},\n",
       " 'ATVI': {'MAPE': 3.286225873193058, 'MSE': 0.0008781242808626979},\n",
       " 'AEP': {'MAPE': 380.9604519975601, 'MSE': 0.0002743558395270058},\n",
       " 'TRMB': {'MAPE': 9.7025435884471, 'MSE': 0.0018340763513505069},\n",
       " 'COUP': {'MAPE': 5.438563900376616, 'MSE': 0.0020038379192421824},\n",
       " 'LNT': {'MAPE': 3.909580080727197, 'MSE': 0.0002598986955064748},\n",
       " 'MASI': {'MAPE': 6.285768610104286, 'MSE': 0.0009201689963080628},\n",
       " 'CG': {'MAPE': 14.98199896951528, 'MSE': 0.002315973359927081},\n",
       " 'MORN': {'MAPE': 6.627788595291622, 'MSE': 0.00045261907865533574},\n",
       " 'DISCB': {'MAPE': 16.56704288302692, 'MSE': 0.008912086131529254},\n",
       " 'FITB': {'MAPE': 3.2566966748915487, 'MSE': 0.0016846550502813513},\n",
       " 'LAMR': {'MAPE': 5.815270390675923, 'MSE': 0.0004816527388978483},\n",
       " 'HAS': {'MAPE': 4.163679233848532, 'MSE': 0.0006180250375525788},\n",
       " 'CTXS': {'MAPE': 4.121892851507656, 'MSE': 0.001162339916141047},\n",
       " 'NTAP': {'MAPE': 2.534658041598352, 'MSE': 0.0008198161861128083},\n",
       " 'ORLY': {'MAPE': 3.9563186563519883, 'MSE': 0.001267846683884002},\n",
       " 'CTAS': {'MAPE': 3.788579883120569, 'MSE': 0.0016969038215896865},\n",
       " 'REG': {'MAPE': 3.352597831775104, 'MSE': 0.002291936661820694},\n",
       " 'PLUG': {'MAPE': 4.855636589884374, 'MSE': 0.005839862986798426},\n",
       " 'NLOK': {'MAPE': 3.938546538967586, 'MSE': 0.001244731184043167},\n",
       " 'STLD': {'MAPE': 8.005336535061103, 'MSE': 0.001162844907770643},\n",
       " 'NDSN': {'MAPE': 4.503262806338989, 'MSE': 0.0005423919506919096},\n",
       " 'GILD': {'MAPE': 2.421220482269395, 'MSE': 0.0006655027224495115},\n",
       " 'AMGN': {'MAPE': 4.021559155737097, 'MSE': 0.00042333405547055283},\n",
       " 'UHAL': {'MAPE': 19.521230918966463, 'MSE': 0.0005672582706587502},\n",
       " 'SBAC': {'MAPE': 3.49619980893663, 'MSE': 0.0005379112868886069},\n",
       " 'ANSS': {'MAPE': 6.872800981487368, 'MSE': 0.0006950668711909852},\n",
       " 'XLNX': {'MAPE': 5.504848844363384, 'MSE': 0.001369209135179826},\n",
       " 'EXAS': {'MAPE': 3.9361494195939595, 'MSE': 0.002912819006227727},\n",
       " 'CAR': {'MAPE': 4.400460232498621, 'MSE': 0.006644148852731132},\n",
       " 'CDNS': {'MAPE': 6.9173410075996955, 'MSE': 0.0013737508113155006}}"
      ]
     },
     "execution_count": 194,
     "metadata": {},
     "output_type": "execute_result"
    }
   ],
   "source": [
    "result_metric_dict"
   ]
  },
  {
   "cell_type": "code",
   "execution_count": 210,
   "id": "2964325a",
   "metadata": {},
   "outputs": [],
   "source": [
    "metrics_df = pd.DataFrame(result_metric_dict).T\n",
    "metrics_df = metrics_df[metrics_df['MAPE']<10]"
   ]
  },
  {
   "cell_type": "code",
   "execution_count": 211,
   "id": "a0ac0886",
   "metadata": {},
   "outputs": [
    {
     "data": {
      "text/plain": [
       "4.482386117897929"
      ]
     },
     "execution_count": 211,
     "metadata": {},
     "output_type": "execute_result"
    }
   ],
   "source": [
    "metrics_df.iloc[0].max()"
   ]
  },
  {
   "cell_type": "code",
   "execution_count": 212,
   "id": "7ba37ace",
   "metadata": {},
   "outputs": [
    {
     "data": {
      "text/plain": [
       "<AxesSubplot:ylabel='Frequency'>"
      ]
     },
     "execution_count": 212,
     "metadata": {},
     "output_type": "execute_result"
    },
    {
     "data": {
      "image/png": "[encoded data removed]",
      "text/plain": [
       "<Figure size 432x288 with 1 Axes>"
      ]
     },
     "metadata": {
      "needs_background": "light"
     },
     "output_type": "display_data"
    }
   ],
   "source": [
    "metrics_df.iloc[0].plot.hist()"
   ]
  },
  {
   "cell_type": "code",
   "execution_count": 215,
   "id": "431cfdf6",
   "metadata": {},
   "outputs": [
    {
     "data": {
      "text/plain": [
       "<AxesSubplot:xlabel='MAPE', ylabel='Count'>"
      ]
     },
     "execution_count": 215,
     "metadata": {},
     "output_type": "execute_result"
    },
    {
     "data": {
      "image/png": "[encoded data removed]",
      "text/plain": [
       "<Figure size 432x288 with 1 Axes>"
      ]
     },
     "metadata": {
      "needs_background": "light"
     },
     "output_type": "display_data"
    }
   ],
   "source": [
    "sns.histplot(data=metrics_df['MAPE'], kde=True)"
   ]
  },
  {
   "cell_type": "code",
   "execution_count": null,
   "id": "08321edc",
   "metadata": {},
   "outputs": [],
   "source": []
  }
 ],
 "metadata": {
  "kernelspec": {
   "display_name": "Python 3 (ipykernel)",
   "language": "python",
   "name": "python3"
  },
  "language_info": {
   "codemirror_mode": {
    "name": "ipython",
    "version": 3
   },
   "file_extension": ".py",
   "mimetype": "text/x-python",
   "name": "python",
   "nbconvert_exporter": "python",
   "pygments_lexer": "ipython3",
   "version": "3.8.12"
  }
 },
 "nbformat": 4,
 "nbformat_minor": 5
}
