{
 "cells": [
  {
   "cell_type": "code",
   "execution_count": null,
   "id": "91a78a4a-6f7e-465a-a00a-971d161de0f3",
   "metadata": {},
   "outputs": [],
   "source": [
    "# install packages\n",
    "\n",
    "\n",
    "# import packages\n",
    "\n",
    "\n",
    "\n",
    "# format\n",
    "\n",
    "# def stock_data(stock_name -> str):\n",
    "\n",
    "# Return train_data, test_data \n",
    "\n",
    "\n",
    "# def  model_function(train_data -> np.array, num_of_predictions -> int):\n",
    "\n",
    "# \tReturn prediction \n",
    "\n",
    "\n",
    "# def evaluation(test_data -> np.array, prediction -> np.array):\n",
    "\t\n",
    "# \tReturn metrics\n"
   ]
  }
 ],
 "metadata": {
  "kernelspec": {
   "display_name": "Python 3",
   "language": "python",
   "name": "python3"
  },
  "language_info": {
   "codemirror_mode": {
    "name": "ipython",
    "version": 3
   },
   "file_extension": ".py",
   "mimetype": "text/x-python",
   "name": "python",
   "nbconvert_exporter": "python",
   "pygments_lexer": "ipython3",
   "version": "3.8.8"
  }
 },
 "nbformat": 4,
 "nbformat_minor": 5
}
