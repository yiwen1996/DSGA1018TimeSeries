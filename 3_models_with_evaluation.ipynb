{
 "cells": [
  {
   "cell_type": "code",
   "execution_count": 1,
   "id": "925297d8",
   "metadata": {},
   "outputs": [],
   "source": [
    "# install packages\n",
    "\n",
    "\n",
    "# import packages\n",
    "\n",
    "import pandas as pd\n",
    "import numpy as np\n",
    "import pandas as pd\n",
    "import yfinance as yf\n",
    "import matplotlib.pyplot as plt\n",
    "from sklearn.metrics import mean_squared_error\n",
    "from sklearn.metrics import mean_absolute_percentage_error\n",
    "import seaborn as sns\n",
    "#hmm\n",
    "from hmmlearn import hmm\n",
    "\n",
    "\n",
    "\n",
    "# format\n",
    "\n",
    "# def stock_data(stock_name -> str):\n",
    "\n",
    "# Return train_data, test_data \n",
    "\n",
    "\n",
    "# def  model_function(train_data -> np.array, num_of_predictions -> int):\n",
    "\n",
    "# \tReturn prediction \n",
    "\n",
    "\n",
    "# def evaluation(test_data -> np.array, prediction -> np.array):\n",
    "\t\n",
    "# \tReturn metrics\n"
   ]
  },
  {
   "cell_type": "markdown",
   "id": "cbd6d20d",
   "metadata": {},
   "source": [
    "# pick stocks"
   ]
  },
  {
   "cell_type": "code",
   "execution_count": 2,
   "id": "0599ca1b",
   "metadata": {},
   "outputs": [],
   "source": [
    "# load and group by cap size\n",
    "stocks_screener = pd.read_csv('nasdaq_screener_1637428146284.csv') #https://www.nasdaq.com/market-activity/stocks/screener\n",
    "stocks_screener = stocks_screener[stocks_screener['Market Cap'].notna()]\n",
    "\n",
    "M = 10**6\n",
    "B = 10**9\n",
    "\n",
    "bins =  np.array([0,50*M,300*M,2*B,10*B,200*B,np.inf])\n",
    "ind = np.digitize(stocks_screener['Market Cap'], bins)\n",
    "\n",
    "stocks_screener['Cap Group'] = ind\n",
    "\n",
    "gb = stocks_screener.groupby('Cap Group')\n",
    "list_of_groupbed_stocks = [gb.get_group(x) for x in gb.groups]\n",
    "\n",
    "cap_list = ['nano','micro','small','medium','large','mega']\n",
    "stock_cap_dict = dict()\n",
    "for i in range(len(cap_list)):\n",
    "    stock_cap_dict[cap_list[i]] = list_of_groupbed_stocks[i]['Symbol']\n",
    "    \n"
   ]
  },
  {
   "cell_type": "code",
   "execution_count": 3,
   "id": "a2a4eb29",
   "metadata": {},
   "outputs": [],
   "source": [
    "# def stock_picker(stock_dict = stock_cap_dict,cap = 'small',num_stocks = 100):\n",
    "    \n",
    "#     ticker_list = list((stock_dict[cap]).sample(n=num_stocks))\n",
    "\n",
    "#     return ticker_list"
   ]
  },
  {
   "cell_type": "code",
   "execution_count": 4,
   "id": "33955ba8",
   "metadata": {},
   "outputs": [],
   "source": [
    "# sample = stock_picker(cap = 'large',num_stocks = 10)\n",
    "# sample"
   ]
  },
  {
   "cell_type": "code",
   "execution_count": 5,
   "id": "59a2245d",
   "metadata": {},
   "outputs": [],
   "source": [
    "# def ticker_to_data(ticker = 'aapl',want_log = True):\n",
    "#     stock_data = yf.download(ticker, start=\"2018-01-01\", end=\"2021-12-31\").reset_index()\n",
    "#     stock_data['daily_return'] = (stock_data.Close /\n",
    "#         stock_data.Close.shift(-1)).dropna()\n",
    "    \n",
    "#     stock_data['Log_daily_return'] = np.log(stock_data['daily_return'])\n",
    "    \n",
    "#     train_full, test_full = stock_data[stock_data.Date<'2021-01-01'],stock_data[stock_data.Date>='2021-01-01']\n",
    "    \n",
    "#     print(ticker)\n",
    "#     print(len(train_full))\n",
    "#     print(len(test_full))\n",
    "#     if want_log:    \n",
    "#         train_close,test_close = np.array(train_full.Log_daily_return),np.array(test_full.Log_daily_return)\n",
    "#     else:\n",
    "#         train_close,test_close = np.array(train_full.daily_return),np.array(test_full.daily_return)\n",
    "#     return train_close,test_close,stock_data"
   ]
  },
  {
   "cell_type": "code",
   "execution_count": 6,
   "id": "61b4a080",
   "metadata": {},
   "outputs": [],
   "source": [
    "def pick_stock_get_data(stock_dict = stock_cap_dict,cap = 'small',num_stocks = 100,want_log = True,start_date=\"2018-01-01\",\n",
    "                        end_date=\"2021-12-31\",cut_date = '2021-01-01' ):\n",
    "    \n",
    "    #length standards\n",
    "    stock_data = yf.download('AAPL', start=start_date, end=end_date,progress=False).reset_index()\n",
    "    standard_length = len(stock_data)\n",
    "    \n",
    "    count = 0\n",
    "    \n",
    "    resample_count = 0\n",
    "    \n",
    "    train_data = {}\n",
    "    test_data = {}\n",
    "    \n",
    "    while count<num_stocks:\n",
    "        \n",
    "        length = 0\n",
    "        \n",
    "        resample_count-=1\n",
    "        \n",
    "        while length!=standard_length:\n",
    "            resample_count+=1\n",
    "            stock_sample =  list((stock_dict[cap]).sample(n=1))[0]\n",
    "            stock_data = yf.download(stock_sample, start=start_date, end=end_date,progress = False).reset_index().dropna()\n",
    "            length = len(stock_data)\n",
    "        \n",
    "        \n",
    "        stock_data['daily_return'] = (stock_data.Close /stock_data.Close.shift(-1)).dropna()\n",
    "        \n",
    "        stock_data['Log_daily_return'] = np.log(stock_data.Close /stock_data.Close.shift(-1).dropna())\n",
    "        \n",
    "        train_full, test_full = stock_data[stock_data.Date<cut_date],stock_data[stock_data.Date>=cut_date]\n",
    "        \n",
    "        if want_log:\n",
    "        \n",
    "            train_data[stock_sample],test_data[stock_sample] = np.array(train_full.Log_daily_return),np.array(test_full.Log_daily_return.dropna())\n",
    "            \n",
    "        else:\n",
    "            \n",
    "            train_data[stock_sample],test_data[stock_sample] = np.array(train_full.daily_return),np.array(test_full.daily_return.dropna())\n",
    "        \n",
    "        count+=1\n",
    "        \n",
    "    # print(resample_count)\n",
    "    return train_data,test_data"
   ]
  },
  {
   "cell_type": "markdown",
   "id": "06373229",
   "metadata": {},
   "source": [
    "# evaluation"
   ]
  },
  {
   "cell_type": "code",
   "execution_count": 7,
   "id": "b206eff1",
   "metadata": {},
   "outputs": [],
   "source": [
    "def reject_outliers(data, m=1.5):\n",
    "    ceiling = np.mean(data)+ m * np.std(data)\n",
    "    floor = np.mean(data)- m * np.std(data)\n",
    "    \n",
    "    return np.clip(data,a_min = floor, a_max = ceiling)"
   ]
  },
  {
   "cell_type": "code",
   "execution_count": 8,
   "id": "cca4e068",
   "metadata": {},
   "outputs": [],
   "source": [
    "def evaluation_metrics(test_data, predictions):\n",
    "    metrics = {}\n",
    "    \n",
    "    metrics['MAPE'] = mean_absolute_percentage_error(predictions,test_data)\n",
    "    metrics['MSE'] = mean_squared_error(test_data,predictions)\n",
    "    \n",
    "    return metrics"
   ]
  },
  {
   "cell_type": "markdown",
   "id": "e083c9bc",
   "metadata": {},
   "source": [
    "# Models"
   ]
  },
  {
   "cell_type": "code",
   "execution_count": 9,
   "id": "9cd846d4",
   "metadata": {},
   "outputs": [],
   "source": [
    "def hmm_prediction(train_data,num_of_predictions):\n",
    "    hmm_model = hmm.GaussianHMM(n_components=3, covariance_type=\"full\", n_iter=1000)\n",
    "    hmm_model.fit(train_data)\n",
    "    \n",
    "    predict_state = hmm_model.predict(train_data)\n",
    "    \n",
    "    hmm_prediction = hmm_model.sample(num_of_predictions,random_state = predict_state[-1])\n",
    "    hmm_prediction_value = hmm_prediction[0]\n",
    "    hmm_prediction_states = hmm_prediction[1]\n",
    "    \n",
    "    return hmm_prediction_value"
   ]
  },
  {
   "cell_type": "markdown",
   "id": "0d708440",
   "metadata": {},
   "source": [
    "# Pipeline"
   ]
  },
  {
   "cell_type": "code",
   "execution_count": 60,
   "id": "6e61f800",
   "metadata": {},
   "outputs": [
    {
     "name": "stdout",
     "output_type": "stream",
     "text": [
      "\n",
      "1 Failed download:\n",
      "- MBTCR: None\n",
      "\n",
      "1 Failed download:\n",
      "- IMAQR: None\n",
      "\n",
      "1 Failed download:\n",
      "- CLOER: None\n",
      "\n",
      "1 Failed download:\n",
      "- IMAQR: None\n",
      "\n",
      "1 Failed download:\n",
      "- ADOCR: None\n"
     ]
    }
   ],
   "source": [
    "metrics_df_concat = pd.DataFrame()\n",
    "\n",
    "for cap_size in cap_list:\n",
    "    result_metric_dict = {}\n",
    "    train_data, test_data = pick_stock_get_data(stock_dict = stock_cap_dict,cap = cap_size,num_stocks = 100,want_log = True,start_date=\"2018-01-01\",\n",
    "                        end_date=\"2021-12-31\",cut_date = '2021-01-01' )\n",
    "    for stock_ticker in train_data.keys():\n",
    "        prediction = hmm_prediction(train_data[stock_ticker].reshape(-1,1),len(test_data[stock_ticker]))\n",
    "        result_metric_dict[stock_ticker] = evaluation_metrics(test_data[stock_ticker].reshape(-1,1),prediction)\n",
    "\n",
    "    metrics_df = pd.DataFrame(result_metric_dict).T\n",
    "    metrics_df['Cap_size'] = cap_size\n",
    "    \n",
    "    metrics_df_concat = metrics_df_concat.append(metrics_df)"
   ]
  },
  {
   "cell_type": "code",
   "execution_count": 61,
   "id": "75de0f3e",
   "metadata": {},
   "outputs": [
    {
     "data": {
      "text/html": [
       "<div>\n",
       "<style scoped>\n",
       "    .dataframe tbody tr th:only-of-type {\n",
       "        vertical-align: middle;\n",
       "    }\n",
       "\n",
       "    .dataframe tbody tr th {\n",
       "        vertical-align: top;\n",
       "    }\n",
       "\n",
       "    .dataframe thead th {\n",
       "        text-align: right;\n",
       "    }\n",
       "</style>\n",
       "<table border=\"1\" class=\"dataframe\">\n",
       "  <thead>\n",
       "    <tr style=\"text-align: right;\">\n",
       "      <th></th>\n",
       "      <th>MAPE</th>\n",
       "      <th>MSE</th>\n",
       "      <th>Cap_size</th>\n",
       "    </tr>\n",
       "  </thead>\n",
       "  <tbody>\n",
       "    <tr>\n",
       "      <th>KEQU</th>\n",
       "      <td>4.844797</td>\n",
       "      <td>0.001553</td>\n",
       "      <td>nano</td>\n",
       "    </tr>\n",
       "    <tr>\n",
       "      <th>RAND</th>\n",
       "      <td>4.202498</td>\n",
       "      <td>0.001364</td>\n",
       "      <td>nano</td>\n",
       "    </tr>\n",
       "    <tr>\n",
       "      <th>BPOPM</th>\n",
       "      <td>3.990621</td>\n",
       "      <td>0.000156</td>\n",
       "      <td>nano</td>\n",
       "    </tr>\n",
       "    <tr>\n",
       "      <th>FNHC</th>\n",
       "      <td>5.575913</td>\n",
       "      <td>0.003548</td>\n",
       "      <td>nano</td>\n",
       "    </tr>\n",
       "    <tr>\n",
       "      <th>CLRB</th>\n",
       "      <td>392.203296</td>\n",
       "      <td>0.005992</td>\n",
       "      <td>nano</td>\n",
       "    </tr>\n",
       "    <tr>\n",
       "      <th>...</th>\n",
       "      <td>...</td>\n",
       "      <td>...</td>\n",
       "      <td>...</td>\n",
       "    </tr>\n",
       "    <tr>\n",
       "      <th>INTC</th>\n",
       "      <td>3.042695</td>\n",
       "      <td>0.001840</td>\n",
       "      <td>mega</td>\n",
       "    </tr>\n",
       "    <tr>\n",
       "      <th>CSCO</th>\n",
       "      <td>2.567271</td>\n",
       "      <td>0.000507</td>\n",
       "      <td>mega</td>\n",
       "    </tr>\n",
       "    <tr>\n",
       "      <th>AMZN</th>\n",
       "      <td>3.664484</td>\n",
       "      <td>0.000866</td>\n",
       "      <td>mega</td>\n",
       "    </tr>\n",
       "    <tr>\n",
       "      <th>ADI</th>\n",
       "      <td>6.870318</td>\n",
       "      <td>0.000644</td>\n",
       "      <td>mega</td>\n",
       "    </tr>\n",
       "    <tr>\n",
       "      <th>PEP</th>\n",
       "      <td>2.931306</td>\n",
       "      <td>0.000197</td>\n",
       "      <td>mega</td>\n",
       "    </tr>\n",
       "  </tbody>\n",
       "</table>\n",
       "<p>447 rows × 3 columns</p>\n",
       "</div>"
      ],
      "text/plain": [
       "             MAPE       MSE Cap_size\n",
       "KEQU     4.844797  0.001553     nano\n",
       "RAND     4.202498  0.001364     nano\n",
       "BPOPM    3.990621  0.000156     nano\n",
       "FNHC     5.575913  0.003548     nano\n",
       "CLRB   392.203296  0.005992     nano\n",
       "...           ...       ...      ...\n",
       "INTC     3.042695  0.001840     mega\n",
       "CSCO     2.567271  0.000507     mega\n",
       "AMZN     3.664484  0.000866     mega\n",
       "ADI      6.870318  0.000644     mega\n",
       "PEP      2.931306  0.000197     mega\n",
       "\n",
       "[447 rows x 3 columns]"
      ]
     },
     "execution_count": 61,
     "metadata": {},
     "output_type": "execute_result"
    }
   ],
   "source": [
    "metrics_df_concat"
   ]
  },
  {
   "cell_type": "code",
   "execution_count": 55,
   "id": "743990c6",
   "metadata": {},
   "outputs": [],
   "source": [
    "# result_metric_dict"
   ]
  },
  {
   "cell_type": "code",
   "execution_count": 56,
   "id": "31bcd91a",
   "metadata": {},
   "outputs": [],
   "source": [
    "# metrics_df = pd.DataFrame(result_metric_dict).T\n",
    "# metrics_df = metrics_df[metrics_df['MAPE']<10]"
   ]
  },
  {
   "cell_type": "code",
   "execution_count": 58,
   "id": "471be344",
   "metadata": {},
   "outputs": [],
   "source": [
    "# metrics_df.iloc[0].max()"
   ]
  },
  {
   "cell_type": "code",
   "execution_count": 67,
   "id": "9b646a12",
   "metadata": {},
   "outputs": [],
   "source": [
    "metrics_df_concat_truncated = metrics_df_concat[metrics_df_concat['MAPE']<100]"
   ]
  },
  {
   "cell_type": "code",
   "execution_count": 62,
   "id": "e4d0fa4a",
   "metadata": {},
   "outputs": [
    {
     "data": {
      "text/plain": [
       "<AxesSubplot:xlabel='MAPE', ylabel='Count'>"
      ]
     },
     "execution_count": 62,
     "metadata": {},
     "output_type": "execute_result"
    },
    {
     "data": {
      "image/png": "[encoded data removed]",
      "text/plain": [
       "<Figure size 432x288 with 1 Axes>"
      ]
     },
     "metadata": {
      "needs_background": "light"
     },
     "output_type": "display_data"
    }
   ],
   "source": [
    "sns.histplot(data = metrics_df_concat\n",
    "            ,x = 'MAPE'\n",
    "            ,alpha = .7\n",
    "            ,hue = 'Cap_size'\n",
    "            ,kde=True\n",
    "            )"
   ]
  },
  {
   "cell_type": "code",
   "execution_count": 68,
   "id": "ec73356c",
   "metadata": {},
   "outputs": [
    {
     "data": {
      "text/plain": [
       "<AxesSubplot:xlabel='MAPE', ylabel='Count'>"
      ]
     },
     "execution_count": 68,
     "metadata": {},
     "output_type": "execute_result"
    },
    {
     "data": {
      "image/png": "[encoded data removed]",
      "text/plain": [
       "<Figure size 432x288 with 1 Axes>"
      ]
     },
     "metadata": {
      "needs_background": "light"
     },
     "output_type": "display_data"
    }
   ],
   "source": [
    "sns.histplot(data = metrics_df_concat_truncated\n",
    "            ,x = 'MAPE'\n",
    "            ,alpha = .7\n",
    "            ,hue = 'Cap_size'\n",
    "            ,kde=True\n",
    "            )"
   ]
  },
  {
   "cell_type": "code",
   "execution_count": null,
   "id": "685cb5c9",
   "metadata": {},
   "outputs": [],
   "source": []
  }
 ],
 "metadata": {
  "kernelspec": {
   "display_name": "Python 3 (ipykernel)",
   "language": "python",
   "name": "python3"
  },
  "language_info": {
   "codemirror_mode": {
    "name": "ipython",
    "version": 3
   },
   "file_extension": ".py",
   "mimetype": "text/x-python",
   "name": "python",
   "nbconvert_exporter": "python",
   "pygments_lexer": "ipython3",
   "version": "3.8.12"
  }
 },
 "nbformat": 4,
 "nbformat_minor": 5
}
