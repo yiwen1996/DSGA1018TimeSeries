{
 "cells": [
  {
   "cell_type": "code",
   "execution_count": 26,
   "id": "91a78a4a-6f7e-465a-a00a-971d161de0f3",
   "metadata": {},
   "outputs": [],
   "source": [
    "# install packages\n",
    "\n",
    "\n",
    "# import packages\n",
    "\n",
    "import pandas as pd\n",
    "import numpy as np\n",
    "import pandas as pd\n",
    "import yfinance as yf\n",
    "\n",
    "\n",
    "# format\n",
    "\n",
    "# def stock_data(stock_name -> str):\n",
    "\n",
    "# Return train_data, test_data \n",
    "\n",
    "\n",
    "# def  model_function(train_data -> np.array, num_of_predictions -> int):\n",
    "\n",
    "# \tReturn prediction \n",
    "\n",
    "\n",
    "# def evaluation(test_data -> np.array, prediction -> np.array):\n",
    "\t\n",
    "# \tReturn metrics\n"
   ]
  },
  {
   "cell_type": "markdown",
   "id": "bf95bb3a-2d62-480e-a84e-c4e1c09e4bca",
   "metadata": {},
   "source": [
    "# pick stocks"
   ]
  },
  {
   "cell_type": "code",
   "execution_count": 27,
   "id": "dee82025-b8e7-43c9-9001-8cd5ddbfd50a",
   "metadata": {},
   "outputs": [],
   "source": [
    "# load and group by cap size\n",
    "stocks_screener = pd.read_csv('nasdaq_screener_1637385342488.csv') #https://www.nasdaq.com/market-activity/stocks/screener\n",
    "stocks_screener = stocks_screener[stocks_screener['Market Cap'].notna()]\n",
    "\n",
    "M = 10**6\n",
    "B = 10**9\n",
    "\n",
    "bins =  np.array([0,50*M,300*M,2*B,10*B,200*B,np.inf])\n",
    "ind = np.digitize(stocks_screener['Market Cap'], bins)\n",
    "\n",
    "stocks_screener['Cap Group'] = ind\n",
    "\n",
    "gb = stocks_screener.groupby('Cap Group')\n",
    "list_of_groupbed_stocks = [gb.get_group(x) for x in gb.groups]\n",
    "\n",
    "cap_list = ['nano','micro','small','medium','large','mega']\n",
    "stock_cap_dict = dict()\n",
    "for i in range(len(cap_list)):\n",
    "    stock_cap_dict[cap_list[i]] = list_of_groupbed_stocks[i]['Symbol']\n",
    "    \n"
   ]
  },
  {
   "cell_type": "code",
   "execution_count": 28,
   "id": "4df5822f-c03a-4eb3-bf94-19228ceb498b",
   "metadata": {},
   "outputs": [],
   "source": [
    "def stock_picker(stock_dict = stock_cap_dict,cap = 'nano',num_stocks = 100):\n",
    "    \n",
    "    ticker_list = list((stock_dict[cap]).sample(n=num_stocks))\n",
    "\n",
    "    return ticker_list"
   ]
  },
  {
   "cell_type": "code",
   "execution_count": 61,
   "id": "f7602cc7-f238-4390-a2bf-8b9bc6eb0e0a",
   "metadata": {},
   "outputs": [
    {
     "data": {
      "text/plain": [
       "['GOOG', 'BABA', 'JNJ', 'COST', 'ABBV', 'WMT', 'ADBE', 'GOOGL', 'V', 'CVX']"
      ]
     },
     "execution_count": 61,
     "metadata": {},
     "output_type": "execute_result"
    }
   ],
   "source": [
    "sample = stock_picker(cap = 'mega',num_stocks = 10)\n",
    "sample"
   ]
  },
  {
   "cell_type": "code",
   "execution_count": 62,
   "id": "f1d8aa4c-e866-4ea1-b56d-d65f2a361b01",
   "metadata": {},
   "outputs": [],
   "source": [
    "def ticker_to_data(ticker = 'aapl',want_log = True):\n",
    "    stock_data = yf.download(ticker, start=\"2010-01-01\", end=\"2021-12-31\").reset_index()\n",
    "    stock_data['daily_return'] = (stock_data.Close /\n",
    "        stock_data.Close.shift(-1)).dropna()\n",
    "    \n",
    "    stock_data['Log_daily_return'] = np.log(stock_data['daily_return'])\n",
    "    \n",
    "    train_full, test_full = stock_data[stock_data.Date<'2021-01-01'],stock_data[stock_data.Date>='2021-01-01']\n",
    "    \n",
    "    print(ticker)\n",
    "    print(len(train_full))\n",
    "    if want_log:    \n",
    "        train_close,test_close = np.array(train_full.Log_daily_return),np.array(test_full.Log_daily_return)\n",
    "    else:\n",
    "        train_close,test_close = np.array(train_full.daily_return),np.array(test_full.daily_return)\n",
    "    return train_close,test_close,stock_data"
   ]
  },
  {
   "cell_type": "code",
   "execution_count": 63,
   "id": "b90647f9-4bce-4bdd-822a-81d446feea5c",
   "metadata": {},
   "outputs": [
    {
     "name": "stdout",
     "output_type": "stream",
     "text": [
      "[*********************100%***********************]  1 of 1 completed\n",
      "GOOG\n",
      "2769\n",
      "[*********************100%***********************]  1 of 1 completed\n",
      "BABA\n",
      "1583\n",
      "[*********************100%***********************]  1 of 1 completed\n",
      "JNJ\n",
      "2769\n",
      "[*********************100%***********************]  1 of 1 completed\n",
      "COST\n",
      "2769\n",
      "[*********************100%***********************]  1 of 1 completed\n",
      "ABBV\n",
      "2015\n",
      "[*********************100%***********************]  1 of 1 completed\n",
      "WMT\n",
      "2769\n",
      "[*********************100%***********************]  1 of 1 completed\n",
      "ADBE\n",
      "2769\n",
      "[*********************100%***********************]  1 of 1 completed\n",
      "GOOGL\n",
      "2769\n",
      "[*********************100%***********************]  1 of 1 completed\n",
      "V\n",
      "2769\n",
      "[*********************100%***********************]  1 of 1 completed\n",
      "CVX\n",
      "2769\n"
     ]
    }
   ],
   "source": [
    "for ele in sample:\n",
    "    ticker_to_data(ele)\n",
    "    "
   ]
  },
  {
   "cell_type": "code",
   "execution_count": null,
   "id": "9a64b310-b5e2-46a6-a944-898b00aee30f",
   "metadata": {},
   "outputs": [],
   "source": []
  }
 ],
 "metadata": {
  "kernelspec": {
   "display_name": "Python 3",
   "language": "python",
   "name": "python3"
  },
  "language_info": {
   "codemirror_mode": {
    "name": "ipython",
    "version": 3
   },
   "file_extension": ".py",
   "mimetype": "text/x-python",
   "name": "python",
   "nbconvert_exporter": "python",
   "pygments_lexer": "ipython3",
   "version": "3.8.8"
  }
 },
 "nbformat": 4,
 "nbformat_minor": 5
}
