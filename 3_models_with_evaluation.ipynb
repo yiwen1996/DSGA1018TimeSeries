{
 "cells": [
  {
   "cell_type": "code",
   "execution_count": 83,
   "id": "1a330674",
   "metadata": {},
   "outputs": [],
   "source": [
    "# install packages\n",
    "\n",
    "\n",
    "# import packages\n",
    "\n",
    "import pandas as pd\n",
    "import numpy as np\n",
    "import pandas as pd\n",
    "import yfinance as yf\n",
    "import matplotlib.pyplot as plt\n",
    "from sklearn.metrics import mean_squared_error\n",
    "from sklearn.metrics import mean_absolute_percentage_error\n",
    "\n",
    "#hmm\n",
    "from hmmlearn import hmm\n",
    "\n",
    "\n",
    "\n",
    "# format\n",
    "\n",
    "# def stock_data(stock_name -> str):\n",
    "\n",
    "# Return train_data, test_data \n",
    "\n",
    "\n",
    "# def  model_function(train_data -> np.array, num_of_predictions -> int):\n",
    "\n",
    "# \tReturn prediction \n",
    "\n",
    "\n",
    "# def evaluation(test_data -> np.array, prediction -> np.array):\n",
    "\t\n",
    "# \tReturn metrics\n"
   ]
  },
  {
   "cell_type": "markdown",
   "id": "90fedf5a",
   "metadata": {},
   "source": [
    "# pick stocks"
   ]
  },
  {
   "cell_type": "code",
   "execution_count": 84,
   "id": "316e6224",
   "metadata": {},
   "outputs": [],
   "source": [
    "# load and group by cap size\n",
    "stocks_screener = pd.read_csv('nasdaq_screener_1637428146284.csv') #https://www.nasdaq.com/market-activity/stocks/screener\n",
    "stocks_screener = stocks_screener[stocks_screener['Market Cap'].notna()]\n",
    "\n",
    "M = 10**6\n",
    "B = 10**9\n",
    "\n",
    "bins =  np.array([0,50*M,300*M,2*B,10*B,200*B,np.inf])\n",
    "ind = np.digitize(stocks_screener['Market Cap'], bins)\n",
    "\n",
    "stocks_screener['Cap Group'] = ind\n",
    "\n",
    "gb = stocks_screener.groupby('Cap Group')\n",
    "list_of_groupbed_stocks = [gb.get_group(x) for x in gb.groups]\n",
    "\n",
    "cap_list = ['nano','micro','small','medium','large','mega']\n",
    "stock_cap_dict = dict()\n",
    "for i in range(len(cap_list)):\n",
    "    stock_cap_dict[cap_list[i]] = list_of_groupbed_stocks[i]['Symbol']\n",
    "    \n"
   ]
  },
  {
   "cell_type": "code",
   "execution_count": 85,
   "id": "094d9127",
   "metadata": {},
   "outputs": [],
   "source": [
    "# def stock_picker(stock_dict = stock_cap_dict,cap = 'small',num_stocks = 100):\n",
    "    \n",
    "#     ticker_list = list((stock_dict[cap]).sample(n=num_stocks))\n",
    "\n",
    "#     return ticker_list"
   ]
  },
  {
   "cell_type": "code",
   "execution_count": 86,
   "id": "cc8755a0",
   "metadata": {},
   "outputs": [],
   "source": [
    "# sample = stock_picker(cap = 'large',num_stocks = 10)\n",
    "# sample"
   ]
  },
  {
   "cell_type": "code",
   "execution_count": 87,
   "id": "0acc8a13",
   "metadata": {},
   "outputs": [],
   "source": [
    "# def ticker_to_data(ticker = 'aapl',want_log = True):\n",
    "#     stock_data = yf.download(ticker, start=\"2018-01-01\", end=\"2021-12-31\").reset_index()\n",
    "#     stock_data['daily_return'] = (stock_data.Close /\n",
    "#         stock_data.Close.shift(-1)).dropna()\n",
    "    \n",
    "#     stock_data['Log_daily_return'] = np.log(stock_data['daily_return'])\n",
    "    \n",
    "#     train_full, test_full = stock_data[stock_data.Date<'2021-01-01'],stock_data[stock_data.Date>='2021-01-01']\n",
    "    \n",
    "#     print(ticker)\n",
    "#     print(len(train_full))\n",
    "#     print(len(test_full))\n",
    "#     if want_log:    \n",
    "#         train_close,test_close = np.array(train_full.Log_daily_return),np.array(test_full.Log_daily_return)\n",
    "#     else:\n",
    "#         train_close,test_close = np.array(train_full.daily_return),np.array(test_full.daily_return)\n",
    "#     return train_close,test_close,stock_data"
   ]
  },
  {
   "cell_type": "code",
   "execution_count": 120,
   "id": "54b2cd85",
   "metadata": {},
   "outputs": [],
   "source": [
    "def pick_stock_get_data(stock_dict = stock_cap_dict,cap = 'small',num_stocks = 100,want_log = True,start_date=\"2018-01-01\",\n",
    "                        end_date=\"2021-12-31\",cut_date = '2021-01-01' ):\n",
    "    \n",
    "    #length standards\n",
    "    stock_data = yf.download('AAPL', start=start_date, end=end_date,progress=False).reset_index()\n",
    "    standard_length = len(stock_data)\n",
    "    \n",
    "    count = 0\n",
    "    \n",
    "    resample_count = 0\n",
    "    \n",
    "    train_data = {}\n",
    "    test_data = {}\n",
    "    \n",
    "    while count<num_stocks:\n",
    "        \n",
    "        length = 0\n",
    "        \n",
    "        resample_count-=1\n",
    "        \n",
    "        while length!=standard_length:\n",
    "            resample_count+=1\n",
    "            stock_sample =  list((stock_dict[cap]).sample(n=1))[0]\n",
    "            stock_data = yf.download(stock_sample, start=start_date, end=end_date,progress = False).reset_index()\n",
    "            length = len(stock_data)\n",
    "        \n",
    "        \n",
    "        stock_data['daily_return'] = (stock_data.Close /stock_data.Close.shift(-1)).dropna()\n",
    "        \n",
    "        stock_data['Log_daily_return'] = np.log(stock_data.Close /stock_data.Close.shift(-1).dropna())\n",
    "        \n",
    "        train_full, test_full = stock_data[stock_data.Date<cut_date],stock_data[stock_data.Date>=cut_date]\n",
    "        \n",
    "        if want_log:\n",
    "        \n",
    "            train_data[stock_sample],test_data[stock_sample] = np.array(train_full.Log_daily_return),np.array(test_full.Log_daily_return.dropna())\n",
    "            \n",
    "        else:\n",
    "            \n",
    "            train_data[stock_sample],test_data[stock_sample] = np.array(train_full.daily_return),np.array(test_full.daily_return.dropna())\n",
    "        \n",
    "        count+=1\n",
    "        \n",
    "    # print(resample_count)\n",
    "    return train_data,test_data"
   ]
  },
  {
   "cell_type": "markdown",
   "id": "cf5cd051",
   "metadata": {},
   "source": [
    "# evaluation"
   ]
  },
  {
   "cell_type": "code",
   "execution_count": 121,
   "id": "d6f7a6f1",
   "metadata": {},
   "outputs": [],
   "source": [
    "def evaluation_metrics(test_data, predictions):\n",
    "    metrics = {}\n",
    "    \n",
    "    metrics['MAPE'] = mean_absolute_percentage_error(test_data,predictions)\n",
    "    metrics['MSE'] = mean_squared_error(test_data,predictions)\n",
    "    \n",
    "    return metrics"
   ]
  },
  {
   "cell_type": "markdown",
   "id": "bd92e654",
   "metadata": {},
   "source": [
    "# Models"
   ]
  },
  {
   "cell_type": "code",
   "execution_count": 122,
   "id": "36416f49",
   "metadata": {},
   "outputs": [],
   "source": [
    "def hmm_prediction(train_data,num_of_predictions):\n",
    "    hmm_model = hmm.GaussianHMM(n_components=3, covariance_type=\"full\", n_iter=1000)\n",
    "    hmm_model.fit(train_data)\n",
    "    \n",
    "    predict_state = hmm_model.predict(train_data)\n",
    "    \n",
    "    hmm_prediction = hmm_model.sample(num_of_predictions,random_state = predict_state[-1])\n",
    "    hmm_prediction_value = hmm_prediction[0]\n",
    "    hmm_prediction_states = hmm_prediction[1]\n",
    "    \n",
    "    return hmm_prediction_value"
   ]
  },
  {
   "cell_type": "markdown",
   "id": "c5b68075",
   "metadata": {},
   "source": [
    "# Pipeline"
   ]
  },
  {
   "cell_type": "code",
   "execution_count": 123,
   "id": "e3bcd0da",
   "metadata": {},
   "outputs": [],
   "source": [
    "train_data, test_data = pick_stock_get_data(stock_dict = stock_cap_dict,cap = 'mega',num_stocks = 10,want_log = True,start_date=\"2018-01-01\",\n",
    "                        end_date=\"2021-12-31\",cut_date = '2021-01-01' )"
   ]
  },
  {
   "cell_type": "code",
   "execution_count": 125,
   "id": "e09fffb1",
   "metadata": {},
   "outputs": [],
   "source": [
    "result_metric_dict = {}\n",
    "for stock_ticker in train_data.keys():\n",
    "    prediction = hmm_prediction(train_data[stock_ticker].reshape(-1,1),len(test_data[stock_ticker]))\n",
    "#     print(prediction)\n",
    "#     print(test_data[stock_ticker].reshape(-1,1))\n",
    "    result_metric_dict[stock_ticker] = evaluation_metrics(test_data[stock_ticker].reshape(-1,1),prediction)\n",
    "    "
   ]
  },
  {
   "cell_type": "code",
   "execution_count": 126,
   "id": "5a07b7f4",
   "metadata": {},
   "outputs": [
    {
     "data": {
      "text/plain": [
       "{'GOOG': {'MAPE': 7.045578606406814, 'MSE': 0.00045345042102858715},\n",
       " 'AVGO': {'MAPE': 11.624359653191302, 'MSE': 0.0010208392704500896},\n",
       " 'PEP': {'MAPE': 560903598350.4701, 'MSE': 0.00019785666696348002},\n",
       " 'GOOGL': {'MAPE': 5.655165231156859, 'MSE': 0.0007599165852169242},\n",
       " 'NFLX': {'MAPE': 5.627561929043375, 'MSE': 0.000996791974646674},\n",
       " 'TSLA': {'MAPE': 6.669393544188645, 'MSE': 0.003175488701375668},\n",
       " 'AMZN': {'MAPE': 8.454044018363007, 'MSE': 0.0009336313330947464},\n",
       " 'NVDA': {'MAPE': 478223090419.9012, 'MSE': 0.00190258752806548},\n",
       " 'AAPL': {'MAPE': 5.92632078273325, 'MSE': 0.0007595028719405565}}"
      ]
     },
     "execution_count": 126,
     "metadata": {},
     "output_type": "execute_result"
    }
   ],
   "source": [
    "result_metric_dict"
   ]
  },
  {
   "cell_type": "code",
   "execution_count": null,
   "id": "d104a977",
   "metadata": {},
   "outputs": [],
   "source": []
  }
 ],
 "metadata": {
  "kernelspec": {
   "display_name": "Python 3 (ipykernel)",
   "language": "python",
   "name": "python3"
  },
  "language_info": {
   "codemirror_mode": {
    "name": "ipython",
    "version": 3
   },
   "file_extension": ".py",
   "mimetype": "text/x-python",
   "name": "python",
   "nbconvert_exporter": "python",
   "pygments_lexer": "ipython3",
   "version": "3.8.12"
  }
 },
 "nbformat": 4,
 "nbformat_minor": 5
}
